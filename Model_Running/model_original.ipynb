{
  "nbformat": 4,
  "nbformat_minor": 0,
  "metadata": {
    "colab": {
      "name": "model_original.ipynb",
      "provenance": [],
      "collapsed_sections": []
    },
    "kernelspec": {
      "name": "python3",
      "display_name": "Python 3"
    },
    "language_info": {
      "name": "python"
    }
  },
  "cells": [
    {
      "cell_type": "code",
      "source": [
        "import numpy as np \n",
        "import json \n",
        "import pandas as pd \n",
        "from sklearn.feature_extraction.text import CountVectorizer, HashingVectorizer, TfidfVectorizer\n",
        "from scipy import sparse \n",
        "import pickle "
      ],
      "metadata": {
        "id": "ez0V9R5JQ8_K"
      },
      "execution_count": null,
      "outputs": []
    },
    {
      "cell_type": "code",
      "source": [
        "train_path ='./data/train_processed.csv'\n",
        "val_path =  './data/val_processed.csv'\n",
        "test_path = './data/test_processed.csv'\n",
        "\n",
        "train = pd.read_csv(train_path)\n",
        "val = pd.read_csv(val_path)\n",
        "test = pd.read_csv(test_path)"
      ],
      "metadata": {
        "id": "olw4mZy6PJvu"
      },
      "execution_count": null,
      "outputs": []
    },
    {
      "cell_type": "code",
      "source": [
        "train.head()"
      ],
      "metadata": {
        "colab": {
          "base_uri": "https://localhost:8080/",
          "height": 620
        },
        "id": "iV3DONAiRGhW",
        "outputId": "0b3f62ba-7071-43c9-bc91-792efb2c7cee"
      },
      "execution_count": null,
      "outputs": [
        {
          "output_type": "execute_result",
          "data": {
            "text/plain": [
              "   Unnamed: 0  Unnamed: 0.1  Unnamed: 0.1.1               review_id  \\\n",
              "0           0             0               0  O4RZMP8IFyJTNfRp0QXEsw   \n",
              "1           1             1               1  66KqTwiQ1oB9-aTsoEN35Q   \n",
              "2           2             2               2  3KQ3_xutS5R3mX7HsPWpgw   \n",
              "3           3             3               3  p659sFGjbL8chCRZPPyFmg   \n",
              "4           4             4               4  1XEm85LhDeiUHdG0R_rXSQ   \n",
              "\n",
              "                  user_id             business_id  stars        date  \\\n",
              "0  u0LXt3Uea_GidxRW1xcsfg  vcxvQyAggPqxcHwvJXvjGg      4  2017-01-04   \n",
              "1  u0LXt3Uea_GidxRW1xcsfg  DKiRDPtQ5cTN-eX1oEgA9w      3  2017-01-04   \n",
              "2  u0LXt3Uea_GidxRW1xcsfg  zkU-WMio8g6dpRJ2Y2xqvQ      4  2017-01-04   \n",
              "3  u0LXt3Uea_GidxRW1xcsfg  3RlylOY452bA8rwliPUeUQ      4  2017-01-04   \n",
              "4  u0LXt3Uea_GidxRW1xcsfg  sTV4qyjDkY5cLvx2omtLyw      4  2017-02-07   \n",
              "\n",
              "                                                text  useful  ...    year  \\\n",
              "0  Love this place!\\n\\nThe cakes are delicious bu...     0.0  ...  2017.0   \n",
              "1  It's a pub... nice and clean one.\\n\\nCame here...     0.0  ...  2017.0   \n",
              "2  Came here for dim sum - it's one of those mark...     0.0  ...  2017.0   \n",
              "3  My sister loves this place! Probably comes by ...     1.0  ...  2017.0   \n",
              "4  Nice addition to the Distillery district! Stum...     1.0  ...  2017.0   \n",
              "\n",
              "   month  day  language                                       cleaned_text  \\\n",
              "0    1.0  4.0        en  Love place cake delicious really rich cute cup...   \n",
              "1    1.0  4.0        en  pub nice clean one Came grab food girl since T...   \n",
              "2    1.0  4.0        en  Came dim sum one mark sheet order dim sum pret...   \n",
              "3    1.0  4.0        en  sister love place Probably come week every two...   \n",
              "4    2.0  7.0        en  Nice addition Distillery district Stumbled upo...   \n",
              "\n",
              "  funny_label cool_label  useful_label  funny_sampled_flag  cool_sampled_flag  \n",
              "0           0          0             0                   0                  0  \n",
              "1           0          0             0                   0                  0  \n",
              "2           0          0             0                   0                  0  \n",
              "3           0          0             1                   1                  1  \n",
              "4           0          0             1                   0                  0  \n",
              "\n",
              "[5 rows x 22 columns]"
            ],
            "text/html": [
              "\n",
              "  <div id=\"df-606bcd54-0cd5-4b55-9ab5-c614ad06de46\">\n",
              "    <div class=\"colab-df-container\">\n",
              "      <div>\n",
              "<style scoped>\n",
              "    .dataframe tbody tr th:only-of-type {\n",
              "        vertical-align: middle;\n",
              "    }\n",
              "\n",
              "    .dataframe tbody tr th {\n",
              "        vertical-align: top;\n",
              "    }\n",
              "\n",
              "    .dataframe thead th {\n",
              "        text-align: right;\n",
              "    }\n",
              "</style>\n",
              "<table border=\"1\" class=\"dataframe\">\n",
              "  <thead>\n",
              "    <tr style=\"text-align: right;\">\n",
              "      <th></th>\n",
              "      <th>Unnamed: 0</th>\n",
              "      <th>Unnamed: 0.1</th>\n",
              "      <th>Unnamed: 0.1.1</th>\n",
              "      <th>review_id</th>\n",
              "      <th>user_id</th>\n",
              "      <th>business_id</th>\n",
              "      <th>stars</th>\n",
              "      <th>date</th>\n",
              "      <th>text</th>\n",
              "      <th>useful</th>\n",
              "      <th>...</th>\n",
              "      <th>year</th>\n",
              "      <th>month</th>\n",
              "      <th>day</th>\n",
              "      <th>language</th>\n",
              "      <th>cleaned_text</th>\n",
              "      <th>funny_label</th>\n",
              "      <th>cool_label</th>\n",
              "      <th>useful_label</th>\n",
              "      <th>funny_sampled_flag</th>\n",
              "      <th>cool_sampled_flag</th>\n",
              "    </tr>\n",
              "  </thead>\n",
              "  <tbody>\n",
              "    <tr>\n",
              "      <th>0</th>\n",
              "      <td>0</td>\n",
              "      <td>0</td>\n",
              "      <td>0</td>\n",
              "      <td>O4RZMP8IFyJTNfRp0QXEsw</td>\n",
              "      <td>u0LXt3Uea_GidxRW1xcsfg</td>\n",
              "      <td>vcxvQyAggPqxcHwvJXvjGg</td>\n",
              "      <td>4</td>\n",
              "      <td>2017-01-04</td>\n",
              "      <td>Love this place!\\n\\nThe cakes are delicious bu...</td>\n",
              "      <td>0.0</td>\n",
              "      <td>...</td>\n",
              "      <td>2017.0</td>\n",
              "      <td>1.0</td>\n",
              "      <td>4.0</td>\n",
              "      <td>en</td>\n",
              "      <td>Love place cake delicious really rich cute cup...</td>\n",
              "      <td>0</td>\n",
              "      <td>0</td>\n",
              "      <td>0</td>\n",
              "      <td>0</td>\n",
              "      <td>0</td>\n",
              "    </tr>\n",
              "    <tr>\n",
              "      <th>1</th>\n",
              "      <td>1</td>\n",
              "      <td>1</td>\n",
              "      <td>1</td>\n",
              "      <td>66KqTwiQ1oB9-aTsoEN35Q</td>\n",
              "      <td>u0LXt3Uea_GidxRW1xcsfg</td>\n",
              "      <td>DKiRDPtQ5cTN-eX1oEgA9w</td>\n",
              "      <td>3</td>\n",
              "      <td>2017-01-04</td>\n",
              "      <td>It's a pub... nice and clean one.\\n\\nCame here...</td>\n",
              "      <td>0.0</td>\n",
              "      <td>...</td>\n",
              "      <td>2017.0</td>\n",
              "      <td>1.0</td>\n",
              "      <td>4.0</td>\n",
              "      <td>en</td>\n",
              "      <td>pub nice clean one Came grab food girl since T...</td>\n",
              "      <td>0</td>\n",
              "      <td>0</td>\n",
              "      <td>0</td>\n",
              "      <td>0</td>\n",
              "      <td>0</td>\n",
              "    </tr>\n",
              "    <tr>\n",
              "      <th>2</th>\n",
              "      <td>2</td>\n",
              "      <td>2</td>\n",
              "      <td>2</td>\n",
              "      <td>3KQ3_xutS5R3mX7HsPWpgw</td>\n",
              "      <td>u0LXt3Uea_GidxRW1xcsfg</td>\n",
              "      <td>zkU-WMio8g6dpRJ2Y2xqvQ</td>\n",
              "      <td>4</td>\n",
              "      <td>2017-01-04</td>\n",
              "      <td>Came here for dim sum - it's one of those mark...</td>\n",
              "      <td>0.0</td>\n",
              "      <td>...</td>\n",
              "      <td>2017.0</td>\n",
              "      <td>1.0</td>\n",
              "      <td>4.0</td>\n",
              "      <td>en</td>\n",
              "      <td>Came dim sum one mark sheet order dim sum pret...</td>\n",
              "      <td>0</td>\n",
              "      <td>0</td>\n",
              "      <td>0</td>\n",
              "      <td>0</td>\n",
              "      <td>0</td>\n",
              "    </tr>\n",
              "    <tr>\n",
              "      <th>3</th>\n",
              "      <td>3</td>\n",
              "      <td>3</td>\n",
              "      <td>3</td>\n",
              "      <td>p659sFGjbL8chCRZPPyFmg</td>\n",
              "      <td>u0LXt3Uea_GidxRW1xcsfg</td>\n",
              "      <td>3RlylOY452bA8rwliPUeUQ</td>\n",
              "      <td>4</td>\n",
              "      <td>2017-01-04</td>\n",
              "      <td>My sister loves this place! Probably comes by ...</td>\n",
              "      <td>1.0</td>\n",
              "      <td>...</td>\n",
              "      <td>2017.0</td>\n",
              "      <td>1.0</td>\n",
              "      <td>4.0</td>\n",
              "      <td>en</td>\n",
              "      <td>sister love place Probably come week every two...</td>\n",
              "      <td>0</td>\n",
              "      <td>0</td>\n",
              "      <td>1</td>\n",
              "      <td>1</td>\n",
              "      <td>1</td>\n",
              "    </tr>\n",
              "    <tr>\n",
              "      <th>4</th>\n",
              "      <td>4</td>\n",
              "      <td>4</td>\n",
              "      <td>4</td>\n",
              "      <td>1XEm85LhDeiUHdG0R_rXSQ</td>\n",
              "      <td>u0LXt3Uea_GidxRW1xcsfg</td>\n",
              "      <td>sTV4qyjDkY5cLvx2omtLyw</td>\n",
              "      <td>4</td>\n",
              "      <td>2017-02-07</td>\n",
              "      <td>Nice addition to the Distillery district! Stum...</td>\n",
              "      <td>1.0</td>\n",
              "      <td>...</td>\n",
              "      <td>2017.0</td>\n",
              "      <td>2.0</td>\n",
              "      <td>7.0</td>\n",
              "      <td>en</td>\n",
              "      <td>Nice addition Distillery district Stumbled upo...</td>\n",
              "      <td>0</td>\n",
              "      <td>0</td>\n",
              "      <td>1</td>\n",
              "      <td>0</td>\n",
              "      <td>0</td>\n",
              "    </tr>\n",
              "  </tbody>\n",
              "</table>\n",
              "<p>5 rows × 22 columns</p>\n",
              "</div>\n",
              "      <button class=\"colab-df-convert\" onclick=\"convertToInteractive('df-606bcd54-0cd5-4b55-9ab5-c614ad06de46')\"\n",
              "              title=\"Convert this dataframe to an interactive table.\"\n",
              "              style=\"display:none;\">\n",
              "        \n",
              "  <svg xmlns=\"http://www.w3.org/2000/svg\" height=\"24px\"viewBox=\"0 0 24 24\"\n",
              "       width=\"24px\">\n",
              "    <path d=\"M0 0h24v24H0V0z\" fill=\"none\"/>\n",
              "    <path d=\"M18.56 5.44l.94 2.06.94-2.06 2.06-.94-2.06-.94-.94-2.06-.94 2.06-2.06.94zm-11 1L8.5 8.5l.94-2.06 2.06-.94-2.06-.94L8.5 2.5l-.94 2.06-2.06.94zm10 10l.94 2.06.94-2.06 2.06-.94-2.06-.94-.94-2.06-.94 2.06-2.06.94z\"/><path d=\"M17.41 7.96l-1.37-1.37c-.4-.4-.92-.59-1.43-.59-.52 0-1.04.2-1.43.59L10.3 9.45l-7.72 7.72c-.78.78-.78 2.05 0 2.83L4 21.41c.39.39.9.59 1.41.59.51 0 1.02-.2 1.41-.59l7.78-7.78 2.81-2.81c.8-.78.8-2.07 0-2.86zM5.41 20L4 18.59l7.72-7.72 1.47 1.35L5.41 20z\"/>\n",
              "  </svg>\n",
              "      </button>\n",
              "      \n",
              "  <style>\n",
              "    .colab-df-container {\n",
              "      display:flex;\n",
              "      flex-wrap:wrap;\n",
              "      gap: 12px;\n",
              "    }\n",
              "\n",
              "    .colab-df-convert {\n",
              "      background-color: #E8F0FE;\n",
              "      border: none;\n",
              "      border-radius: 50%;\n",
              "      cursor: pointer;\n",
              "      display: none;\n",
              "      fill: #1967D2;\n",
              "      height: 32px;\n",
              "      padding: 0 0 0 0;\n",
              "      width: 32px;\n",
              "    }\n",
              "\n",
              "    .colab-df-convert:hover {\n",
              "      background-color: #E2EBFA;\n",
              "      box-shadow: 0px 1px 2px rgba(60, 64, 67, 0.3), 0px 1px 3px 1px rgba(60, 64, 67, 0.15);\n",
              "      fill: #174EA6;\n",
              "    }\n",
              "\n",
              "    [theme=dark] .colab-df-convert {\n",
              "      background-color: #3B4455;\n",
              "      fill: #D2E3FC;\n",
              "    }\n",
              "\n",
              "    [theme=dark] .colab-df-convert:hover {\n",
              "      background-color: #434B5C;\n",
              "      box-shadow: 0px 1px 3px 1px rgba(0, 0, 0, 0.15);\n",
              "      filter: drop-shadow(0px 1px 2px rgba(0, 0, 0, 0.3));\n",
              "      fill: #FFFFFF;\n",
              "    }\n",
              "  </style>\n",
              "\n",
              "      <script>\n",
              "        const buttonEl =\n",
              "          document.querySelector('#df-606bcd54-0cd5-4b55-9ab5-c614ad06de46 button.colab-df-convert');\n",
              "        buttonEl.style.display =\n",
              "          google.colab.kernel.accessAllowed ? 'block' : 'none';\n",
              "\n",
              "        async function convertToInteractive(key) {\n",
              "          const element = document.querySelector('#df-606bcd54-0cd5-4b55-9ab5-c614ad06de46');\n",
              "          const dataTable =\n",
              "            await google.colab.kernel.invokeFunction('convertToInteractive',\n",
              "                                                     [key], {});\n",
              "          if (!dataTable) return;\n",
              "\n",
              "          const docLinkHtml = 'Like what you see? Visit the ' +\n",
              "            '<a target=\"_blank\" href=https://colab.research.google.com/notebooks/data_table.ipynb>data table notebook</a>'\n",
              "            + ' to learn more about interactive tables.';\n",
              "          element.innerHTML = '';\n",
              "          dataTable['output_type'] = 'display_data';\n",
              "          await google.colab.output.renderOutput(dataTable, element);\n",
              "          const docLink = document.createElement('div');\n",
              "          docLink.innerHTML = docLinkHtml;\n",
              "          element.appendChild(docLink);\n",
              "        }\n",
              "      </script>\n",
              "    </div>\n",
              "  </div>\n",
              "  "
            ]
          },
          "metadata": {},
          "execution_count": 5
        }
      ]
    },
    {
      "cell_type": "code",
      "source": [
        "# train_use = train\n",
        "train_fun = train[train.funny_sampled_flag==1]\n",
        "train_cool = train[train.cool_sampled_flag==1]"
      ],
      "metadata": {
        "id": "vSvdFBF5UWxc"
      },
      "execution_count": null,
      "outputs": []
    },
    {
      "cell_type": "code",
      "source": [
        "val.head()"
      ],
      "metadata": {
        "colab": {
          "base_uri": "https://localhost:8080/",
          "height": 574
        },
        "id": "mlaPXmWZVKuu",
        "outputId": "13cbb512-82eb-465b-9e0e-0d630ee10790"
      },
      "execution_count": null,
      "outputs": [
        {
          "output_type": "execute_result",
          "data": {
            "text/plain": [
              "   Unnamed: 0  Unnamed: 0.1               review_id                 user_id  \\\n",
              "0           0             0  Ebggx4Zlc4VWReJMG1nT6w  u0LXt3Uea_GidxRW1xcsfg   \n",
              "1           1             1  jREsaout3cuhKbROVDXUFg  u0LXt3Uea_GidxRW1xcsfg   \n",
              "2           2             2  S5BSUs-iDrwn6o5968LmEg  u0LXt3Uea_GidxRW1xcsfg   \n",
              "3           3             3  qOkKKBgIvpg3xzxJitCoCQ  tL2pS5UOmN6aAOi3Z-qFGg   \n",
              "4           4             4  heSUfficKTzHOWrlIYcZ0g  4DvHNL2g_H3onCpV2zjegQ   \n",
              "\n",
              "              business_id  stars        date  \\\n",
              "0  l1_S1mfGbEMxfT1f9omhEA      1  2017-10-16   \n",
              "1  I44P6Pfoey2pArOhhx2RnA      4  2017-10-17   \n",
              "2  xNNAfZJkLZlAeS-I7-QwgA      3  2017-10-16   \n",
              "3  Trbt0Ex85yvwT8DHoEFCvg      1  2017-10-11   \n",
              "4  hGfgR4eN8T2IVvviJaZdBA      5  2017-10-15   \n",
              "\n",
              "                                                text  useful  funny  cool  \\\n",
              "0  Terrible service and not so great drinks.\\n\\nW...     0.0    0.0   0.0   \n",
              "1  Cute little hole in the wall place. Two entran...     0.0    0.0   0.0   \n",
              "2  We were here on a holiday Monday where nothing...     0.0    0.0   0.0   \n",
              "3  Ordered food to go from here.\\n\\nThey send you...     2.0    1.0   0.0   \n",
              "4  HP wanted $300 to replace a 500GB hard drive. ...     0.0    0.0   0.0   \n",
              "\n",
              "     year  month   day language  \\\n",
              "0  2017.0   10.0  16.0       en   \n",
              "1  2017.0   10.0  17.0       en   \n",
              "2  2017.0   10.0  16.0       en   \n",
              "3  2017.0   10.0  11.0       en   \n",
              "4  2017.0   10.0  15.0       en   \n",
              "\n",
              "                                        cleaned_text  funny_label  cool_label  \\\n",
              "0  Terrible service great drink happen plaza saw ...            0           0   \n",
              "1  Cute little hole wall place Two entrance one s...            0           0   \n",
              "2  holiday Monday nothing much wa open grab takeo...            0           0   \n",
              "3  Ordered food go send email telling food ready ...            1           0   \n",
              "4  HP wanted replace hard drive wa referred Santo...            0           0   \n",
              "\n",
              "   useful_label  \n",
              "0             0  \n",
              "1             0  \n",
              "2             0  \n",
              "3             1  \n",
              "4             0  "
            ],
            "text/html": [
              "\n",
              "  <div id=\"df-083ffd89-cc88-4848-a1a4-a59152f84872\">\n",
              "    <div class=\"colab-df-container\">\n",
              "      <div>\n",
              "<style scoped>\n",
              "    .dataframe tbody tr th:only-of-type {\n",
              "        vertical-align: middle;\n",
              "    }\n",
              "\n",
              "    .dataframe tbody tr th {\n",
              "        vertical-align: top;\n",
              "    }\n",
              "\n",
              "    .dataframe thead th {\n",
              "        text-align: right;\n",
              "    }\n",
              "</style>\n",
              "<table border=\"1\" class=\"dataframe\">\n",
              "  <thead>\n",
              "    <tr style=\"text-align: right;\">\n",
              "      <th></th>\n",
              "      <th>Unnamed: 0</th>\n",
              "      <th>Unnamed: 0.1</th>\n",
              "      <th>review_id</th>\n",
              "      <th>user_id</th>\n",
              "      <th>business_id</th>\n",
              "      <th>stars</th>\n",
              "      <th>date</th>\n",
              "      <th>text</th>\n",
              "      <th>useful</th>\n",
              "      <th>funny</th>\n",
              "      <th>cool</th>\n",
              "      <th>year</th>\n",
              "      <th>month</th>\n",
              "      <th>day</th>\n",
              "      <th>language</th>\n",
              "      <th>cleaned_text</th>\n",
              "      <th>funny_label</th>\n",
              "      <th>cool_label</th>\n",
              "      <th>useful_label</th>\n",
              "    </tr>\n",
              "  </thead>\n",
              "  <tbody>\n",
              "    <tr>\n",
              "      <th>0</th>\n",
              "      <td>0</td>\n",
              "      <td>0</td>\n",
              "      <td>Ebggx4Zlc4VWReJMG1nT6w</td>\n",
              "      <td>u0LXt3Uea_GidxRW1xcsfg</td>\n",
              "      <td>l1_S1mfGbEMxfT1f9omhEA</td>\n",
              "      <td>1</td>\n",
              "      <td>2017-10-16</td>\n",
              "      <td>Terrible service and not so great drinks.\\n\\nW...</td>\n",
              "      <td>0.0</td>\n",
              "      <td>0.0</td>\n",
              "      <td>0.0</td>\n",
              "      <td>2017.0</td>\n",
              "      <td>10.0</td>\n",
              "      <td>16.0</td>\n",
              "      <td>en</td>\n",
              "      <td>Terrible service great drink happen plaza saw ...</td>\n",
              "      <td>0</td>\n",
              "      <td>0</td>\n",
              "      <td>0</td>\n",
              "    </tr>\n",
              "    <tr>\n",
              "      <th>1</th>\n",
              "      <td>1</td>\n",
              "      <td>1</td>\n",
              "      <td>jREsaout3cuhKbROVDXUFg</td>\n",
              "      <td>u0LXt3Uea_GidxRW1xcsfg</td>\n",
              "      <td>I44P6Pfoey2pArOhhx2RnA</td>\n",
              "      <td>4</td>\n",
              "      <td>2017-10-17</td>\n",
              "      <td>Cute little hole in the wall place. Two entran...</td>\n",
              "      <td>0.0</td>\n",
              "      <td>0.0</td>\n",
              "      <td>0.0</td>\n",
              "      <td>2017.0</td>\n",
              "      <td>10.0</td>\n",
              "      <td>17.0</td>\n",
              "      <td>en</td>\n",
              "      <td>Cute little hole wall place Two entrance one s...</td>\n",
              "      <td>0</td>\n",
              "      <td>0</td>\n",
              "      <td>0</td>\n",
              "    </tr>\n",
              "    <tr>\n",
              "      <th>2</th>\n",
              "      <td>2</td>\n",
              "      <td>2</td>\n",
              "      <td>S5BSUs-iDrwn6o5968LmEg</td>\n",
              "      <td>u0LXt3Uea_GidxRW1xcsfg</td>\n",
              "      <td>xNNAfZJkLZlAeS-I7-QwgA</td>\n",
              "      <td>3</td>\n",
              "      <td>2017-10-16</td>\n",
              "      <td>We were here on a holiday Monday where nothing...</td>\n",
              "      <td>0.0</td>\n",
              "      <td>0.0</td>\n",
              "      <td>0.0</td>\n",
              "      <td>2017.0</td>\n",
              "      <td>10.0</td>\n",
              "      <td>16.0</td>\n",
              "      <td>en</td>\n",
              "      <td>holiday Monday nothing much wa open grab takeo...</td>\n",
              "      <td>0</td>\n",
              "      <td>0</td>\n",
              "      <td>0</td>\n",
              "    </tr>\n",
              "    <tr>\n",
              "      <th>3</th>\n",
              "      <td>3</td>\n",
              "      <td>3</td>\n",
              "      <td>qOkKKBgIvpg3xzxJitCoCQ</td>\n",
              "      <td>tL2pS5UOmN6aAOi3Z-qFGg</td>\n",
              "      <td>Trbt0Ex85yvwT8DHoEFCvg</td>\n",
              "      <td>1</td>\n",
              "      <td>2017-10-11</td>\n",
              "      <td>Ordered food to go from here.\\n\\nThey send you...</td>\n",
              "      <td>2.0</td>\n",
              "      <td>1.0</td>\n",
              "      <td>0.0</td>\n",
              "      <td>2017.0</td>\n",
              "      <td>10.0</td>\n",
              "      <td>11.0</td>\n",
              "      <td>en</td>\n",
              "      <td>Ordered food go send email telling food ready ...</td>\n",
              "      <td>1</td>\n",
              "      <td>0</td>\n",
              "      <td>1</td>\n",
              "    </tr>\n",
              "    <tr>\n",
              "      <th>4</th>\n",
              "      <td>4</td>\n",
              "      <td>4</td>\n",
              "      <td>heSUfficKTzHOWrlIYcZ0g</td>\n",
              "      <td>4DvHNL2g_H3onCpV2zjegQ</td>\n",
              "      <td>hGfgR4eN8T2IVvviJaZdBA</td>\n",
              "      <td>5</td>\n",
              "      <td>2017-10-15</td>\n",
              "      <td>HP wanted $300 to replace a 500GB hard drive. ...</td>\n",
              "      <td>0.0</td>\n",
              "      <td>0.0</td>\n",
              "      <td>0.0</td>\n",
              "      <td>2017.0</td>\n",
              "      <td>10.0</td>\n",
              "      <td>15.0</td>\n",
              "      <td>en</td>\n",
              "      <td>HP wanted replace hard drive wa referred Santo...</td>\n",
              "      <td>0</td>\n",
              "      <td>0</td>\n",
              "      <td>0</td>\n",
              "    </tr>\n",
              "  </tbody>\n",
              "</table>\n",
              "</div>\n",
              "      <button class=\"colab-df-convert\" onclick=\"convertToInteractive('df-083ffd89-cc88-4848-a1a4-a59152f84872')\"\n",
              "              title=\"Convert this dataframe to an interactive table.\"\n",
              "              style=\"display:none;\">\n",
              "        \n",
              "  <svg xmlns=\"http://www.w3.org/2000/svg\" height=\"24px\"viewBox=\"0 0 24 24\"\n",
              "       width=\"24px\">\n",
              "    <path d=\"M0 0h24v24H0V0z\" fill=\"none\"/>\n",
              "    <path d=\"M18.56 5.44l.94 2.06.94-2.06 2.06-.94-2.06-.94-.94-2.06-.94 2.06-2.06.94zm-11 1L8.5 8.5l.94-2.06 2.06-.94-2.06-.94L8.5 2.5l-.94 2.06-2.06.94zm10 10l.94 2.06.94-2.06 2.06-.94-2.06-.94-.94-2.06-.94 2.06-2.06.94z\"/><path d=\"M17.41 7.96l-1.37-1.37c-.4-.4-.92-.59-1.43-.59-.52 0-1.04.2-1.43.59L10.3 9.45l-7.72 7.72c-.78.78-.78 2.05 0 2.83L4 21.41c.39.39.9.59 1.41.59.51 0 1.02-.2 1.41-.59l7.78-7.78 2.81-2.81c.8-.78.8-2.07 0-2.86zM5.41 20L4 18.59l7.72-7.72 1.47 1.35L5.41 20z\"/>\n",
              "  </svg>\n",
              "      </button>\n",
              "      \n",
              "  <style>\n",
              "    .colab-df-container {\n",
              "      display:flex;\n",
              "      flex-wrap:wrap;\n",
              "      gap: 12px;\n",
              "    }\n",
              "\n",
              "    .colab-df-convert {\n",
              "      background-color: #E8F0FE;\n",
              "      border: none;\n",
              "      border-radius: 50%;\n",
              "      cursor: pointer;\n",
              "      display: none;\n",
              "      fill: #1967D2;\n",
              "      height: 32px;\n",
              "      padding: 0 0 0 0;\n",
              "      width: 32px;\n",
              "    }\n",
              "\n",
              "    .colab-df-convert:hover {\n",
              "      background-color: #E2EBFA;\n",
              "      box-shadow: 0px 1px 2px rgba(60, 64, 67, 0.3), 0px 1px 3px 1px rgba(60, 64, 67, 0.15);\n",
              "      fill: #174EA6;\n",
              "    }\n",
              "\n",
              "    [theme=dark] .colab-df-convert {\n",
              "      background-color: #3B4455;\n",
              "      fill: #D2E3FC;\n",
              "    }\n",
              "\n",
              "    [theme=dark] .colab-df-convert:hover {\n",
              "      background-color: #434B5C;\n",
              "      box-shadow: 0px 1px 3px 1px rgba(0, 0, 0, 0.15);\n",
              "      filter: drop-shadow(0px 1px 2px rgba(0, 0, 0, 0.3));\n",
              "      fill: #FFFFFF;\n",
              "    }\n",
              "  </style>\n",
              "\n",
              "      <script>\n",
              "        const buttonEl =\n",
              "          document.querySelector('#df-083ffd89-cc88-4848-a1a4-a59152f84872 button.colab-df-convert');\n",
              "        buttonEl.style.display =\n",
              "          google.colab.kernel.accessAllowed ? 'block' : 'none';\n",
              "\n",
              "        async function convertToInteractive(key) {\n",
              "          const element = document.querySelector('#df-083ffd89-cc88-4848-a1a4-a59152f84872');\n",
              "          const dataTable =\n",
              "            await google.colab.kernel.invokeFunction('convertToInteractive',\n",
              "                                                     [key], {});\n",
              "          if (!dataTable) return;\n",
              "\n",
              "          const docLinkHtml = 'Like what you see? Visit the ' +\n",
              "            '<a target=\"_blank\" href=https://colab.research.google.com/notebooks/data_table.ipynb>data table notebook</a>'\n",
              "            + ' to learn more about interactive tables.';\n",
              "          element.innerHTML = '';\n",
              "          dataTable['output_type'] = 'display_data';\n",
              "          await google.colab.output.renderOutput(dataTable, element);\n",
              "          const docLink = document.createElement('div');\n",
              "          docLink.innerHTML = docLinkHtml;\n",
              "          element.appendChild(docLink);\n",
              "        }\n",
              "      </script>\n",
              "    </div>\n",
              "  </div>\n",
              "  "
            ]
          },
          "metadata": {},
          "execution_count": 8
        }
      ]
    },
    {
      "cell_type": "code",
      "source": [
        "for i in [train, train_fun, train_cool, val, test]:\n",
        "    i.dropna(inplace=True)\n",
        "    print(i.shape)"
      ],
      "metadata": {
        "colab": {
          "base_uri": "https://localhost:8080/"
        },
        "id": "JBOZEaiCUk8d",
        "outputId": "11c4398d-e1f4-4f73-da0c-14b5631c0aff"
      },
      "execution_count": null,
      "outputs": [
        {
          "output_type": "stream",
          "name": "stdout",
          "text": [
            "(896945, 22)\n"
          ]
        },
        {
          "output_type": "stream",
          "name": "stderr",
          "text": [
            "/usr/local/lib/python3.7/dist-packages/pandas/util/_decorators.py:311: SettingWithCopyWarning: \n",
            "A value is trying to be set on a copy of a slice from a DataFrame\n",
            "\n",
            "See the caveats in the documentation: https://pandas.pydata.org/pandas-docs/stable/user_guide/indexing.html#returning-a-view-versus-a-copy\n",
            "  return func(*args, **kwargs)\n"
          ]
        },
        {
          "output_type": "stream",
          "name": "stdout",
          "text": [
            "(294305, 22)\n",
            "(376157, 22)\n",
            "(98119, 19)\n",
            "(126864, 19)\n"
          ]
        }
      ]
    },
    {
      "cell_type": "code",
      "source": [
        "train.reset_index(inplace=True)\n",
        "train_fun.reset_index(inplace=True)\n",
        "train_cool.reset_index(inplace=True)\n",
        "val.reset_index(inplace=True)\n",
        "test.reset_index(inplace=True)"
      ],
      "metadata": {
        "id": "9eT3RIAgVXVV"
      },
      "execution_count": null,
      "outputs": []
    },
    {
      "cell_type": "code",
      "source": [
        "from sklearn import tree, ensemble\n",
        "from sklearn.metrics import accuracy_score, roc_auc_score, confusion_matrix, mean_squared_error\n",
        "from xgboost import XGBClassifier"
      ],
      "metadata": {
        "id": "uVuXVJji05Vl"
      },
      "execution_count": null,
      "outputs": []
    },
    {
      "cell_type": "markdown",
      "source": [
        "# useful"
      ],
      "metadata": {
        "id": "ACr6QMCkhX_K"
      }
    },
    {
      "cell_type": "code",
      "source": [
        "model = 'doc2vec'\n",
        "with open(f'./text_processing/useful_processed_text/useful_{model}_train.npy', 'rb') as f:\n",
        "    train_array = np.load(f)\n",
        "with open(f'./text_processing/useful_processed_text/useful_{model}_val.npy', 'rb') as f:\n",
        "    val_array = np.load(f)\n",
        "with open(f'./text_processing/useful_processed_text/useful_{model}_test.npy', 'rb') as f:\n",
        "    test_array = np.load(f)\n",
        "\n",
        "for i in [train_array, val_array, test_array]:\n",
        "    print(i.shape)"
      ],
      "metadata": {
        "id": "EUKf0m-MdLAu",
        "colab": {
          "base_uri": "https://localhost:8080/"
        },
        "outputId": "2a387199-9c94-45ed-f741-71b4a2a19421"
      },
      "execution_count": null,
      "outputs": [
        {
          "output_type": "stream",
          "name": "stdout",
          "text": [
            "(896945, 60)\n",
            "(98119, 60)\n",
            "(126864, 60)\n"
          ]
        }
      ]
    },
    {
      "cell_type": "code",
      "source": [
        "dt_estimator = tree.DecisionTreeClassifier()\n",
        "dt_estimator.fit(train_array, train.useful_label)\n",
        "y_train_useful = dt_estimator.predict(train_array)\n",
        "y_val_useful = dt_estimator.predict(val_array)\n",
        "y_test_useful = dt_estimator.predict(test_array)\n",
        "print(\"accuracy score: \", accuracy_score(train.useful_label, y_train_useful))\n",
        "print(\"confusion matrix: \")\n",
        "print(confusion_matrix(train.useful_label, y_train_useful))\n",
        "print(\"accuracy score: \", accuracy_score(val.useful_label, y_val_useful))\n",
        "print(\"confusion matrix: \")\n",
        "print(confusion_matrix(val.useful_label, y_val_useful))\n",
        "print(\"accuracy score: \", accuracy_score(test.useful_label, y_test_useful))\n",
        "print(\"confusion matrix: \")\n",
        "print(confusion_matrix(test.useful_label, y_test_useful))"
      ],
      "metadata": {
        "colab": {
          "base_uri": "https://localhost:8080/"
        },
        "id": "Z4R3vGTg7A_5",
        "outputId": "9dbee627-ac1a-492d-dd2e-32ca70d7960d"
      },
      "execution_count": null,
      "outputs": [
        {
          "output_type": "stream",
          "name": "stdout",
          "text": [
            "accuracy score:  1.0\n",
            "confusion matrix: \n",
            "[[594845      0]\n",
            " [     0 302100]]\n",
            "accuracy score:  0.5953586970923063\n",
            "confusion matrix: \n",
            "[[48723 24878]\n",
            " [14825  9693]]\n",
            "accuracy score:  0.6022669945768697\n",
            "confusion matrix: \n",
            "[[65621 34409]\n",
            " [16049 10785]]\n"
          ]
        }
      ]
    },
    {
      "cell_type": "code",
      "source": [
        "dt_estimator = tree.DecisionTreeClassifier(max_depth=10)\n",
        "dt_estimator.fit(train_array, train.useful_label)\n",
        "y_train_useful = dt_estimator.predict(train_array)\n",
        "y_val_useful = dt_estimator.predict(val_array)\n",
        "y_test_useful = dt_estimator.predict(test_array)\n",
        "print(\"accuracy score: \", accuracy_score(train.useful_label, y_train_useful))\n",
        "print(\"confusion matrix: \")\n",
        "print(confusion_matrix(train.useful_label, y_train_useful))\n",
        "print(\"accuracy score: \", accuracy_score(val.useful_label, y_val_useful))\n",
        "print(\"confusion matrix: \")\n",
        "print(confusion_matrix(val.useful_label, y_val_useful))\n",
        "print(\"accuracy score: \", accuracy_score(test.useful_label, y_test_useful))\n",
        "print(\"confusion matrix: \")\n",
        "print(confusion_matrix(test.useful_label, y_test_useful))"
      ],
      "metadata": {
        "colab": {
          "base_uri": "https://localhost:8080/"
        },
        "id": "QSdkAQ3Kv3D8",
        "outputId": "339e5383-dffa-4d01-bfc8-48263e902673"
      },
      "execution_count": null,
      "outputs": [
        {
          "output_type": "stream",
          "name": "stdout",
          "text": [
            "accuracy score:  0.675991281516704\n",
            "confusion matrix: \n",
            "[[556015  38830]\n",
            " [251788  50312]]\n",
            "accuracy score:  0.7245793373352766\n",
            "confusion matrix: \n",
            "[[67180  6421]\n",
            " [20603  3915]]\n",
            "accuracy score:  0.7508986000756716\n",
            "confusion matrix: \n",
            "[[90862  9168]\n",
            " [22434  4400]]\n"
          ]
        }
      ]
    },
    {
      "cell_type": "code",
      "source": [
        "dt_estimator = tree.DecisionTreeClassifier(min_samples_split=130)\n",
        "dt_estimator.fit(train_array, train.useful_label)\n",
        "y_train_useful = dt_estimator.predict(train_array)\n",
        "y_val_useful = dt_estimator.predict(val_array)\n",
        "y_test_useful = dt_estimator.predict(test_array)\n",
        "print(\"accuracy score: \", accuracy_score(train.useful_label, y_train_useful))\n",
        "print(\"confusion matrix: \")\n",
        "print(confusion_matrix(train.useful_label, y_train_useful))\n",
        "print(\"accuracy score: \", accuracy_score(val.useful_label, y_val_useful))\n",
        "print(\"confusion matrix: \")\n",
        "print(confusion_matrix(val.useful_label, y_val_useful))\n",
        "print(\"accuracy score: \", accuracy_score(test.useful_label, y_test_useful))\n",
        "print(\"confusion matrix: \")\n",
        "print(confusion_matrix(test.useful_label, y_test_useful))"
      ],
      "metadata": {
        "colab": {
          "base_uri": "https://localhost:8080/"
        },
        "id": "lGeWmyh2wmCR",
        "outputId": "84687217-a1fa-4db6-b1cc-3b1801108d54"
      },
      "execution_count": null,
      "outputs": [
        {
          "output_type": "stream",
          "name": "stdout",
          "text": [
            "accuracy score:  0.7456544158225978\n",
            "confusion matrix: \n",
            "[[521583  73262]\n",
            " [154872 147228]]\n",
            "accuracy score:  0.6504856347904076\n",
            "confusion matrix: \n",
            "[[56054 17547]\n",
            " [16747  7771]]\n",
            "accuracy score:  0.6637265102787236\n",
            "confusion matrix: \n",
            "[[75685 24345]\n",
            " [18316  8518]]\n"
          ]
        }
      ]
    },
    {
      "cell_type": "code",
      "source": [
        "dt_estimator = tree.DecisionTreeClassifier(max_depth=10, min_samples_split=130)\n",
        "dt_estimator.fit(train_array, train.useful_label)\n",
        "y_train_useful = dt_estimator.predict(train_array)\n",
        "y_val_useful = dt_estimator.predict(val_array)\n",
        "y_test_useful = dt_estimator.predict(test_array)\n",
        "print(\"accuracy score: \", accuracy_score(train.useful_label, y_train_useful))\n",
        "print(\"confusion matrix: \")\n",
        "print(confusion_matrix(train.useful_label, y_train_useful))\n",
        "print(\"accuracy score: \", accuracy_score(val.useful_label, y_val_useful))\n",
        "print(\"confusion matrix: \")\n",
        "print(confusion_matrix(val.useful_label, y_val_useful))\n",
        "print(\"accuracy score: \", accuracy_score(test.useful_label, y_test_useful))\n",
        "print(\"confusion matrix: \")\n",
        "print(confusion_matrix(test.useful_label, y_test_useful))"
      ],
      "metadata": {
        "colab": {
          "base_uri": "https://localhost:8080/"
        },
        "id": "_GhrsChqQLGz",
        "outputId": "e3d0a3d8-48e6-4a7e-eb27-0357329decc2"
      },
      "execution_count": null,
      "outputs": [
        {
          "output_type": "stream",
          "name": "stdout",
          "text": [
            "accuracy score:  0.6755932638010135\n",
            "confusion matrix: \n",
            "[[555691  39154]\n",
            " [251821  50279]]\n",
            "accuracy score:  0.7246302958652249\n",
            "confusion matrix: \n",
            "[[67170  6431]\n",
            " [20588  3930]]\n",
            "accuracy score:  0.7507094211123723\n",
            "confusion matrix: \n",
            "[[90828  9202]\n",
            " [22424  4410]]\n"
          ]
        }
      ]
    },
    {
      "cell_type": "code",
      "source": [
        "dt_estimator = tree.DecisionTreeClassifier(max_depth=7, min_samples_split=200)\n",
        "dt_estimator.fit(train_array, train.useful_label)\n",
        "y_train_useful = dt_estimator.predict(train_array)\n",
        "y_val_useful = dt_estimator.predict(val_array)\n",
        "y_test_useful = dt_estimator.predict(test_array)\n",
        "print(\"accuracy score: \", accuracy_score(train.useful_label, y_train_useful))\n",
        "print(\"confusion matrix: \")\n",
        "print(confusion_matrix(train.useful_label, y_train_useful))\n",
        "print(\"accuracy score: \", accuracy_score(val.useful_label, y_val_useful))\n",
        "print(\"confusion matrix: \")\n",
        "print(confusion_matrix(val.useful_label, y_val_useful))\n",
        "print(\"accuracy score: \", accuracy_score(test.useful_label, y_test_useful))\n",
        "print(\"confusion matrix: \")\n",
        "print(confusion_matrix(test.useful_label, y_test_useful))"
      ],
      "metadata": {
        "colab": {
          "base_uri": "https://localhost:8080/"
        },
        "id": "iQJq5MIhjTZq",
        "outputId": "d5857972-83c5-4a11-b091-f65c045e6581"
      },
      "execution_count": null,
      "outputs": [
        {
          "output_type": "stream",
          "name": "stdout",
          "text": [
            "accuracy score:  0.6668190357268283\n",
            "confusion matrix: \n",
            "[[581665  13180]\n",
            " [285665  16435]]\n",
            "accuracy score:  0.7434441851221476\n",
            "confusion matrix: \n",
            "[[71548  2053]\n",
            " [23120  1398]]\n",
            "accuracy score:  0.7756810442678774\n",
            "confusion matrix: \n",
            "[[96985  3045]\n",
            " [25413  1421]]\n"
          ]
        }
      ]
    },
    {
      "cell_type": "code",
      "source": [
        "dt_estimator = ensemble.GradientBoostingClassifier(learning_rate=0.1)\n",
        "dt_estimator.fit(train_array, train.useful_label)\n",
        "y_train_useful = dt_estimator.predict(train_array)\n",
        "y_val_useful = dt_estimator.predict(val_array)\n",
        "y_test_useful = dt_estimator.predict(test_array)\n",
        "print(\"accuracy score: \", accuracy_score(train.useful_label, y_train_useful))\n",
        "print(\"confusion matrix: \")\n",
        "print(confusion_matrix(train.useful_label, y_train_useful))\n",
        "print(\"accuracy score: \", accuracy_score(val.useful_label, y_val_useful))\n",
        "print(\"confusion matrix: \")\n",
        "print(confusion_matrix(val.useful_label, y_val_useful))\n",
        "print(\"accuracy score: \", accuracy_score(test.useful_label, y_test_useful))\n",
        "print(\"confusion matrix: \")\n",
        "print(confusion_matrix(test.useful_label, y_test_useful))"
      ],
      "metadata": {
        "colab": {
          "base_uri": "https://localhost:8080/"
        },
        "id": "r6FhIf5V6VaD",
        "outputId": "d0b67673-5909-4b7d-e885-26d1dded5c34"
      },
      "execution_count": null,
      "outputs": [
        {
          "output_type": "stream",
          "name": "stdout",
          "text": [
            "accuracy score:  0.6752119695187553\n",
            "confusion matrix: \n",
            "[[576421  18424]\n",
            " [272893  29207]]\n",
            "accuracy score:  0.7453602258482047\n",
            "confusion matrix: \n",
            "[[70478  3123]\n",
            " [21862  2656]]\n",
            "accuracy score:  0.774498675747257\n",
            "confusion matrix: \n",
            "[[95236  4794]\n",
            " [23814  3020]]\n"
          ]
        }
      ]
    },
    {
      "cell_type": "code",
      "source": [
        "dt_estimator = ensemble.AdaBoostClassifier(learning_rate=0.1)\n",
        "dt_estimator.fit(train_array, train.useful_label)\n",
        "y_train_useful = dt_estimator.predict(train_array)\n",
        "y_val_useful = dt_estimator.predict(val_array)\n",
        "y_test_useful = dt_estimator.predict(test_array)\n",
        "print(\"accuracy score: \", accuracy_score(train.useful_label, y_train_useful))\n",
        "print(\"confusion matrix: \")\n",
        "print(confusion_matrix(train.useful_label, y_train_useful))\n",
        "print(\"accuracy score: \", accuracy_score(val.useful_label, y_val_useful))\n",
        "print(\"confusion matrix: \")\n",
        "print(confusion_matrix(val.useful_label, y_val_useful))\n",
        "print(\"accuracy score: \", accuracy_score(test.useful_label, y_test_useful))\n",
        "print(\"confusion matrix: \")\n",
        "print(confusion_matrix(test.useful_label, y_test_useful))"
      ],
      "metadata": {
        "colab": {
          "base_uri": "https://localhost:8080/"
        },
        "id": "8YtVUi63bEI5",
        "outputId": "d845d63d-49f5-4c5b-e16b-eec9b85d7c69"
      },
      "execution_count": null,
      "outputs": [
        {
          "output_type": "stream",
          "name": "stdout",
          "text": [
            "accuracy score:  0.6631922804631276\n",
            "confusion matrix: \n",
            "[[594844      1]\n",
            " [302097      3]]\n",
            "accuracy score:  0.7501197525453785\n",
            "confusion matrix: \n",
            "[[73601     0]\n",
            " [24518     0]]\n",
            "accuracy score:  0.7884979190314038\n",
            "confusion matrix: \n",
            "[[100030      0]\n",
            " [ 26832      2]]\n"
          ]
        }
      ]
    },
    {
      "cell_type": "code",
      "source": [
        "dt_estimator = XGBClassifier()\n",
        "dt_estimator.fit(train_array, train.useful_label)\n",
        "y_train_useful = dt_estimator.predict(train_array)\n",
        "y_val_useful = dt_estimator.predict(val_array)\n",
        "y_test_useful = dt_estimator.predict(test_array)\n",
        "print(\"accuracy score: \", accuracy_score(train.useful_label, y_train_useful))\n",
        "print(\"confusion matrix: \")\n",
        "print(confusion_matrix(train.useful_label, y_train_useful))\n",
        "print(\"accuracy score: \", accuracy_score(val.useful_label, y_val_useful))\n",
        "print(\"confusion matrix: \")\n",
        "print(confusion_matrix(val.useful_label, y_val_useful))\n",
        "print(\"accuracy score: \", accuracy_score(test.useful_label, y_test_useful))\n",
        "print(\"confusion matrix: \")\n",
        "print(confusion_matrix(test.useful_label, y_test_useful))"
      ],
      "metadata": {
        "colab": {
          "base_uri": "https://localhost:8080/"
        },
        "id": "f3AtxwbdsAed",
        "outputId": "3036cbd2-f47c-44d0-e378-5d70e60d383b"
      },
      "execution_count": null,
      "outputs": [
        {
          "output_type": "stream",
          "name": "stdout",
          "text": [
            "accuracy score:  0.6749856457196373\n",
            "confusion matrix: \n",
            "[[576994  17851]\n",
            " [273669  28431]]\n",
            "accuracy score:  0.745350034142215\n",
            "confusion matrix: \n",
            "[[70539  3062]\n",
            " [21924  2594]]\n",
            "accuracy score:  0.7750346828099381\n",
            "confusion matrix: \n",
            "[[95368  4662]\n",
            " [23878  2956]]\n"
          ]
        }
      ]
    },
    {
      "cell_type": "markdown",
      "source": [
        "# funny"
      ],
      "metadata": {
        "id": "Ij5xbDWj28tT"
      }
    },
    {
      "cell_type": "markdown",
      "source": [
        "model = 'doc2vec'"
      ],
      "metadata": {
        "id": "nSKsF6KriVp9"
      }
    },
    {
      "cell_type": "code",
      "source": [
        "model = 'doc2vec'\n",
        "with open(f'./text_processing/funny_processed_text/funny_{model}_train.npy', 'rb') as f:\n",
        "    train_array = np.load(f)\n",
        "with open(f'./text_processing/funny_processed_text/funny_{model}_val.npy', 'rb') as f:\n",
        "    val_array = np.load(f)\n",
        "with open(f'./text_processing/funny_processed_text/funny_{model}_test.npy', 'rb') as f:\n",
        "    test_array = np.load(f)\n",
        "\n",
        "for i in [train_array_fun, val_array_fun, test_array_fun]:\n",
        "    print(i.shape)"
      ],
      "metadata": {
        "colab": {
          "base_uri": "https://localhost:8080/"
        },
        "id": "KW7nzo4ThfGv",
        "outputId": "b7ed27b8-64b1-4460-c318-2ee56ad858a2"
      },
      "execution_count": null,
      "outputs": [
        {
          "output_type": "stream",
          "name": "stdout",
          "text": [
            "(294305, 60)\n",
            "(98119, 60)\n",
            "(126864, 60)\n"
          ]
        }
      ]
    },
    {
      "cell_type": "code",
      "source": [
        "dt_estimator = tree.DecisionTreeClassifier()\n",
        "dt_estimator.fit(train_array_fun, train_fun.funny_label)\n",
        "y_train_funny = dt_estimator.predict(train_array_fun)\n",
        "y_val_funny = dt_estimator.predict(val_array_fun)\n",
        "y_test_funny = dt_estimator.predict(test_array_fun)\n",
        "print(\"accuracy score: \", accuracy_score(train_fun.funny_label, y_train_funny))\n",
        "print(\"confusion matrix: \")\n",
        "print(confusion_matrix(train_fun.funny_label, y_train_funny))\n",
        "print(\"accuracy score: \", accuracy_score(val.funny_label, y_val_funny))\n",
        "print(\"confusion matrix: \")\n",
        "print(confusion_matrix(val.funny_label, y_val_funny))\n",
        "print(\"accuracy score: \", accuracy_score(test.funny_label, y_test_funny))\n",
        "print(\"confusion matrix: \")\n",
        "print(confusion_matrix(test.funny_label, y_test_funny))"
      ],
      "metadata": {
        "colab": {
          "base_uri": "https://localhost:8080/"
        },
        "id": "-yvSXkGO2Wbx",
        "outputId": "ac0d24d6-bd58-4973-aa88-3448dd81724e"
      },
      "execution_count": null,
      "outputs": [
        {
          "output_type": "stream",
          "name": "stdout",
          "text": [
            "accuracy score:  1.0\n",
            "confusion matrix: \n",
            "[[176583      0]\n",
            " [     0 117722]]\n",
            "accuracy score:  0.5759842640059519\n",
            "confusion matrix: \n",
            "[[52940 36216]\n",
            " [ 5388  3575]]\n",
            "accuracy score:  0.5777289065455922\n",
            "confusion matrix: \n",
            "[[68972 47464]\n",
            " [ 6107  4321]]\n"
          ]
        }
      ]
    },
    {
      "cell_type": "code",
      "source": [
        "dt_estimator = tree.DecisionTreeClassifier(max_depth=10)\n",
        "dt_estimator.fit(train_array_fun, train_fun.funny_label)\n",
        "y_train_funny = dt_estimator.predict(train_array_fun)\n",
        "y_val_funny = dt_estimator.predict(val_array_fun)\n",
        "y_test_funny = dt_estimator.predict(test_array_fun)\n",
        "print(\"accuracy score: \", accuracy_score(train_fun.funny_label, y_train_funny))\n",
        "print(\"confusion matrix: \")\n",
        "print(confusion_matrix(train_fun.funny_label, y_train_funny))\n",
        "print(\"accuracy score: \", accuracy_score(val.funny_label, y_val_funny))\n",
        "print(\"confusion matrix: \")\n",
        "print(confusion_matrix(val.funny_label, y_val_funny))\n",
        "print(\"accuracy score: \", accuracy_score(test.funny_label, y_test_funny))\n",
        "print(\"confusion matrix: \")\n",
        "print(confusion_matrix(test.funny_label, y_test_funny))"
      ],
      "metadata": {
        "colab": {
          "base_uri": "https://localhost:8080/"
        },
        "id": "pFOZnCl5x-_b",
        "outputId": "f2f57d49-cfdb-481c-ead2-25976908cb01"
      },
      "execution_count": null,
      "outputs": [
        {
          "output_type": "stream",
          "name": "stdout",
          "text": [
            "accuracy score:  0.6035065663172559\n",
            "confusion matrix: \n",
            "[[175971    612]\n",
            " [116078   1644]]\n",
            "accuracy score:  0.9034335857479183\n",
            "confusion matrix: \n",
            "[[88564   592]\n",
            " [ 8883    80]]\n",
            "accuracy score:  0.9118741329297515\n",
            "confusion matrix: \n",
            "[[115567    869]\n",
            " [ 10311    117]]\n"
          ]
        }
      ]
    },
    {
      "cell_type": "code",
      "source": [
        "dt_estimator = tree.DecisionTreeClassifier(max_depth=15)\n",
        "dt_estimator.fit(train_array_fun, train_fun.funny_label)\n",
        "y_train_funny = dt_estimator.predict(train_array_fun)\n",
        "y_val_funny = dt_estimator.predict(val_array_fun)\n",
        "y_test_funny = dt_estimator.predict(test_array_fun)\n",
        "print(\"accuracy score: \", accuracy_score(train_fun.funny_label, y_train_funny))\n",
        "print(\"confusion matrix: \")\n",
        "print(confusion_matrix(train_fun.funny_label, y_train_funny))\n",
        "print(\"accuracy score: \", accuracy_score(val.funny_label, y_val_funny))\n",
        "print(\"confusion matrix: \")\n",
        "print(confusion_matrix(val.funny_label, y_val_funny))\n",
        "print(\"accuracy score: \", accuracy_score(test.funny_label, y_test_funny))\n",
        "print(\"confusion matrix: \")\n",
        "print(confusion_matrix(test.funny_label, y_test_funny))"
      ],
      "metadata": {
        "colab": {
          "base_uri": "https://localhost:8080/"
        },
        "id": "-9BkAtjQy6GS",
        "outputId": "2a39e464-093d-48ec-b5f6-b2a011cf4f84"
      },
      "execution_count": null,
      "outputs": [
        {
          "output_type": "stream",
          "name": "stdout",
          "text": [
            "accuracy score:  0.6150660029561169\n",
            "confusion matrix: \n",
            "[[174092   2491]\n",
            " [110797   6925]]\n",
            "accuracy score:  0.8838043600118224\n",
            "confusion matrix: \n",
            "[[86421  2735]\n",
            " [ 8666   297]]\n",
            "accuracy score:  0.8918684575608525\n",
            "confusion matrix: \n",
            "[[112809   3627]\n",
            " [ 10091    337]]\n"
          ]
        }
      ]
    },
    {
      "cell_type": "code",
      "source": [
        "dt_estimator = tree.DecisionTreeClassifier(max_depth=7, min_samples_split=50)\n",
        "dt_estimator.fit(train_array_fun, train_fun.funny_label)\n",
        "y_train_funny = dt_estimator.predict(train_array_fun)\n",
        "y_val_funny = dt_estimator.predict(val_array_fun)\n",
        "y_test_funny = dt_estimator.predict(test_array_fun)\n",
        "print(\"accuracy score: \", accuracy_score(train_fun.funny_label, y_train_funny))\n",
        "print(\"confusion matrix: \")\n",
        "print(confusion_matrix(train_fun.funny_label, y_train_funny))\n",
        "print(\"accuracy score: \", accuracy_score(val.funny_label, y_val_funny))\n",
        "print(\"confusion matrix: \")\n",
        "print(confusion_matrix(val.funny_label, y_val_funny))\n",
        "print(\"accuracy score: \", accuracy_score(test.funny_label, y_test_funny))\n",
        "print(\"confusion matrix: \")\n",
        "print(confusion_matrix(test.funny_label, y_test_funny))"
      ],
      "metadata": {
        "colab": {
          "base_uri": "https://localhost:8080/"
        },
        "id": "eP4FfwV24moB",
        "outputId": "3ca78af6-1ef4-4c2d-cfa0-e4496dfa8f9b"
      },
      "execution_count": null,
      "outputs": [
        {
          "output_type": "stream",
          "name": "stdout",
          "text": [
            "accuracy score:  0.6010261463447784\n",
            "confusion matrix: \n",
            "[[176145    438]\n",
            " [116982    740]]\n",
            "accuracy score:  0.9062057297771073\n",
            "confusion matrix: \n",
            "[[88872   284]\n",
            " [ 8919    44]]\n",
            "accuracy score:  0.9149009963425401\n",
            "confusion matrix: \n",
            "[[116013    423]\n",
            " [ 10373     55]]\n"
          ]
        }
      ]
    },
    {
      "cell_type": "code",
      "source": [
        "dt_estimator = ensemble.GradientBoostingClassifier(learning_rate=0.1)\n",
        "dt_estimator.fit(train_array_fun, train_fun.funny_label)\n",
        "y_train_funny = dt_estimator.predict(train_array_fun)\n",
        "y_val_funny = dt_estimator.predict(val_array_fun)\n",
        "y_test_funny = dt_estimator.predict(test_array_fun)\n",
        "print(\"accuracy score: \", accuracy_score(train_fun.funny_label, y_train_funny))\n",
        "print(\"confusion matrix: \")\n",
        "print(confusion_matrix(train_fun.funny_label, y_train_funny))\n",
        "print(\"accuracy score: \", accuracy_score(val.funny_label, y_val_funny))\n",
        "print(\"confusion matrix: \")\n",
        "print(confusion_matrix(val.funny_label, y_val_funny))\n",
        "print(\"accuracy score: \", accuracy_score(test.funny_label, y_test_funny))\n",
        "print(\"confusion matrix: \")\n",
        "print(confusion_matrix(test.funny_label, y_test_funny))"
      ],
      "metadata": {
        "colab": {
          "base_uri": "https://localhost:8080/"
        },
        "id": "WM0cgF7WBCn0",
        "outputId": "a0a4079c-5231-4198-c016-5590b7396017"
      },
      "execution_count": null,
      "outputs": [
        {
          "output_type": "stream",
          "name": "stdout",
          "text": [
            "accuracy score:  0.6005368580214403\n",
            "confusion matrix: \n",
            "[[176573     10]\n",
            " [117554    168]]\n",
            "accuracy score:  0.9083459880349372\n",
            "confusion matrix: \n",
            "[[89121    35]\n",
            " [ 8958     5]]\n",
            "accuracy score:  0.91732091058141\n",
            "confusion matrix: \n",
            "[[116369     67]\n",
            " [ 10422      6]]\n"
          ]
        }
      ]
    },
    {
      "cell_type": "code",
      "source": [
        "dt_estimator = ensemble.AdaBoostClassifier(learning_rate=0.1)\n",
        "dt_estimator.fit(train_array_fun, train_fun.funny_label)\n",
        "y_train_funny = dt_estimator.predict(train_array_fun)\n",
        "y_val_funny = dt_estimator.predict(val_array_fun)\n",
        "y_test_funny = dt_estimator.predict(test_array_fun)\n",
        "print(\"accuracy score: \", accuracy_score(train_fun.funny_label, y_train_funny))\n",
        "print(\"confusion matrix: \")\n",
        "print(confusion_matrix(train_fun.funny_label, y_train_funny))\n",
        "print(\"accuracy score: \", accuracy_score(val.funny_label, y_val_funny))\n",
        "print(\"confusion matrix: \")\n",
        "print(confusion_matrix(val.funny_label, y_val_funny))\n",
        "print(\"accuracy score: \", accuracy_score(test.funny_label, y_test_funny))\n",
        "print(\"confusion matrix: \")\n",
        "print(confusion_matrix(test.funny_label, y_test_funny))"
      ],
      "metadata": {
        "colab": {
          "base_uri": "https://localhost:8080/"
        },
        "id": "GEfwTUiMbpSe",
        "outputId": "80b37eaf-efab-4eaa-fc48-1ea4b781da0a"
      },
      "execution_count": null,
      "outputs": [
        {
          "output_type": "stream",
          "name": "stdout",
          "text": [
            "accuracy score:  0.6\n",
            "confusion matrix: \n",
            "[[176583      0]\n",
            " [117722      0]]\n",
            "accuracy score:  0.9086517392146272\n",
            "confusion matrix: \n",
            "[[89156     0]\n",
            " [ 8963     0]]\n",
            "accuracy score:  0.9178017404464623\n",
            "confusion matrix: \n",
            "[[116436      0]\n",
            " [ 10428      0]]\n"
          ]
        }
      ]
    },
    {
      "cell_type": "code",
      "source": [
        "dt_estimator = XGBClassifier()\n",
        "dt_estimator.fit(train_array_fun, train_fun.funny_label)\n",
        "y_train_funny = dt_estimator.predict(train_array_fun)\n",
        "y_val_funny = dt_estimator.predict(val_array_fun)\n",
        "y_test_funny = dt_estimator.predict(test_array_fun)\n",
        "print(\"accuracy score: \", accuracy_score(train_fun.funny_label, y_train_funny))\n",
        "print(\"confusion matrix: \")\n",
        "print(confusion_matrix(train_fun.funny_label, y_train_funny))\n",
        "print(\"accuracy score: \", accuracy_score(val.funny_label, y_val_funny))\n",
        "print(\"confusion matrix: \")\n",
        "print(confusion_matrix(val.funny_label, y_val_funny))\n",
        "print(\"accuracy score: \", accuracy_score(test.funny_label, y_test_funny))\n",
        "print(\"confusion matrix: \")\n",
        "print(confusion_matrix(test.funny_label, y_test_funny))"
      ],
      "metadata": {
        "colab": {
          "base_uri": "https://localhost:8080/"
        },
        "id": "A1xQLTv4BLPj",
        "outputId": "55d6edb2-f1a8-448f-f658-37d6e74501f7"
      },
      "execution_count": null,
      "outputs": [
        {
          "output_type": "stream",
          "name": "stdout",
          "text": [
            "accuracy score:  0.6003227943799799\n",
            "confusion matrix: \n",
            "[[176577      6]\n",
            " [117621    101]]\n",
            "accuracy score:  0.9084580968008235\n",
            "confusion matrix: \n",
            "[[89134    22]\n",
            " [ 8960     3]]\n",
            "accuracy score:  0.9175652667423383\n",
            "confusion matrix: \n",
            "[[116401     35]\n",
            " [ 10423      5]]\n"
          ]
        }
      ]
    },
    {
      "cell_type": "markdown",
      "source": [
        "model = 'sbert'"
      ],
      "metadata": {
        "id": "OxDi5W_4iYSN"
      }
    },
    {
      "cell_type": "code",
      "source": [
        "model = 'sbert'\n",
        "with open(f'./text_processing/funny_processed_text/funny_{model}_train.npy', 'rb') as f:\n",
        "    train_array = np.load(f)\n",
        "with open(f'./text_processing/funny_processed_text/funny_{model}_val.npy', 'rb') as f:\n",
        "    val_array = np.load(f)\n",
        "with open(f'./text_processing/funny_processed_text/funny_{model}_test.npy', 'rb') as f:\n",
        "    test_array = np.load(f)\n",
        "\n",
        "for i in [train_array_fun, val_array_fun, test_array_fun]:\n",
        "    print(i.shape)"
      ],
      "metadata": {
        "colab": {
          "base_uri": "https://localhost:8080/"
        },
        "id": "bhTWYy7MiOhU",
        "outputId": "21ea7179-7108-4ba1-ba07-6f04ca9731cb"
      },
      "execution_count": null,
      "outputs": [
        {
          "output_type": "stream",
          "name": "stdout",
          "text": [
            "(294305, 768)\n",
            "(98119, 768)\n",
            "(126864, 768)\n"
          ]
        }
      ]
    },
    {
      "cell_type": "code",
      "source": [
        "dt_estimator = tree.DecisionTreeClassifier()\n",
        "dt_estimator.fit(train_array_fun, train_fun.funny_label)\n",
        "y_train_funny = dt_estimator.predict(train_array_fun)\n",
        "y_val_funny = dt_estimator.predict(val_array_fun)\n",
        "y_test_funny = dt_estimator.predict(test_array_fun)\n",
        "print(\"accuracy score: \", accuracy_score(train_fun.funny_label, y_train_funny))\n",
        "print(\"confusion matrix: \")\n",
        "print(confusion_matrix(train_fun.funny_label, y_train_funny))\n",
        "print(\"accuracy score: \", accuracy_score(val.funny_label, y_val_funny))\n",
        "print(\"confusion matrix: \")\n",
        "print(confusion_matrix(val.funny_label, y_val_funny))\n",
        "print(\"accuracy score: \", accuracy_score(test.funny_label, y_test_funny))\n",
        "print(\"confusion matrix: \")\n",
        "print(confusion_matrix(test.funny_label, y_test_funny))"
      ],
      "metadata": {
        "colab": {
          "base_uri": "https://localhost:8080/"
        },
        "id": "_7RtONVciiQV",
        "outputId": "5f80723e-db42-4e20-e106-379450a10feb"
      },
      "execution_count": null,
      "outputs": [
        {
          "output_type": "stream",
          "name": "stdout",
          "text": [
            "accuracy score:  0.9999150541105316\n",
            "confusion matrix: \n",
            "[[176583      0]\n",
            " [    25 117697]]\n",
            "accuracy score:  0.5730796277988972\n",
            "confusion matrix: \n",
            "[[52625 36531]\n",
            " [ 5358  3605]]\n",
            "accuracy score:  0.5756085256652793\n",
            "confusion matrix: \n",
            "[[68881 47555]\n",
            " [ 6285  4143]]\n"
          ]
        }
      ]
    },
    {
      "cell_type": "code",
      "source": [
        "dt_estimator = tree.DecisionTreeClassifier(max_depth=30)\n",
        "dt_estimator.fit(train_array_fun, train_fun.funny_label)\n",
        "y_train_funny = dt_estimator.predict(train_array_fun)\n",
        "y_val_funny = dt_estimator.predict(val_array_fun)\n",
        "y_test_funny = dt_estimator.predict(test_array_fun)\n",
        "print(\"accuracy score: \", accuracy_score(train_fun.funny_label, y_train_funny))\n",
        "print(\"confusion matrix: \")\n",
        "print(confusion_matrix(train_fun.funny_label, y_train_funny))\n",
        "print(\"accuracy score: \", accuracy_score(val.funny_label, y_val_funny))\n",
        "print(\"confusion matrix: \")\n",
        "print(confusion_matrix(val.funny_label, y_val_funny))\n",
        "print(\"accuracy score: \", accuracy_score(test.funny_label, y_test_funny))\n",
        "print(\"confusion matrix: \")\n",
        "print(confusion_matrix(test.funny_label, y_test_funny))"
      ],
      "metadata": {
        "colab": {
          "base_uri": "https://localhost:8080/"
        },
        "id": "ncP105dBDs50",
        "outputId": "3fbb23a7-76a7-4dcd-82d5-72d83e50a3dd"
      },
      "execution_count": null,
      "outputs": [
        {
          "output_type": "stream",
          "name": "stdout",
          "text": [
            "accuracy score:  0.6966242503525254\n",
            "confusion matrix: \n",
            "[[174005   2578]\n",
            " [ 86707  31015]]\n",
            "accuracy score:  0.8119426410786902\n",
            "confusion matrix: \n",
            "[[78692 10464]\n",
            " [ 7988   975]]\n",
            "accuracy score:  0.8185694917391853\n",
            "confusion matrix: \n",
            "[[102793  13643]\n",
            " [  9374   1054]]\n"
          ]
        }
      ]
    },
    {
      "cell_type": "code",
      "source": [
        "dt_estimator = tree.DecisionTreeClassifier(max_depth=15)\n",
        "dt_estimator.fit(train_array_fun, train_fun.funny_label)\n",
        "y_train_funny = dt_estimator.predict(train_array_fun)\n",
        "y_val_funny = dt_estimator.predict(val_array_fun)\n",
        "y_test_funny = dt_estimator.predict(test_array_fun)\n",
        "print(\"accuracy score: \", accuracy_score(train_fun.funny_label, y_train_funny))\n",
        "print(\"confusion matrix: \")\n",
        "print(confusion_matrix(train_fun.funny_label, y_train_funny))\n",
        "print(\"accuracy score: \", accuracy_score(val.funny_label, y_val_funny))\n",
        "print(\"confusion matrix: \")\n",
        "print(confusion_matrix(val.funny_label, y_val_funny))\n",
        "print(\"accuracy score: \", accuracy_score(test.funny_label, y_test_funny))\n",
        "print(\"confusion matrix: \")\n",
        "print(confusion_matrix(test.funny_label, y_test_funny))"
      ],
      "metadata": {
        "colab": {
          "base_uri": "https://localhost:8080/"
        },
        "id": "uw8DBbNJ1Mn-",
        "outputId": "803684f5-3e6f-479a-f605-e6a26d84e74c"
      },
      "execution_count": null,
      "outputs": [
        {
          "output_type": "stream",
          "name": "stdout",
          "text": [
            "accuracy score:  0.6144441990452082\n",
            "confusion matrix: \n",
            "[[175521   1062]\n",
            " [112409   5313]]\n",
            "accuracy score:  0.8889715549485828\n",
            "confusion matrix: \n",
            "[[87083  2073]\n",
            " [ 8821   142]]\n",
            "accuracy score:  0.8982690124858116\n",
            "confusion matrix: \n",
            "[[113797   2639]\n",
            " [ 10267    161]]\n"
          ]
        }
      ]
    },
    {
      "cell_type": "code",
      "source": [
        "dt_estimator = tree.DecisionTreeClassifier(max_depth=7, min_samples_split=50)\n",
        "dt_estimator.fit(train_array_fun, train_fun.funny_label)\n",
        "y_train_funny = dt_estimator.predict(train_array_fun)\n",
        "y_val_funny = dt_estimator.predict(val_array_fun)\n",
        "y_test_funny = dt_estimator.predict(test_array_fun)\n",
        "print(\"accuracy score: \", accuracy_score(train_fun.funny_label, y_train_funny))\n",
        "print(\"confusion matrix: \")\n",
        "print(confusion_matrix(train_fun.funny_label, y_train_funny))\n",
        "print(\"accuracy score: \", accuracy_score(val.funny_label, y_val_funny))\n",
        "print(\"confusion matrix: \")\n",
        "print(confusion_matrix(val.funny_label, y_val_funny))\n",
        "print(\"accuracy score: \", accuracy_score(test.funny_label, y_test_funny))\n",
        "print(\"confusion matrix: \")\n",
        "print(confusion_matrix(test.funny_label, y_test_funny))"
      ],
      "metadata": {
        "colab": {
          "base_uri": "https://localhost:8080/"
        },
        "id": "bQ-zRwaJijsr",
        "outputId": "f34596a9-0753-4253-a374-785deb6ce29a"
      },
      "execution_count": null,
      "outputs": [
        {
          "output_type": "stream",
          "name": "stdout",
          "text": [
            "accuracy score:  0.6015765957085336\n",
            "confusion matrix: \n",
            "[[176091    492]\n",
            " [116766    956]]\n",
            "accuracy score:  0.9036679949856806\n",
            "confusion matrix: \n",
            "[[88635   521]\n",
            " [ 8931    32]]\n",
            "accuracy score:  0.912993441795939\n",
            "confusion matrix: \n",
            "[[115783    653]\n",
            " [ 10385     43]]\n"
          ]
        }
      ]
    },
    {
      "cell_type": "code",
      "source": [
        "dt_estimator = ensemble.GradientBoostingClassifier(learning_rate=0.1)\n",
        "dt_estimator.fit(train_array_fun, train_fun.funny_label)\n",
        "y_train_funny = dt_estimator.predict(train_array_fun)\n",
        "y_val_funny = dt_estimator.predict(val_array_fun)\n",
        "y_test_funny = dt_estimator.predict(test_array_fun)\n",
        "print(\"accuracy score: \", accuracy_score(train_fun.funny_label, y_train_funny))\n",
        "print(\"confusion matrix: \")\n",
        "print(confusion_matrix(train_fun.funny_label, y_train_funny))\n",
        "print(\"accuracy score: \", accuracy_score(val.funny_label, y_val_funny))\n",
        "print(\"confusion matrix: \")\n",
        "print(confusion_matrix(val.funny_label, y_val_funny))\n",
        "print(\"accuracy score: \", accuracy_score(test.funny_label, y_test_funny))\n",
        "print(\"confusion matrix: \")\n",
        "print(confusion_matrix(test.funny_label, y_test_funny))"
      ],
      "metadata": {
        "colab": {
          "base_uri": "https://localhost:8080/"
        },
        "id": "9tuyZC7mjr5z",
        "outputId": "10edb96f-5b21-426c-cb38-53e540c8bd72"
      },
      "execution_count": null,
      "outputs": [
        {
          "output_type": "stream",
          "name": "stdout",
          "text": [
            "accuracy score:  0.6007441259917432\n",
            "confusion matrix: \n",
            "[[176580      3]\n",
            " [117500    222]]\n",
            "accuracy score:  0.9080911953851956\n",
            "confusion matrix: \n",
            "[[89100    56]\n",
            " [ 8962     1]]\n",
            "accuracy score:  0.9172184386429563\n",
            "confusion matrix: \n",
            "[[116359     77]\n",
            " [ 10425      3]]\n"
          ]
        }
      ]
    },
    {
      "cell_type": "code",
      "source": [
        "dt_estimator = XGBClassifier()\n",
        "dt_estimator.fit(train_array_fun, train_fun.funny_label)\n",
        "y_train_funny = dt_estimator.predict(train_array_fun)\n",
        "y_val_funny = dt_estimator.predict(val_array_fun)\n",
        "y_test_funny = dt_estimator.predict(test_array_fun)\n",
        "print(\"accuracy score: \", accuracy_score(train_fun.funny_label, y_train_funny))\n",
        "print(\"confusion matrix: \")\n",
        "print(confusion_matrix(train_fun.funny_label, y_train_funny))\n",
        "print(\"accuracy score: \", accuracy_score(val.funny_label, y_val_funny))\n",
        "print(\"confusion matrix: \")\n",
        "print(confusion_matrix(val.funny_label, y_val_funny))\n",
        "print(\"accuracy score: \", accuracy_score(test.funny_label, y_test_funny))\n",
        "print(\"confusion matrix: \")\n",
        "print(confusion_matrix(test.funny_label, y_test_funny))"
      ],
      "metadata": {
        "colab": {
          "base_uri": "https://localhost:8080/"
        },
        "id": "9WEiC7DUoJQm",
        "outputId": "2c88d5b7-5d49-4677-cc7b-3f4bdfb7fc06"
      },
      "execution_count": null,
      "outputs": [
        {
          "output_type": "stream",
          "name": "stdout",
          "text": [
            "accuracy score:  0.6003363857222949\n",
            "confusion matrix: \n",
            "[[176581      2]\n",
            " [117621    101]]\n",
            "accuracy score:  0.9083561797409269\n",
            "confusion matrix: \n",
            "[[89127    29]\n",
            " [ 8963     0]]\n",
            "accuracy score:  0.9175179720015134\n",
            "confusion matrix: \n",
            "[[116399     37]\n",
            " [ 10427      1]]\n"
          ]
        }
      ]
    },
    {
      "cell_type": "markdown",
      "source": [
        "# cool"
      ],
      "metadata": {
        "id": "MJFRKF_T2-8y"
      }
    },
    {
      "cell_type": "code",
      "source": [
        "model = 'doc2vec'\n",
        "with open(f'./text_processing/cool_processed_text/cool_{model}_train.npy', 'rb') as f:\n",
        "    train_array = np.load(f)\n",
        "with open(f'./text_processing/cool_processed_text/cool_{model}_val.npy', 'rb') as f:\n",
        "    val_array = np.load(f)\n",
        "with open(f'./text_processing/cool_processed_text/cool_{model}_test.npy', 'rb') as f:\n",
        "    test_array = np.load(f)\n",
        "\n",
        "for i in [train_array_cool, val_array_cool, test_array_cool]:\n",
        "    print(i.shape)"
      ],
      "metadata": {
        "colab": {
          "base_uri": "https://localhost:8080/"
        },
        "id": "rYYSv46BogUg",
        "outputId": "1760d6d8-03d9-474a-d2cf-61b2ab5c658a"
      },
      "execution_count": null,
      "outputs": [
        {
          "output_type": "stream",
          "name": "stdout",
          "text": [
            "(376157, 60)\n",
            "(98119, 60)\n",
            "(126864, 60)\n"
          ]
        }
      ]
    },
    {
      "cell_type": "code",
      "source": [
        "dt_estimator = tree.DecisionTreeClassifier()\n",
        "dt_estimator.fit(train_array_cool, train_cool.cool_label)\n",
        "y_train_cool = dt_estimator.predict(train_array_cool)\n",
        "y_val_cool = dt_estimator.predict(val_array_cool)\n",
        "y_test_cool = dt_estimator.predict(test_array_cool)\n",
        "print(\"accuracy score: \", accuracy_score(train_cool.cool_label, y_train_cool))\n",
        "print(\"confusion matrix: \")\n",
        "print(confusion_matrix(train_cool.cool_label, y_train_cool))\n",
        "print(\"accuracy score: \", accuracy_score(val.cool_label, y_val_cool))\n",
        "print(\"confusion matrix: \")\n",
        "print(confusion_matrix(val.cool_label, y_val_cool))\n",
        "print(\"accuracy score: \", accuracy_score(test.cool_label, y_test_cool))\n",
        "print(\"confusion matrix: \")\n",
        "print(confusion_matrix(test.cool_label, y_test_cool))"
      ],
      "metadata": {
        "colab": {
          "base_uri": "https://localhost:8080/"
        },
        "id": "kFYDtQ3j3Ghl",
        "outputId": "c64e444c-08c4-4d1c-e2a8-2e2b01b5adba"
      },
      "execution_count": null,
      "outputs": [
        {
          "output_type": "stream",
          "name": "stdout",
          "text": [
            "accuracy score:  1.0\n",
            "confusion matrix: \n",
            "[[225694      0]\n",
            " [     0 150463]]\n",
            "accuracy score:  0.5638153670542912\n",
            "confusion matrix: \n",
            "[[49685 34614]\n",
            " [ 8184  5636]]\n",
            "accuracy score:  0.5692631479379493\n",
            "confusion matrix: \n",
            "[[65519 44876]\n",
            " [ 9769  6700]]\n"
          ]
        }
      ]
    },
    {
      "cell_type": "code",
      "source": [
        "dt_estimator = tree.DecisionTreeClassifier(max_depth=20)\n",
        "dt_estimator.fit(train_array_cool, train_cool.cool_label)\n",
        "y_train_cool = dt_estimator.predict(train_array_cool)\n",
        "y_val_cool = dt_estimator.predict(val_array_cool)\n",
        "y_test_cool = dt_estimator.predict(test_array_cool)\n",
        "print(\"accuracy score: \", accuracy_score(train_cool.cool_label, y_train_cool))\n",
        "print(\"confusion matrix: \")\n",
        "print(confusion_matrix(train_cool.cool_label, y_train_cool))\n",
        "print(\"accuracy score: \", accuracy_score(val.cool_label, y_val_cool))\n",
        "print(\"confusion matrix: \")\n",
        "print(confusion_matrix(val.cool_label, y_val_cool))\n",
        "print(\"accuracy score: \", accuracy_score(test.cool_label, y_test_cool))\n",
        "print(\"confusion matrix: \")\n",
        "print(confusion_matrix(test.cool_label, y_test_cool))"
      ],
      "metadata": {
        "colab": {
          "base_uri": "https://localhost:8080/"
        },
        "id": "PgumMTW89pct",
        "outputId": "29935574-1e77-45d8-8986-d421c286351e"
      },
      "execution_count": null,
      "outputs": [
        {
          "output_type": "stream",
          "name": "stdout",
          "text": [
            "accuracy score:  0.6205068628258945\n",
            "confusion matrix: \n",
            "[[223124   2570]\n",
            " [140179  10284]]\n",
            "accuracy score:  0.8333350319509982\n",
            "confusion matrix: \n",
            "[[81296  3003]\n",
            " [13350   470]]\n",
            "accuracy score:  0.8433677008449993\n",
            "confusion matrix: \n",
            "[[106407   3988]\n",
            " [ 15883    586]]\n"
          ]
        }
      ]
    },
    {
      "cell_type": "code",
      "source": [
        "dt_estimator = tree.DecisionTreeClassifier(max_depth=30)\n",
        "dt_estimator.fit(train_array_cool, train_cool.cool_label)\n",
        "y_train_cool = dt_estimator.predict(train_array_cool)\n",
        "y_val_cool = dt_estimator.predict(val_array_cool)\n",
        "y_test_cool = dt_estimator.predict(test_array_cool)\n",
        "print(\"accuracy score: \", accuracy_score(train_cool.cool_label, y_train_cool))\n",
        "print(\"confusion matrix: \")\n",
        "print(confusion_matrix(train_cool.cool_label, y_train_cool))\n",
        "print(\"accuracy score: \", accuracy_score(val.cool_label, y_val_cool))\n",
        "print(\"confusion matrix: \")\n",
        "print(confusion_matrix(val.cool_label, y_val_cool))\n",
        "print(\"accuracy score: \", accuracy_score(test.cool_label, y_test_cool))\n",
        "print(\"confusion matrix: \")\n",
        "print(confusion_matrix(test.cool_label, y_test_cool))"
      ],
      "metadata": {
        "colab": {
          "base_uri": "https://localhost:8080/"
        },
        "id": "H83_8QKI9dLJ",
        "outputId": "47cfdd06-0d74-47fa-8414-2b619310f159"
      },
      "execution_count": null,
      "outputs": [
        {
          "output_type": "stream",
          "name": "stdout",
          "text": [
            "accuracy score:  0.6850915973915147\n",
            "confusion matrix: \n",
            "[[221114   4580]\n",
            " [113875  36588]]\n",
            "accuracy score:  0.7745288883906277\n",
            "confusion matrix: \n",
            "[[74509  9790]\n",
            " [12333  1487]]\n",
            "accuracy score:  0.7830669062933535\n",
            "confusion matrix: \n",
            "[[97600 12795]\n",
            " [14726  1743]]\n"
          ]
        }
      ]
    },
    {
      "cell_type": "code",
      "source": [
        "dt_estimator = tree.DecisionTreeClassifier(max_depth=7, min_samples_split=50)\n",
        "dt_estimator.fit(train_array_cool, train_cool.cool_label)\n",
        "y_train_cool = dt_estimator.predict(train_array_cool)\n",
        "y_val_cool = dt_estimator.predict(val_array_cool)\n",
        "y_test_cool = dt_estimator.predict(test_array_cool)\n",
        "print(\"accuracy score: \", accuracy_score(train_cool.cool_label, y_train_cool))\n",
        "print(\"confusion matrix: \")\n",
        "print(confusion_matrix(train_cool.cool_label, y_train_cool))\n",
        "print(\"accuracy score: \", accuracy_score(val.cool_label, y_val_cool))\n",
        "print(\"confusion matrix: \")\n",
        "print(confusion_matrix(val.cool_label, y_val_cool))\n",
        "print(\"accuracy score: \", accuracy_score(test.cool_label, y_test_cool))\n",
        "print(\"confusion matrix: \")\n",
        "print(confusion_matrix(test.cool_label, y_test_cool))"
      ],
      "metadata": {
        "colab": {
          "base_uri": "https://localhost:8080/"
        },
        "id": "OGV3AyN-4vV5",
        "outputId": "634b8d78-391d-432a-e37d-f2956442ab8b"
      },
      "execution_count": null,
      "outputs": [
        {
          "output_type": "stream",
          "name": "stdout",
          "text": [
            "accuracy score:  0.6005338196550908\n",
            "confusion matrix: \n",
            "[[224992    702]\n",
            " [149560    903]]\n",
            "accuracy score:  0.8562663704277459\n",
            "confusion matrix: \n",
            "[[83964   335]\n",
            " [13768    52]]\n",
            "accuracy score:  0.8672357800479253\n",
            "confusion matrix: \n",
            "[[109951    444]\n",
            " [ 16399     70]]\n"
          ]
        }
      ]
    },
    {
      "cell_type": "code",
      "source": [
        "dt_estimator = ensemble.GradientBoostingClassifier(learning_rate=0.1)\n",
        "dt_estimator.fit(train_array_cool, train_cool.cool_label)\n",
        "y_train_cool = dt_estimator.predict(train_array_cool)\n",
        "y_val_cool = dt_estimator.predict(val_array_cool)\n",
        "y_test_cool = dt_estimator.predict(test_array_cool)\n",
        "print(\"accuracy score: \", accuracy_score(train_cool.cool_label, y_train_cool))\n",
        "print(\"confusion matrix: \")\n",
        "print(confusion_matrix(train_cool.cool_label, y_train_cool))\n",
        "print(\"accuracy score: \", accuracy_score(val.cool_label, y_val_cool))\n",
        "print(\"confusion matrix: \")\n",
        "print(confusion_matrix(val.cool_label, y_val_cool))\n",
        "print(\"accuracy score: \", accuracy_score(test.cool_label, y_test_cool))\n",
        "print(\"confusion matrix: \")\n",
        "print(confusion_matrix(test.cool_label, y_test_cool))"
      ],
      "metadata": {
        "colab": {
          "base_uri": "https://localhost:8080/"
        },
        "id": "WjOr7OVABUmb",
        "outputId": "03fd4ae7-82a4-4e03-8984-c8e4741dfa0b"
      },
      "execution_count": null,
      "outputs": [
        {
          "output_type": "stream",
          "name": "stdout",
          "text": [
            "accuracy score:  0.6004886257599885\n",
            "confusion matrix: \n",
            "[[225687      7]\n",
            " [150272    191]]\n",
            "accuracy score:  0.8588958305730796\n",
            "confusion matrix: \n",
            "[[84272    27]\n",
            " [13818     2]]\n",
            "accuracy score:  0.8699236978181359\n",
            "confusion matrix: \n",
            "[[110353     42]\n",
            " [ 16460      9]]\n"
          ]
        }
      ]
    },
    {
      "cell_type": "code",
      "source": [
        "dt_estimator = ensemble.AdaBoostClassifier(learning_rate=0.1)\n",
        "dt_estimator.fit(train_array_cool, train_cool.cool_label)\n",
        "y_train_cool = dt_estimator.predict(train_array_cool)\n",
        "y_val_cool = dt_estimator.predict(val_array_cool)\n",
        "y_test_cool = dt_estimator.predict(test_array_cool)\n",
        "print(\"accuracy score: \", accuracy_score(train_cool.cool_label, y_train_cool))\n",
        "print(\"confusion matrix: \")\n",
        "print(confusion_matrix(train_cool.cool_label, y_train_cool))\n",
        "print(\"accuracy score: \", accuracy_score(val.cool_label, y_val_cool))\n",
        "print(\"confusion matrix: \")\n",
        "print(confusion_matrix(val.cool_label, y_val_cool))\n",
        "print(\"accuracy score: \", accuracy_score(test.cool_label, y_test_cool))\n",
        "print(\"confusion matrix: \")\n",
        "print(confusion_matrix(test.cool_label, y_test_cool))"
      ],
      "metadata": {
        "colab": {
          "base_uri": "https://localhost:8080/"
        },
        "id": "AbYNn0tdbw7C",
        "outputId": "14f5b3ec-cacf-4777-b955-26310ae2760e"
      },
      "execution_count": null,
      "outputs": [
        {
          "output_type": "stream",
          "name": "stdout",
          "text": [
            "accuracy score:  0.6000180775580409\n",
            "confusion matrix: \n",
            "[[225694      0]\n",
            " [150456      7]]\n",
            "accuracy score:  0.8591506232228213\n",
            "confusion matrix: \n",
            "[[84299     0]\n",
            " [13820     0]]\n",
            "accuracy score:  0.8701444066086518\n",
            "confusion matrix: \n",
            "[[110389      6]\n",
            " [ 16468      1]]\n"
          ]
        }
      ]
    },
    {
      "cell_type": "code",
      "source": [
        "dt_estimator = XGBClassifier()\n",
        "dt_estimator.fit(train_array_cool, train_cool.cool_label)\n",
        "y_train_cool = dt_estimator.predict(train_array_cool)\n",
        "y_val_cool = dt_estimator.predict(val_array_cool)\n",
        "y_test_cool = dt_estimator.predict(test_array_cool)\n",
        "print(\"accuracy score: \", accuracy_score(train_cool.cool_label, y_train_cool))\n",
        "print(\"confusion matrix: \")\n",
        "print(confusion_matrix(train_cool.cool_label, y_train_cool))\n",
        "print(\"accuracy score: \", accuracy_score(val.cool_label, y_val_cool))\n",
        "print(\"confusion matrix: \")\n",
        "print(confusion_matrix(val.cool_label, y_val_cool))\n",
        "print(\"accuracy score: \", accuracy_score(test.cool_label, y_test_cool))\n",
        "print(\"confusion matrix: \")\n",
        "print(confusion_matrix(test.cool_label, y_test_cool))"
      ],
      "metadata": {
        "id": "mobhlelB4wBS",
        "colab": {
          "base_uri": "https://localhost:8080/"
        },
        "outputId": "59d4c221-6eee-4b95-894d-8272c9fe552b"
      },
      "execution_count": null,
      "outputs": [
        {
          "output_type": "stream",
          "name": "stdout",
          "text": [
            "accuracy score:  0.6002839239998192\n",
            "confusion matrix: \n",
            "[[225686      8]\n",
            " [150348    115]]\n",
            "accuracy score:  0.8589671725150073\n",
            "confusion matrix: \n",
            "[[84279    20]\n",
            " [13818     2]]\n",
            "accuracy score:  0.8700025223861774\n",
            "confusion matrix: \n",
            "[[110367     28]\n",
            " [ 16464      5]]\n"
          ]
        }
      ]
    }
  ]
}