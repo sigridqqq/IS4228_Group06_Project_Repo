{
  "cells": [
    {
      "cell_type": "code",
      "execution_count": null,
      "metadata": {
        "id": "XkXINa0zjKAQ"
      },
      "outputs": [],
      "source": [
        "import numpy as np \n",
        "import json \n",
        "import pandas as pd \n",
        "from sklearn.feature_extraction.text import CountVectorizer, HashingVectorizer, TfidfVectorizer\n",
        "from scipy import sparse \n",
        "import pickle "
      ]
    },
    {
      "cell_type": "code",
      "execution_count": null,
      "metadata": {
        "id": "0tliR282jMz-"
      },
      "outputs": [],
      "source": [
        "train_path ='./data/train_processed.csv'\n",
        "val_path =  './data/val_processed.csv'\n",
        "test_path = './data/test_processed.csv'\n",
        "\n",
        "train = pd.read_csv(train_path)\n",
        "val = pd.read_csv(val_path)\n",
        "test = pd.read_csv(test_path)"
      ]
    },
    {
      "cell_type": "code",
      "execution_count": null,
      "metadata": {
        "colab": {
          "base_uri": "https://localhost:8080/",
          "height": 620
        },
        "id": "WMyzo_d2jQ-v",
        "outputId": "8c86f502-ceb9-4832-da3e-3c6225d9d518"
      },
      "outputs": [
        {
          "output_type": "execute_result",
          "data": {
            "text/plain": [
              "   Unnamed: 0  Unnamed: 0.1  Unnamed: 0.1.1               review_id  \\\n",
              "0           0             0               0  O4RZMP8IFyJTNfRp0QXEsw   \n",
              "1           1             1               1  66KqTwiQ1oB9-aTsoEN35Q   \n",
              "2           2             2               2  3KQ3_xutS5R3mX7HsPWpgw   \n",
              "3           3             3               3  p659sFGjbL8chCRZPPyFmg   \n",
              "4           4             4               4  1XEm85LhDeiUHdG0R_rXSQ   \n",
              "\n",
              "                  user_id             business_id  stars        date  \\\n",
              "0  u0LXt3Uea_GidxRW1xcsfg  vcxvQyAggPqxcHwvJXvjGg      4  2017-01-04   \n",
              "1  u0LXt3Uea_GidxRW1xcsfg  DKiRDPtQ5cTN-eX1oEgA9w      3  2017-01-04   \n",
              "2  u0LXt3Uea_GidxRW1xcsfg  zkU-WMio8g6dpRJ2Y2xqvQ      4  2017-01-04   \n",
              "3  u0LXt3Uea_GidxRW1xcsfg  3RlylOY452bA8rwliPUeUQ      4  2017-01-04   \n",
              "4  u0LXt3Uea_GidxRW1xcsfg  sTV4qyjDkY5cLvx2omtLyw      4  2017-02-07   \n",
              "\n",
              "                                                text  useful  ...    year  \\\n",
              "0  Love this place!\\n\\nThe cakes are delicious bu...     0.0  ...  2017.0   \n",
              "1  It's a pub... nice and clean one.\\n\\nCame here...     0.0  ...  2017.0   \n",
              "2  Came here for dim sum - it's one of those mark...     0.0  ...  2017.0   \n",
              "3  My sister loves this place! Probably comes by ...     1.0  ...  2017.0   \n",
              "4  Nice addition to the Distillery district! Stum...     1.0  ...  2017.0   \n",
              "\n",
              "   month  day  language                                       cleaned_text  \\\n",
              "0    1.0  4.0        en  Love place cake delicious really rich cute cup...   \n",
              "1    1.0  4.0        en  pub nice clean one Came grab food girl since T...   \n",
              "2    1.0  4.0        en  Came dim sum one mark sheet order dim sum pret...   \n",
              "3    1.0  4.0        en  sister love place Probably come week every two...   \n",
              "4    2.0  7.0        en  Nice addition Distillery district Stumbled upo...   \n",
              "\n",
              "  funny_label cool_label  useful_label  funny_sampled_flag  cool_sampled_flag  \n",
              "0           0          0             0                   0                  0  \n",
              "1           0          0             0                   0                  0  \n",
              "2           0          0             0                   0                  0  \n",
              "3           0          0             1                   1                  1  \n",
              "4           0          0             1                   0                  0  \n",
              "\n",
              "[5 rows x 22 columns]"
            ],
            "text/html": [
              "\n",
              "  <div id=\"df-3049b4dd-07fe-40cb-a647-893e0d46cdc4\">\n",
              "    <div class=\"colab-df-container\">\n",
              "      <div>\n",
              "<style scoped>\n",
              "    .dataframe tbody tr th:only-of-type {\n",
              "        vertical-align: middle;\n",
              "    }\n",
              "\n",
              "    .dataframe tbody tr th {\n",
              "        vertical-align: top;\n",
              "    }\n",
              "\n",
              "    .dataframe thead th {\n",
              "        text-align: right;\n",
              "    }\n",
              "</style>\n",
              "<table border=\"1\" class=\"dataframe\">\n",
              "  <thead>\n",
              "    <tr style=\"text-align: right;\">\n",
              "      <th></th>\n",
              "      <th>Unnamed: 0</th>\n",
              "      <th>Unnamed: 0.1</th>\n",
              "      <th>Unnamed: 0.1.1</th>\n",
              "      <th>review_id</th>\n",
              "      <th>user_id</th>\n",
              "      <th>business_id</th>\n",
              "      <th>stars</th>\n",
              "      <th>date</th>\n",
              "      <th>text</th>\n",
              "      <th>useful</th>\n",
              "      <th>...</th>\n",
              "      <th>year</th>\n",
              "      <th>month</th>\n",
              "      <th>day</th>\n",
              "      <th>language</th>\n",
              "      <th>cleaned_text</th>\n",
              "      <th>funny_label</th>\n",
              "      <th>cool_label</th>\n",
              "      <th>useful_label</th>\n",
              "      <th>funny_sampled_flag</th>\n",
              "      <th>cool_sampled_flag</th>\n",
              "    </tr>\n",
              "  </thead>\n",
              "  <tbody>\n",
              "    <tr>\n",
              "      <th>0</th>\n",
              "      <td>0</td>\n",
              "      <td>0</td>\n",
              "      <td>0</td>\n",
              "      <td>O4RZMP8IFyJTNfRp0QXEsw</td>\n",
              "      <td>u0LXt3Uea_GidxRW1xcsfg</td>\n",
              "      <td>vcxvQyAggPqxcHwvJXvjGg</td>\n",
              "      <td>4</td>\n",
              "      <td>2017-01-04</td>\n",
              "      <td>Love this place!\\n\\nThe cakes are delicious bu...</td>\n",
              "      <td>0.0</td>\n",
              "      <td>...</td>\n",
              "      <td>2017.0</td>\n",
              "      <td>1.0</td>\n",
              "      <td>4.0</td>\n",
              "      <td>en</td>\n",
              "      <td>Love place cake delicious really rich cute cup...</td>\n",
              "      <td>0</td>\n",
              "      <td>0</td>\n",
              "      <td>0</td>\n",
              "      <td>0</td>\n",
              "      <td>0</td>\n",
              "    </tr>\n",
              "    <tr>\n",
              "      <th>1</th>\n",
              "      <td>1</td>\n",
              "      <td>1</td>\n",
              "      <td>1</td>\n",
              "      <td>66KqTwiQ1oB9-aTsoEN35Q</td>\n",
              "      <td>u0LXt3Uea_GidxRW1xcsfg</td>\n",
              "      <td>DKiRDPtQ5cTN-eX1oEgA9w</td>\n",
              "      <td>3</td>\n",
              "      <td>2017-01-04</td>\n",
              "      <td>It's a pub... nice and clean one.\\n\\nCame here...</td>\n",
              "      <td>0.0</td>\n",
              "      <td>...</td>\n",
              "      <td>2017.0</td>\n",
              "      <td>1.0</td>\n",
              "      <td>4.0</td>\n",
              "      <td>en</td>\n",
              "      <td>pub nice clean one Came grab food girl since T...</td>\n",
              "      <td>0</td>\n",
              "      <td>0</td>\n",
              "      <td>0</td>\n",
              "      <td>0</td>\n",
              "      <td>0</td>\n",
              "    </tr>\n",
              "    <tr>\n",
              "      <th>2</th>\n",
              "      <td>2</td>\n",
              "      <td>2</td>\n",
              "      <td>2</td>\n",
              "      <td>3KQ3_xutS5R3mX7HsPWpgw</td>\n",
              "      <td>u0LXt3Uea_GidxRW1xcsfg</td>\n",
              "      <td>zkU-WMio8g6dpRJ2Y2xqvQ</td>\n",
              "      <td>4</td>\n",
              "      <td>2017-01-04</td>\n",
              "      <td>Came here for dim sum - it's one of those mark...</td>\n",
              "      <td>0.0</td>\n",
              "      <td>...</td>\n",
              "      <td>2017.0</td>\n",
              "      <td>1.0</td>\n",
              "      <td>4.0</td>\n",
              "      <td>en</td>\n",
              "      <td>Came dim sum one mark sheet order dim sum pret...</td>\n",
              "      <td>0</td>\n",
              "      <td>0</td>\n",
              "      <td>0</td>\n",
              "      <td>0</td>\n",
              "      <td>0</td>\n",
              "    </tr>\n",
              "    <tr>\n",
              "      <th>3</th>\n",
              "      <td>3</td>\n",
              "      <td>3</td>\n",
              "      <td>3</td>\n",
              "      <td>p659sFGjbL8chCRZPPyFmg</td>\n",
              "      <td>u0LXt3Uea_GidxRW1xcsfg</td>\n",
              "      <td>3RlylOY452bA8rwliPUeUQ</td>\n",
              "      <td>4</td>\n",
              "      <td>2017-01-04</td>\n",
              "      <td>My sister loves this place! Probably comes by ...</td>\n",
              "      <td>1.0</td>\n",
              "      <td>...</td>\n",
              "      <td>2017.0</td>\n",
              "      <td>1.0</td>\n",
              "      <td>4.0</td>\n",
              "      <td>en</td>\n",
              "      <td>sister love place Probably come week every two...</td>\n",
              "      <td>0</td>\n",
              "      <td>0</td>\n",
              "      <td>1</td>\n",
              "      <td>1</td>\n",
              "      <td>1</td>\n",
              "    </tr>\n",
              "    <tr>\n",
              "      <th>4</th>\n",
              "      <td>4</td>\n",
              "      <td>4</td>\n",
              "      <td>4</td>\n",
              "      <td>1XEm85LhDeiUHdG0R_rXSQ</td>\n",
              "      <td>u0LXt3Uea_GidxRW1xcsfg</td>\n",
              "      <td>sTV4qyjDkY5cLvx2omtLyw</td>\n",
              "      <td>4</td>\n",
              "      <td>2017-02-07</td>\n",
              "      <td>Nice addition to the Distillery district! Stum...</td>\n",
              "      <td>1.0</td>\n",
              "      <td>...</td>\n",
              "      <td>2017.0</td>\n",
              "      <td>2.0</td>\n",
              "      <td>7.0</td>\n",
              "      <td>en</td>\n",
              "      <td>Nice addition Distillery district Stumbled upo...</td>\n",
              "      <td>0</td>\n",
              "      <td>0</td>\n",
              "      <td>1</td>\n",
              "      <td>0</td>\n",
              "      <td>0</td>\n",
              "    </tr>\n",
              "  </tbody>\n",
              "</table>\n",
              "<p>5 rows × 22 columns</p>\n",
              "</div>\n",
              "      <button class=\"colab-df-convert\" onclick=\"convertToInteractive('df-3049b4dd-07fe-40cb-a647-893e0d46cdc4')\"\n",
              "              title=\"Convert this dataframe to an interactive table.\"\n",
              "              style=\"display:none;\">\n",
              "        \n",
              "  <svg xmlns=\"http://www.w3.org/2000/svg\" height=\"24px\"viewBox=\"0 0 24 24\"\n",
              "       width=\"24px\">\n",
              "    <path d=\"M0 0h24v24H0V0z\" fill=\"none\"/>\n",
              "    <path d=\"M18.56 5.44l.94 2.06.94-2.06 2.06-.94-2.06-.94-.94-2.06-.94 2.06-2.06.94zm-11 1L8.5 8.5l.94-2.06 2.06-.94-2.06-.94L8.5 2.5l-.94 2.06-2.06.94zm10 10l.94 2.06.94-2.06 2.06-.94-2.06-.94-.94-2.06-.94 2.06-2.06.94z\"/><path d=\"M17.41 7.96l-1.37-1.37c-.4-.4-.92-.59-1.43-.59-.52 0-1.04.2-1.43.59L10.3 9.45l-7.72 7.72c-.78.78-.78 2.05 0 2.83L4 21.41c.39.39.9.59 1.41.59.51 0 1.02-.2 1.41-.59l7.78-7.78 2.81-2.81c.8-.78.8-2.07 0-2.86zM5.41 20L4 18.59l7.72-7.72 1.47 1.35L5.41 20z\"/>\n",
              "  </svg>\n",
              "      </button>\n",
              "      \n",
              "  <style>\n",
              "    .colab-df-container {\n",
              "      display:flex;\n",
              "      flex-wrap:wrap;\n",
              "      gap: 12px;\n",
              "    }\n",
              "\n",
              "    .colab-df-convert {\n",
              "      background-color: #E8F0FE;\n",
              "      border: none;\n",
              "      border-radius: 50%;\n",
              "      cursor: pointer;\n",
              "      display: none;\n",
              "      fill: #1967D2;\n",
              "      height: 32px;\n",
              "      padding: 0 0 0 0;\n",
              "      width: 32px;\n",
              "    }\n",
              "\n",
              "    .colab-df-convert:hover {\n",
              "      background-color: #E2EBFA;\n",
              "      box-shadow: 0px 1px 2px rgba(60, 64, 67, 0.3), 0px 1px 3px 1px rgba(60, 64, 67, 0.15);\n",
              "      fill: #174EA6;\n",
              "    }\n",
              "\n",
              "    [theme=dark] .colab-df-convert {\n",
              "      background-color: #3B4455;\n",
              "      fill: #D2E3FC;\n",
              "    }\n",
              "\n",
              "    [theme=dark] .colab-df-convert:hover {\n",
              "      background-color: #434B5C;\n",
              "      box-shadow: 0px 1px 3px 1px rgba(0, 0, 0, 0.15);\n",
              "      filter: drop-shadow(0px 1px 2px rgba(0, 0, 0, 0.3));\n",
              "      fill: #FFFFFF;\n",
              "    }\n",
              "  </style>\n",
              "\n",
              "      <script>\n",
              "        const buttonEl =\n",
              "          document.querySelector('#df-3049b4dd-07fe-40cb-a647-893e0d46cdc4 button.colab-df-convert');\n",
              "        buttonEl.style.display =\n",
              "          google.colab.kernel.accessAllowed ? 'block' : 'none';\n",
              "\n",
              "        async function convertToInteractive(key) {\n",
              "          const element = document.querySelector('#df-3049b4dd-07fe-40cb-a647-893e0d46cdc4');\n",
              "          const dataTable =\n",
              "            await google.colab.kernel.invokeFunction('convertToInteractive',\n",
              "                                                     [key], {});\n",
              "          if (!dataTable) return;\n",
              "\n",
              "          const docLinkHtml = 'Like what you see? Visit the ' +\n",
              "            '<a target=\"_blank\" href=https://colab.research.google.com/notebooks/data_table.ipynb>data table notebook</a>'\n",
              "            + ' to learn more about interactive tables.';\n",
              "          element.innerHTML = '';\n",
              "          dataTable['output_type'] = 'display_data';\n",
              "          await google.colab.output.renderOutput(dataTable, element);\n",
              "          const docLink = document.createElement('div');\n",
              "          docLink.innerHTML = docLinkHtml;\n",
              "          element.appendChild(docLink);\n",
              "        }\n",
              "      </script>\n",
              "    </div>\n",
              "  </div>\n",
              "  "
            ]
          },
          "metadata": {},
          "execution_count": 4
        }
      ],
      "source": [
        "train.head()"
      ]
    },
    {
      "cell_type": "code",
      "execution_count": null,
      "metadata": {
        "id": "0HysAND_kgOX"
      },
      "outputs": [],
      "source": [
        "train['l1']=train.text.str.split().apply(len)\n",
        "train['l2']=train.cleaned_text.str.split().apply(len)\n",
        "train['l3']=train.text.apply(len)\n",
        "train['l4']=train.cleaned_text.apply(len)"
      ]
    },
    {
      "cell_type": "code",
      "execution_count": null,
      "metadata": {
        "id": "ZQij2FGRk6gu"
      },
      "outputs": [],
      "source": [
        "# train_use = train\n",
        "train_fun = train[train.funny_sampled_flag==1]\n",
        "train_cool = train[train.cool_sampled_flag==1]"
      ]
    },
    {
      "cell_type": "code",
      "execution_count": null,
      "metadata": {
        "id": "04SmUDnRlJam"
      },
      "outputs": [],
      "source": [
        "val['l1']=val.text.str.split().apply(len)\n",
        "val['l2']=val.cleaned_text.str.split().apply(len)\n",
        "val['l3']=val.text.apply(len)\n",
        "val['l4']=val.cleaned_text.apply(len)\n",
        "\n",
        "test['l1']=test.text.str.split().apply(len)\n",
        "test['l2']=test.cleaned_text.str.split().apply(len)\n",
        "test['l3']=test.text.apply(len)\n",
        "test['l4']=test.cleaned_text.apply(len)"
      ]
    },
    {
      "cell_type": "code",
      "execution_count": null,
      "metadata": {
        "colab": {
          "base_uri": "https://localhost:8080/"
        },
        "id": "hgPjlOlnp0w_",
        "outputId": "39a0933a-4917-4c01-8bd7-89077f85095d"
      },
      "outputs": [
        {
          "output_type": "stream",
          "name": "stdout",
          "text": [
            "(896945, 26)\n"
          ]
        },
        {
          "output_type": "stream",
          "name": "stderr",
          "text": [
            "/usr/local/lib/python3.7/dist-packages/pandas/util/_decorators.py:311: SettingWithCopyWarning: \n",
            "A value is trying to be set on a copy of a slice from a DataFrame\n",
            "\n",
            "See the caveats in the documentation: https://pandas.pydata.org/pandas-docs/stable/user_guide/indexing.html#returning-a-view-versus-a-copy\n",
            "  return func(*args, **kwargs)\n"
          ]
        },
        {
          "output_type": "stream",
          "name": "stdout",
          "text": [
            "(294305, 26)\n",
            "(376157, 26)\n",
            "(98119, 23)\n",
            "(126864, 23)\n"
          ]
        }
      ],
      "source": [
        "for i in [train, train_fun, train_cool, val, test]:\n",
        "    i.dropna(inplace=True)\n",
        "    print(i.shape)"
      ]
    },
    {
      "cell_type": "code",
      "execution_count": null,
      "metadata": {
        "id": "P2Iq6Y2Wp-H2"
      },
      "outputs": [],
      "source": [
        "train.reset_index(inplace=True)\n",
        "train_fun.reset_index(inplace=True)\n",
        "train_cool.reset_index(inplace=True)\n",
        "val.reset_index(inplace=True)\n",
        "test.reset_index(inplace=True)"
      ]
    },
    {
      "cell_type": "code",
      "execution_count": null,
      "metadata": {
        "id": "hOWEtX3Zp_Hd"
      },
      "outputs": [],
      "source": [
        "from sklearn import tree, ensemble\n",
        "from sklearn.metrics import accuracy_score, roc_auc_score, confusion_matrix, mean_squared_error\n",
        "from xgboost import XGBClassifier"
      ]
    },
    {
      "cell_type": "markdown",
      "metadata": {
        "id": "9hT6pK5EqGdv"
      },
      "source": [
        "# Useful"
      ]
    },
    {
      "cell_type": "code",
      "execution_count": null,
      "metadata": {
        "colab": {
          "base_uri": "https://localhost:8080/"
        },
        "id": "9F0nCc8bqFjb",
        "outputId": "7eb3f556-556b-4ea4-c0d8-5fd26d5b83a7"
      },
      "outputs": [
        {
          "output_type": "stream",
          "name": "stdout",
          "text": [
            "(896945, 60)\n",
            "(98119, 60)\n",
            "(126864, 60)\n"
          ]
        }
      ],
      "source": [
        "model = 'doc2vec'\n",
        "with open(f'./text_processing/useful_processed_text/useful_{model}_train.npy', 'rb') as f:\n",
        "    train_array = np.load(f)\n",
        "with open(f'./text_processing/useful_processed_text/useful_{model}_val.npy', 'rb') as f:\n",
        "    val_array = np.load(f)\n",
        "with open(f'./text_processing/useful_processed_text/useful_{model}_test.npy', 'rb') as f:\n",
        "    test_array = np.load(f)\n",
        "\n",
        "for i in [train_array, val_array, test_array]:\n",
        "    print(i.shape)"
      ]
    },
    {
      "cell_type": "code",
      "execution_count": null,
      "metadata": {
        "colab": {
          "base_uri": "https://localhost:8080/"
        },
        "id": "YCjru2xZr9Nn",
        "outputId": "fa99f3ce-7967-45ec-fa0c-7e602105c17f"
      },
      "outputs": [
        {
          "output_type": "execute_result",
          "data": {
            "text/plain": [
              "(896945, 64)"
            ]
          },
          "metadata": {},
          "execution_count": 12
        }
      ],
      "source": [
        "train_array_new = np.zeros((train_array.shape[0],train_array.shape[1]+4))\n",
        "train_array_new[:,:-4] = train_array\n",
        "train_array_new[:,-4] = np.array(train.l1.tolist())\n",
        "train_array_new[:,-3] = np.array(train.l2.tolist())\n",
        "train_array_new[:,-2] = np.array(train.l3.tolist())\n",
        "train_array_new[:,-1] = np.array(train.l4.tolist())\n",
        "train_array_new.shape"
      ]
    },
    {
      "cell_type": "code",
      "execution_count": null,
      "metadata": {
        "colab": {
          "base_uri": "https://localhost:8080/"
        },
        "id": "QSHelAAfs3Io",
        "outputId": "7354c798-b8b7-42bf-c5a5-9d22774fc4b3"
      },
      "outputs": [
        {
          "output_type": "execute_result",
          "data": {
            "text/plain": [
              "(98119, 64)"
            ]
          },
          "metadata": {},
          "execution_count": 13
        }
      ],
      "source": [
        "val_array_new = np.zeros((val_array.shape[0],val_array.shape[1]+4))\n",
        "val_array_new[:,:-4] = val_array\n",
        "val_array_new[:,-4] = np.array(val.l1.tolist())\n",
        "val_array_new[:,-3] = np.array(val.l2.tolist())\n",
        "val_array_new[:,-2] = np.array(val.l3.tolist())\n",
        "val_array_new[:,-1] = np.array(val.l4.tolist())\n",
        "val_array_new.shape"
      ]
    },
    {
      "cell_type": "code",
      "execution_count": null,
      "metadata": {
        "colab": {
          "base_uri": "https://localhost:8080/"
        },
        "id": "6lN7_qZ-s3zB",
        "outputId": "e437f4c6-f311-40c1-8555-cb88d09278e1"
      },
      "outputs": [
        {
          "output_type": "execute_result",
          "data": {
            "text/plain": [
              "(126864, 64)"
            ]
          },
          "metadata": {},
          "execution_count": 14
        }
      ],
      "source": [
        "test_array_new = np.zeros((test_array.shape[0],test_array.shape[1]+4))\n",
        "test_array_new[:,:-4] = test_array\n",
        "test_array_new[:,-4] = np.array(test.l1.tolist())\n",
        "test_array_new[:,-3] = np.array(test.l2.tolist())\n",
        "test_array_new[:,-2] = np.array(test.l3.tolist())\n",
        "test_array_new[:,-1] = np.array(test.l4.tolist())\n",
        "test_array_new.shape"
      ]
    },
    {
      "cell_type": "code",
      "execution_count": null,
      "metadata": {
        "colab": {
          "base_uri": "https://localhost:8080/"
        },
        "id": "Qw3WnFnbqJ3J",
        "outputId": "b797d3af-732d-4b5d-81a6-717268a9195b"
      },
      "outputs": [
        {
          "name": "stdout",
          "output_type": "stream",
          "text": [
            "accuracy score:  1.0\n",
            "confusion matrix: \n",
            "[[594845      0]\n",
            " [     0 302100]]\n",
            "accuracy score:  0.6065899570929177\n",
            "confusion matrix: \n",
            "[[49394 24207]\n",
            " [14394 10124]]\n",
            "accuracy score:  0.614792218438643\n",
            "confusion matrix: \n",
            "[[66360 33670]\n",
            " [15199 11635]]\n"
          ]
        }
      ],
      "source": [
        "dt_estimator = tree.DecisionTreeClassifier()\n",
        "dt_estimator.fit(train_array_new, train.useful_label)\n",
        "y_train_useful = dt_estimator.predict(train_array_new)\n",
        "y_val_useful = dt_estimator.predict(val_array_new)\n",
        "y_test_useful = dt_estimator.predict(test_array_new)\n",
        "print(\"accuracy score: \", accuracy_score(train.useful_label, y_train_useful))\n",
        "print(\"confusion matrix: \")\n",
        "print(confusion_matrix(train.useful_label, y_train_useful))\n",
        "print(\"accuracy score: \", accuracy_score(val.useful_label, y_val_useful))\n",
        "print(\"confusion matrix: \")\n",
        "print(confusion_matrix(val.useful_label, y_val_useful))\n",
        "print(\"accuracy score: \", accuracy_score(test.useful_label, y_test_useful))\n",
        "print(\"confusion matrix: \")\n",
        "print(confusion_matrix(test.useful_label, y_test_useful))"
      ]
    },
    {
      "cell_type": "code",
      "execution_count": null,
      "metadata": {
        "colab": {
          "base_uri": "https://localhost:8080/"
        },
        "id": "oTTqh8yjtj4y",
        "outputId": "560df533-a749-4736-8a17-f5ec365b7d1c"
      },
      "outputs": [
        {
          "name": "stdout",
          "output_type": "stream",
          "text": [
            "accuracy score:  0.6970906800305482\n",
            "confusion matrix: \n",
            "[[538317  56528]\n",
            " [215165  86935]]\n",
            "accuracy score:  0.7369214932887616\n",
            "confusion matrix: \n",
            "[[65086  8515]\n",
            " [17298  7220]]\n",
            "accuracy score:  0.7556990162693908\n",
            "confusion matrix: \n",
            "[[87296 12734]\n",
            " [18259  8575]]\n"
          ]
        }
      ],
      "source": [
        "dt_estimator = tree.DecisionTreeClassifier(max_depth=10)\n",
        "dt_estimator.fit(train_array_new, train.useful_label)\n",
        "y_train_useful = dt_estimator.predict(train_array_new)\n",
        "y_val_useful = dt_estimator.predict(val_array_new)\n",
        "y_test_useful = dt_estimator.predict(test_array_new)\n",
        "print(\"accuracy score: \", accuracy_score(train.useful_label, y_train_useful))\n",
        "print(\"confusion matrix: \")\n",
        "print(confusion_matrix(train.useful_label, y_train_useful))\n",
        "print(\"accuracy score: \", accuracy_score(val.useful_label, y_val_useful))\n",
        "print(\"confusion matrix: \")\n",
        "print(confusion_matrix(val.useful_label, y_val_useful))\n",
        "print(\"accuracy score: \", accuracy_score(test.useful_label, y_test_useful))\n",
        "print(\"confusion matrix: \")\n",
        "print(confusion_matrix(test.useful_label, y_test_useful))"
      ]
    },
    {
      "cell_type": "code",
      "execution_count": null,
      "metadata": {
        "colab": {
          "base_uri": "https://localhost:8080/"
        },
        "id": "pEIhu5YuttMQ",
        "outputId": "3dac0424-94cf-42cf-fc5f-5ced1fab20d7"
      },
      "outputs": [
        {
          "name": "stdout",
          "output_type": "stream",
          "text": [
            "accuracy score:  0.761637558601698\n",
            "confusion matrix: \n",
            "[[523045  71800]\n",
            " [141998 160102]]\n",
            "accuracy score:  0.6684128456262294\n",
            "confusion matrix: \n",
            "[[56503 17098]\n",
            " [15437  9081]]\n",
            "accuracy score:  0.6784982343296758\n",
            "confusion matrix: \n",
            "[[75721 24309]\n",
            " [16478 10356]]\n"
          ]
        }
      ],
      "source": [
        "dt_estimator = tree.DecisionTreeClassifier(min_samples_split=130)\n",
        "dt_estimator.fit(train_array_new, train.useful_label)\n",
        "y_train_useful = dt_estimator.predict(train_array_new)\n",
        "y_val_useful = dt_estimator.predict(val_array_new)\n",
        "y_test_useful = dt_estimator.predict(test_array_new)\n",
        "print(\"accuracy score: \", accuracy_score(train.useful_label, y_train_useful))\n",
        "print(\"confusion matrix: \")\n",
        "print(confusion_matrix(train.useful_label, y_train_useful))\n",
        "print(\"accuracy score: \", accuracy_score(val.useful_label, y_val_useful))\n",
        "print(\"confusion matrix: \")\n",
        "print(confusion_matrix(val.useful_label, y_val_useful))\n",
        "print(\"accuracy score: \", accuracy_score(test.useful_label, y_test_useful))\n",
        "print(\"confusion matrix: \")\n",
        "print(confusion_matrix(test.useful_label, y_test_useful))"
      ]
    },
    {
      "cell_type": "code",
      "execution_count": null,
      "metadata": {
        "colab": {
          "base_uri": "https://localhost:8080/"
        },
        "id": "DbzZ5Czct4Az",
        "outputId": "63d8fb19-f357-477c-86c4-f50db41c37bc"
      },
      "outputs": [
        {
          "name": "stdout",
          "output_type": "stream",
          "text": [
            "accuracy score:  0.6963938703041993\n",
            "confusion matrix: \n",
            "[[538026  56819]\n",
            " [215499  86601]]\n",
            "accuracy score:  0.7368705347588133\n",
            "confusion matrix: \n",
            "[[65084  8517]\n",
            " [17301  7217]]\n",
            "accuracy score:  0.7555177197628957\n",
            "confusion matrix: \n",
            "[[87279 12751]\n",
            " [18265  8569]]\n"
          ]
        }
      ],
      "source": [
        "dt_estimator = tree.DecisionTreeClassifier(max_depth=10,min_samples_split=130)\n",
        "dt_estimator.fit(train_array_new, train.useful_label)\n",
        "y_train_useful = dt_estimator.predict(train_array_new)\n",
        "y_val_useful = dt_estimator.predict(val_array_new)\n",
        "y_test_useful = dt_estimator.predict(test_array_new)\n",
        "print(\"accuracy score: \", accuracy_score(train.useful_label, y_train_useful))\n",
        "print(\"confusion matrix: \")\n",
        "print(confusion_matrix(train.useful_label, y_train_useful))\n",
        "print(\"accuracy score: \", accuracy_score(val.useful_label, y_val_useful))\n",
        "print(\"confusion matrix: \")\n",
        "print(confusion_matrix(val.useful_label, y_val_useful))\n",
        "print(\"accuracy score: \", accuracy_score(test.useful_label, y_test_useful))\n",
        "print(\"confusion matrix: \")\n",
        "print(confusion_matrix(test.useful_label, y_test_useful))"
      ]
    },
    {
      "cell_type": "code",
      "execution_count": null,
      "metadata": {
        "colab": {
          "base_uri": "https://localhost:8080/"
        },
        "id": "SFwOZQoFu9U8",
        "outputId": "dc90748d-ab49-4680-e64f-62d051d21a5b"
      },
      "outputs": [
        {
          "name": "stdout",
          "output_type": "stream",
          "text": [
            "accuracy score:  0.689958693119422\n",
            "confusion matrix: \n",
            "[[541365  53480]\n",
            " [224610  77490]]\n",
            "accuracy score:  0.7431486256484473\n",
            "confusion matrix: \n",
            "[[66062  7539]\n",
            " [17663  6855]]\n",
            "accuracy score:  0.7633134695421869\n",
            "confusion matrix: \n",
            "[[88737 11293]\n",
            " [18734  8100]]\n"
          ]
        }
      ],
      "source": [
        "dt_estimator = tree.DecisionTreeClassifier(max_depth=7, min_samples_split=200)\n",
        "dt_estimator.fit(train_array_new, train.useful_label)\n",
        "y_train_useful = dt_estimator.predict(train_array_new)\n",
        "y_val_useful = dt_estimator.predict(val_array_new)\n",
        "y_test_useful = dt_estimator.predict(test_array_new)\n",
        "print(\"accuracy score: \", accuracy_score(train.useful_label, y_train_useful))\n",
        "print(\"confusion matrix: \")\n",
        "print(confusion_matrix(train.useful_label, y_train_useful))\n",
        "print(\"accuracy score: \", accuracy_score(val.useful_label, y_val_useful))\n",
        "print(\"confusion matrix: \")\n",
        "print(confusion_matrix(val.useful_label, y_val_useful))\n",
        "print(\"accuracy score: \", accuracy_score(test.useful_label, y_test_useful))\n",
        "print(\"confusion matrix: \")\n",
        "print(confusion_matrix(test.useful_label, y_test_useful))"
      ]
    },
    {
      "cell_type": "code",
      "execution_count": null,
      "metadata": {
        "colab": {
          "base_uri": "https://localhost:8080/"
        },
        "id": "kVpuKjQw-2Xq",
        "outputId": "0182b801-57e0-49db-fe04-da44c83fc835"
      },
      "outputs": [
        {
          "name": "stdout",
          "output_type": "stream",
          "text": [
            "accuracy score:  0.6928496173120983\n",
            "confusion matrix: \n",
            "[[541191  53654]\n",
            " [221843  80257]]\n",
            "accuracy score:  0.7445143142510625\n",
            "confusion matrix: \n",
            "[[65913  7688]\n",
            " [17380  7138]]\n",
            "accuracy score:  0.7619813343422878\n",
            "confusion matrix: \n",
            "[[88294 11736]\n",
            " [18460  8374]]\n"
          ]
        }
      ],
      "source": [
        "dt_estimator = ensemble.GradientBoostingClassifier(learning_rate=0.1)\n",
        "dt_estimator.fit(train_array_new, train.useful_label)\n",
        "y_train_useful = dt_estimator.predict(train_array_new)\n",
        "y_val_useful = dt_estimator.predict(val_array_new)\n",
        "y_test_useful = dt_estimator.predict(test_array_new)\n",
        "print(\"accuracy score: \", accuracy_score(train.useful_label, y_train_useful))\n",
        "print(\"confusion matrix: \")\n",
        "print(confusion_matrix(train.useful_label, y_train_useful))\n",
        "print(\"accuracy score: \", accuracy_score(val.useful_label, y_val_useful))\n",
        "print(\"confusion matrix: \")\n",
        "print(confusion_matrix(val.useful_label, y_val_useful))\n",
        "print(\"accuracy score: \", accuracy_score(test.useful_label, y_test_useful))\n",
        "print(\"confusion matrix: \")\n",
        "print(confusion_matrix(test.useful_label, y_test_useful))"
      ]
    },
    {
      "cell_type": "code",
      "execution_count": null,
      "metadata": {
        "colab": {
          "background_save": true
        },
        "id": "eLrOrpZI--lJ",
        "outputId": "d105e808-baeb-46cd-b454-b84584877895"
      },
      "outputs": [
        {
          "name": "stdout",
          "output_type": "stream",
          "text": [
            "accuracy score:  0.6869384410415355\n",
            "confusion matrix: \n",
            "[[551419  43426]\n",
            " [237373  64727]]\n",
            "accuracy score:  0.7462265208573263\n",
            "confusion matrix: \n",
            "[[67555  6046]\n",
            " [18854  5664]]\n",
            "accuracy score:  0.7688863665027116\n",
            "confusion matrix: \n",
            "[[90918  9112]\n",
            " [20208  6626]]\n"
          ]
        }
      ],
      "source": [
        "dt_estimator = ensemble.AdaBoostClassifier(learning_rate=0.1)\n",
        "dt_estimator.fit(train_array_new, train.useful_label)\n",
        "y_train_useful = dt_estimator.predict(train_array_new)\n",
        "y_val_useful = dt_estimator.predict(val_array_new)\n",
        "y_test_useful = dt_estimator.predict(test_array_new)\n",
        "print(\"accuracy score: \", accuracy_score(train.useful_label, y_train_useful))\n",
        "print(\"confusion matrix: \")\n",
        "print(confusion_matrix(train.useful_label, y_train_useful))\n",
        "print(\"accuracy score: \", accuracy_score(val.useful_label, y_val_useful))\n",
        "print(\"confusion matrix: \")\n",
        "print(confusion_matrix(val.useful_label, y_val_useful))\n",
        "print(\"accuracy score: \", accuracy_score(test.useful_label, y_test_useful))\n",
        "print(\"confusion matrix: \")\n",
        "print(confusion_matrix(test.useful_label, y_test_useful))"
      ]
    },
    {
      "cell_type": "code",
      "execution_count": null,
      "metadata": {
        "id": "ftiCfx2A_J4a",
        "colab": {
          "base_uri": "https://localhost:8080/"
        },
        "outputId": "fa3ee08c-99c4-4055-8f08-5f7560091fc3"
      },
      "outputs": [
        {
          "output_type": "stream",
          "name": "stdout",
          "text": [
            "accuracy score:  0.6928039065940498\n",
            "confusion matrix: \n",
            "[[541467  53378]\n",
            " [222160  79940]]\n",
            "accuracy score:  0.7444022054851762\n",
            "confusion matrix: \n",
            "[[65916  7685]\n",
            " [17394  7124]]\n",
            "accuracy score:  0.7624306343801236\n",
            "confusion matrix: \n",
            "[[88341 11689]\n",
            " [18450  8384]]\n"
          ]
        }
      ],
      "source": [
        "dt_estimator = XGBClassifier()\n",
        "dt_estimator.fit(train_array_new, train.useful_label)\n",
        "y_train_useful = dt_estimator.predict(train_array_new)\n",
        "y_val_useful = dt_estimator.predict(val_array_new)\n",
        "y_test_useful = dt_estimator.predict(test_array_new)\n",
        "print(\"accuracy score: \", accuracy_score(train.useful_label, y_train_useful))\n",
        "print(\"confusion matrix: \")\n",
        "print(confusion_matrix(train.useful_label, y_train_useful))\n",
        "print(\"accuracy score: \", accuracy_score(val.useful_label, y_val_useful))\n",
        "print(\"confusion matrix: \")\n",
        "print(confusion_matrix(val.useful_label, y_val_useful))\n",
        "print(\"accuracy score: \", accuracy_score(test.useful_label, y_test_useful))\n",
        "print(\"confusion matrix: \")\n",
        "print(confusion_matrix(test.useful_label, y_test_useful))"
      ]
    },
    {
      "cell_type": "markdown",
      "metadata": {
        "id": "2wiDXoKJvFzi"
      },
      "source": [
        "# Funny"
      ]
    },
    {
      "cell_type": "code",
      "execution_count": null,
      "metadata": {
        "colab": {
          "base_uri": "https://localhost:8080/"
        },
        "id": "zL_lmLTcvHSg",
        "outputId": "a34d86cd-66a4-48c9-fa82-cb2bac32c6fc"
      },
      "outputs": [
        {
          "name": "stdout",
          "output_type": "stream",
          "text": [
            "(294305, 60)\n",
            "(98119, 60)\n",
            "(126864, 60)\n"
          ]
        }
      ],
      "source": [
        "model = 'doc2vec'\n",
        "with open(f'./text_processing/funny_processed_text/funny_{model}_train.npy', 'rb') as f:\n",
        "    train_array = np.load(f)\n",
        "with open(f'./text_processing/funny_processed_text/funny_{model}_val.npy', 'rb') as f:\n",
        "    val_array = np.load(f)\n",
        "with open(f'./text_processing/funny_processed_text/funny_{model}_test.npy', 'rb') as f:\n",
        "    test_array = np.load(f)\n",
        "\n",
        "for i in [train_array_fun, val_array_fun, test_array_fun]:\n",
        "    print(i.shape)"
      ]
    },
    {
      "cell_type": "code",
      "execution_count": null,
      "metadata": {
        "colab": {
          "base_uri": "https://localhost:8080/"
        },
        "id": "jNb7etKUvLT1",
        "outputId": "d9ddaa9a-37b0-4cce-d40c-68e6d35d5281"
      },
      "outputs": [
        {
          "output_type": "execute_result",
          "data": {
            "text/plain": [
              "(294305, 64)"
            ]
          },
          "metadata": {},
          "execution_count": 19
        }
      ],
      "source": [
        "train_array_fun_new = np.zeros((train_array_fun.shape[0],train_array_fun.shape[1]+4))\n",
        "train_array_fun_new[:,:-4] = train_array_fun\n",
        "train_array_fun_new[:,-4] = np.array(train_fun.l1.tolist())\n",
        "train_array_fun_new[:,-3] = np.array(train_fun.l2.tolist())\n",
        "train_array_fun_new[:,-2] = np.array(train_fun.l3.tolist())\n",
        "train_array_fun_new[:,-1] = np.array(train_fun.l4.tolist())\n",
        "train_array_fun_new.shape"
      ]
    },
    {
      "cell_type": "code",
      "execution_count": null,
      "metadata": {
        "colab": {
          "base_uri": "https://localhost:8080/"
        },
        "id": "GDd2z9wsvOVe",
        "outputId": "cd2a6ab8-3a0b-4cca-a8a4-8433c5ca3b7a"
      },
      "outputs": [
        {
          "output_type": "execute_result",
          "data": {
            "text/plain": [
              "(98119, 64)"
            ]
          },
          "metadata": {},
          "execution_count": 20
        }
      ],
      "source": [
        "val_array_fun_new = np.zeros((val_array_fun.shape[0],val_array_fun.shape[1]+4))\n",
        "val_array_fun_new[:,:-4] = val_array_fun\n",
        "val_array_fun_new[:,-4] = np.array(val.l1.tolist())\n",
        "val_array_fun_new[:,-3] = np.array(val.l2.tolist())\n",
        "val_array_fun_new[:,-2] = np.array(val.l3.tolist())\n",
        "val_array_fun_new[:,-1] = np.array(val.l4.tolist())\n",
        "val_array_fun_new.shape"
      ]
    },
    {
      "cell_type": "code",
      "execution_count": null,
      "metadata": {
        "colab": {
          "base_uri": "https://localhost:8080/"
        },
        "id": "_oa4Ht9IvRUY",
        "outputId": "565d25b7-73e1-437b-f5dc-1f9e1c7b4286"
      },
      "outputs": [
        {
          "output_type": "execute_result",
          "data": {
            "text/plain": [
              "(126864, 64)"
            ]
          },
          "metadata": {},
          "execution_count": 21
        }
      ],
      "source": [
        "test_array_fun_new = np.zeros((test_array_fun.shape[0],test_array_fun.shape[1]+4))\n",
        "test_array_fun_new[:,:-4] = test_array_fun\n",
        "test_array_fun_new[:,-4] = np.array(test.l1.tolist())\n",
        "test_array_fun_new[:,-3] = np.array(test.l2.tolist())\n",
        "test_array_fun_new[:,-2] = np.array(test.l3.tolist())\n",
        "test_array_fun_new[:,-1] = np.array(test.l4.tolist())\n",
        "test_array_fun_new.shape"
      ]
    },
    {
      "cell_type": "code",
      "execution_count": null,
      "metadata": {
        "colab": {
          "base_uri": "https://localhost:8080/"
        },
        "id": "KWn2M_8C2Mji",
        "outputId": "d7c64e0e-3edf-4352-8431-ef36ca803c53"
      },
      "outputs": [
        {
          "name": "stdout",
          "output_type": "stream",
          "text": [
            "accuracy score:  1.0\n",
            "confusion matrix: \n",
            "[[176583      0]\n",
            " [     0 117722]]\n",
            "accuracy score:  0.6132043742802108\n",
            "confusion matrix: \n",
            "[[55952 33204]\n",
            " [ 4748  4215]]\n",
            "accuracy score:  0.614161621894312\n",
            "confusion matrix: \n",
            "[[72803 43633]\n",
            " [ 5316  5112]]\n"
          ]
        }
      ],
      "source": [
        "dt_estimator = tree.DecisionTreeClassifier()\n",
        "dt_estimator.fit(train_array_fun_new, train_fun.funny_label)\n",
        "y_train_funny = dt_estimator.predict(train_array_fun_new)\n",
        "y_val_funny = dt_estimator.predict(val_array_fun_new)\n",
        "y_test_funny = dt_estimator.predict(test_array_fun_new)\n",
        "print(\"accuracy score: \", accuracy_score(train_fun.funny_label, y_train_funny))\n",
        "print(\"confusion matrix: \")\n",
        "print(confusion_matrix(train_fun.funny_label, y_train_funny))\n",
        "print(\"accuracy score: \", accuracy_score(val.funny_label, y_val_funny))\n",
        "print(\"confusion matrix: \")\n",
        "print(confusion_matrix(val.funny_label, y_val_funny))\n",
        "print(\"accuracy score: \", accuracy_score(test.funny_label, y_test_funny))\n",
        "print(\"confusion matrix: \")\n",
        "print(confusion_matrix(test.funny_label, y_test_funny))"
      ]
    },
    {
      "cell_type": "code",
      "execution_count": null,
      "metadata": {
        "colab": {
          "base_uri": "https://localhost:8080/"
        },
        "id": "5oxyuyZl2yHo",
        "outputId": "48e55e0c-86ef-478d-d4d2-c0d8bf34cafd"
      },
      "outputs": [
        {
          "name": "stdout",
          "output_type": "stream",
          "text": [
            "accuracy score:  0.6648952617182855\n",
            "confusion matrix: \n",
            "[[143128  33455]\n",
            " [ 65168  52554]]\n",
            "accuracy score:  0.7574373974459585\n",
            "confusion matrix: \n",
            "[[70289 18867]\n",
            " [ 4933  4030]]\n",
            "accuracy score:  0.7560616092823811\n",
            "confusion matrix: \n",
            "[[90942 25494]\n",
            " [ 5453  4975]]\n"
          ]
        }
      ],
      "source": [
        "dt_estimator = tree.DecisionTreeClassifier(max_depth=10)\n",
        "dt_estimator.fit(train_array_fun_new, train_fun.funny_label)\n",
        "y_train_funny = dt_estimator.predict(train_array_fun_new)\n",
        "y_val_funny = dt_estimator.predict(val_array_fun_new)\n",
        "y_test_funny = dt_estimator.predict(test_array_fun_new)\n",
        "print(\"accuracy score: \", accuracy_score(train_fun.funny_label, y_train_funny))\n",
        "print(\"confusion matrix: \")\n",
        "print(confusion_matrix(train_fun.funny_label, y_train_funny))\n",
        "print(\"accuracy score: \", accuracy_score(val.funny_label, y_val_funny))\n",
        "print(\"confusion matrix: \")\n",
        "print(confusion_matrix(val.funny_label, y_val_funny))\n",
        "print(\"accuracy score: \", accuracy_score(test.funny_label, y_test_funny))\n",
        "print(\"confusion matrix: \")\n",
        "print(confusion_matrix(test.funny_label, y_test_funny))"
      ]
    },
    {
      "cell_type": "code",
      "execution_count": null,
      "metadata": {
        "colab": {
          "base_uri": "https://localhost:8080/"
        },
        "id": "ww82DVLH3AVR",
        "outputId": "4c1248a9-495e-4223-b70c-4d2b506921e3"
      },
      "outputs": [
        {
          "name": "stdout",
          "output_type": "stream",
          "text": [
            "accuracy score:  0.704323745773942\n",
            "confusion matrix: \n",
            "[[149885  26698]\n",
            " [ 60321  57401]]\n",
            "accuracy score:  0.7541964349412448\n",
            "confusion matrix: \n",
            "[[70176 18980]\n",
            " [ 5138  3825]]\n",
            "accuracy score:  0.7525696809181486\n",
            "confusion matrix: \n",
            "[[90719 25717]\n",
            " [ 5673  4755]]\n"
          ]
        }
      ],
      "source": [
        "dt_estimator = tree.DecisionTreeClassifier(max_depth=15)\n",
        "dt_estimator.fit(train_array_fun_new, train_fun.funny_label)\n",
        "y_train_funny = dt_estimator.predict(train_array_fun_new)\n",
        "y_val_funny = dt_estimator.predict(val_array_fun_new)\n",
        "y_test_funny = dt_estimator.predict(test_array_fun_new)\n",
        "print(\"accuracy score: \", accuracy_score(train_fun.funny_label, y_train_funny))\n",
        "print(\"confusion matrix: \")\n",
        "print(confusion_matrix(train_fun.funny_label, y_train_funny))\n",
        "print(\"accuracy score: \", accuracy_score(val.funny_label, y_val_funny))\n",
        "print(\"confusion matrix: \")\n",
        "print(confusion_matrix(val.funny_label, y_val_funny))\n",
        "print(\"accuracy score: \", accuracy_score(test.funny_label, y_test_funny))\n",
        "print(\"confusion matrix: \")\n",
        "print(confusion_matrix(test.funny_label, y_test_funny))"
      ]
    },
    {
      "cell_type": "code",
      "execution_count": null,
      "metadata": {
        "colab": {
          "base_uri": "https://localhost:8080/"
        },
        "id": "TuECTFLs3Op6",
        "outputId": "f8b7b7a6-7c51-42b1-fa81-a1b12d78f847"
      },
      "outputs": [
        {
          "name": "stdout",
          "output_type": "stream",
          "text": [
            "accuracy score:  0.6553745264266662\n",
            "confusion matrix: \n",
            "[[143236  33347]\n",
            " [ 68078  49644]]\n",
            "accuracy score:  0.7695451441616812\n",
            "confusion matrix: \n",
            "[[71492 17664]\n",
            " [ 4948  4015]]\n",
            "accuracy score:  0.7668605751040485\n",
            "confusion matrix: \n",
            "[[92308 24128]\n",
            " [ 5449  4979]]\n"
          ]
        }
      ],
      "source": [
        "dt_estimator = tree.DecisionTreeClassifier(max_depth=7, min_samples_split=50)\n",
        "dt_estimator.fit(train_array_fun_new, train_fun.funny_label)\n",
        "y_train_funny = dt_estimator.predict(train_array_fun_new)\n",
        "y_val_funny = dt_estimator.predict(val_array_fun_new)\n",
        "y_test_funny = dt_estimator.predict(test_array_fun_new)\n",
        "print(\"accuracy score: \", accuracy_score(train_fun.funny_label, y_train_funny))\n",
        "print(\"confusion matrix: \")\n",
        "print(confusion_matrix(train_fun.funny_label, y_train_funny))\n",
        "print(\"accuracy score: \", accuracy_score(val.funny_label, y_val_funny))\n",
        "print(\"confusion matrix: \")\n",
        "print(confusion_matrix(val.funny_label, y_val_funny))\n",
        "print(\"accuracy score: \", accuracy_score(test.funny_label, y_test_funny))\n",
        "print(\"confusion matrix: \")\n",
        "print(confusion_matrix(test.funny_label, y_test_funny))"
      ]
    },
    {
      "cell_type": "code",
      "execution_count": null,
      "metadata": {
        "id": "gVsvPDl__d1o",
        "colab": {
          "base_uri": "https://localhost:8080/"
        },
        "outputId": "094a3b0d-8ba7-4694-f725-62c4db92c3b4"
      },
      "outputs": [
        {
          "output_type": "stream",
          "name": "stdout",
          "text": [
            "accuracy score:  0.6549837753351115\n",
            "confusion matrix: \n",
            "[[143783  32800]\n",
            " [ 68740  48982]]\n",
            "accuracy score:  0.7729593656682192\n",
            "confusion matrix: \n",
            "[[71860 17296]\n",
            " [ 4981  3982]]\n",
            "accuracy score:  0.7706599192836423\n",
            "confusion matrix: \n",
            "[[92839 23597]\n",
            " [ 5498  4930]]\n"
          ]
        }
      ],
      "source": [
        "dt_estimator = ensemble.GradientBoostingClassifier(learning_rate=0.1)\n",
        "dt_estimator.fit(train_array_fun_new, train_fun.funny_label)\n",
        "y_train_funny = dt_estimator.predict(train_array_fun_new)\n",
        "y_val_funny = dt_estimator.predict(val_array_fun_new)\n",
        "y_test_funny = dt_estimator.predict(test_array_fun_new)\n",
        "print(\"accuracy score: \", accuracy_score(train_fun.funny_label, y_train_funny))\n",
        "print(\"confusion matrix: \")\n",
        "print(confusion_matrix(train_fun.funny_label, y_train_funny))\n",
        "print(\"accuracy score: \", accuracy_score(val.funny_label, y_val_funny))\n",
        "print(\"confusion matrix: \")\n",
        "print(confusion_matrix(val.funny_label, y_val_funny))\n",
        "print(\"accuracy score: \", accuracy_score(test.funny_label, y_test_funny))\n",
        "print(\"confusion matrix: \")\n",
        "print(confusion_matrix(test.funny_label, y_test_funny))"
      ]
    },
    {
      "cell_type": "code",
      "execution_count": null,
      "metadata": {
        "id": "m4WxEwYr_mfn",
        "colab": {
          "base_uri": "https://localhost:8080/"
        },
        "outputId": "fe773c45-d11e-4b88-8cb3-ea9c69490cb0"
      },
      "outputs": [
        {
          "output_type": "stream",
          "name": "stdout",
          "text": [
            "accuracy score:  0.6538013285537113\n",
            "confusion matrix: \n",
            "[[143594  32989]\n",
            " [ 68899  48823]]\n",
            "accuracy score:  0.7727453398424362\n",
            "confusion matrix: \n",
            "[[71839 17317]\n",
            " [ 4981  3982]]\n",
            "accuracy score:  0.7702657964434355\n",
            "confusion matrix: \n",
            "[[92799 23637]\n",
            " [ 5508  4920]]\n"
          ]
        }
      ],
      "source": [
        "dt_estimator = ensemble.AdaBoostClassifier(learning_rate=0.1)\n",
        "dt_estimator.fit(train_array_fun_new, train_fun.funny_label)\n",
        "y_train_funny = dt_estimator.predict(train_array_fun_new)\n",
        "y_val_funny = dt_estimator.predict(val_array_fun_new)\n",
        "y_test_funny = dt_estimator.predict(test_array_fun_new)\n",
        "print(\"accuracy score: \", accuracy_score(train_fun.funny_label, y_train_funny))\n",
        "print(\"confusion matrix: \")\n",
        "print(confusion_matrix(train_fun.funny_label, y_train_funny))\n",
        "print(\"accuracy score: \", accuracy_score(val.funny_label, y_val_funny))\n",
        "print(\"confusion matrix: \")\n",
        "print(confusion_matrix(val.funny_label, y_val_funny))\n",
        "print(\"accuracy score: \", accuracy_score(test.funny_label, y_test_funny))\n",
        "print(\"confusion matrix: \")\n",
        "print(confusion_matrix(test.funny_label, y_test_funny))"
      ]
    },
    {
      "cell_type": "code",
      "execution_count": null,
      "metadata": {
        "id": "nsTT3Tl__rP5",
        "colab": {
          "base_uri": "https://localhost:8080/"
        },
        "outputId": "953ca251-29ac-43dd-a321-80f84f8be3ab"
      },
      "outputs": [
        {
          "output_type": "stream",
          "name": "stdout",
          "text": [
            "accuracy score:  0.6546711744618678\n",
            "confusion matrix: \n",
            "[[143768  32815]\n",
            " [ 68817  48905]]\n",
            "accuracy score:  0.7732141583179608\n",
            "confusion matrix: \n",
            "[[71887 17269]\n",
            " [ 4983  3980]]\n",
            "accuracy score:  0.770754508765292\n",
            "confusion matrix: \n",
            "[[92859 23577]\n",
            " [ 5506  4922]]\n"
          ]
        }
      ],
      "source": [
        "dt_estimator = XGBClassifier()\n",
        "dt_estimator.fit(train_array_fun_new, train_fun.funny_label)\n",
        "y_train_funny = dt_estimator.predict(train_array_fun_new)\n",
        "y_val_funny = dt_estimator.predict(val_array_fun_new)\n",
        "y_test_funny = dt_estimator.predict(test_array_fun_new)\n",
        "print(\"accuracy score: \", accuracy_score(train_fun.funny_label, y_train_funny))\n",
        "print(\"confusion matrix: \")\n",
        "print(confusion_matrix(train_fun.funny_label, y_train_funny))\n",
        "print(\"accuracy score: \", accuracy_score(val.funny_label, y_val_funny))\n",
        "print(\"confusion matrix: \")\n",
        "print(confusion_matrix(val.funny_label, y_val_funny))\n",
        "print(\"accuracy score: \", accuracy_score(test.funny_label, y_test_funny))\n",
        "print(\"confusion matrix: \")\n",
        "print(confusion_matrix(test.funny_label, y_test_funny))"
      ]
    },
    {
      "cell_type": "code",
      "execution_count": null,
      "metadata": {
        "colab": {
          "base_uri": "https://localhost:8080/"
        },
        "id": "X7aTAQIeDjp1",
        "outputId": "3e7d1aaa-9a69-462c-e255-89be9e014f43"
      },
      "outputs": [
        {
          "name": "stdout",
          "output_type": "stream",
          "text": [
            "(294305, 768)\n",
            "(98119, 768)\n",
            "(126864, 768)\n"
          ]
        }
      ],
      "source": [
        "model = 'sbert'\n",
        "with open(f'./text_processing/funny_processed_text/funny_{model}_train.npy', 'rb') as f:\n",
        "    train_array = np.load(f)\n",
        "with open(f'./text_processing/funny_processed_text/funny_{model}_val.npy', 'rb') as f:\n",
        "    val_array = np.load(f)\n",
        "with open(f'./text_processing/funny_processed_text/funny_{model}_test.npy', 'rb') as f:\n",
        "    test_array = np.load(f)\n",
        "\n",
        "for i in [train_array_fun, val_array_fun, test_array_fun]:\n",
        "    print(i.shape)"
      ]
    },
    {
      "cell_type": "code",
      "execution_count": null,
      "metadata": {
        "colab": {
          "base_uri": "https://localhost:8080/"
        },
        "id": "0WayAe_eENca",
        "outputId": "6af330ed-7a87-4588-fff7-da8da17e1ad2"
      },
      "outputs": [
        {
          "data": {
            "text/plain": [
              "(294305, 772)"
            ]
          },
          "execution_count": 58,
          "metadata": {},
          "output_type": "execute_result"
        }
      ],
      "source": [
        "train_array_fun_new = np.zeros((train_array_fun.shape[0],train_array_fun.shape[1]+4))\n",
        "train_array_fun_new[:,:-4] = train_array_fun\n",
        "train_array_fun_new[:,-4] = np.array(train_fun.l1.tolist())\n",
        "train_array_fun_new[:,-3] = np.array(train_fun.l2.tolist())\n",
        "train_array_fun_new[:,-2] = np.array(train_fun.l3.tolist())\n",
        "train_array_fun_new[:,-1] = np.array(train_fun.l4.tolist())\n",
        "train_array_fun_new.shape"
      ]
    },
    {
      "cell_type": "code",
      "execution_count": null,
      "metadata": {
        "colab": {
          "base_uri": "https://localhost:8080/"
        },
        "id": "j2l23Pn6Ej-Y",
        "outputId": "f4a1a2b8-4bc1-4d8f-95cf-605c69afa776"
      },
      "outputs": [
        {
          "data": {
            "text/plain": [
              "(98119, 772)"
            ]
          },
          "execution_count": 59,
          "metadata": {},
          "output_type": "execute_result"
        }
      ],
      "source": [
        "val_array_fun_new = np.zeros((val_array_fun.shape[0],val_array_fun.shape[1]+4))\n",
        "val_array_fun_new[:,:-4] = val_array_fun\n",
        "val_array_fun_new[:,-4] = np.array(val.l1.tolist())\n",
        "val_array_fun_new[:,-3] = np.array(val.l2.tolist())\n",
        "val_array_fun_new[:,-2] = np.array(val.l3.tolist())\n",
        "val_array_fun_new[:,-1] = np.array(val.l4.tolist())\n",
        "val_array_fun_new.shape"
      ]
    },
    {
      "cell_type": "code",
      "execution_count": null,
      "metadata": {
        "colab": {
          "base_uri": "https://localhost:8080/"
        },
        "id": "mlLP5t4_EoDQ",
        "outputId": "98c120e4-5edd-4429-ba8b-f7d2f3165459"
      },
      "outputs": [
        {
          "data": {
            "text/plain": [
              "(126864, 772)"
            ]
          },
          "execution_count": 60,
          "metadata": {},
          "output_type": "execute_result"
        }
      ],
      "source": [
        "test_array_fun_new = np.zeros((test_array_fun.shape[0],test_array_fun.shape[1]+4))\n",
        "test_array_fun_new[:,:-4] = test_array_fun\n",
        "test_array_fun_new[:,-4] = np.array(test.l1.tolist())\n",
        "test_array_fun_new[:,-3] = np.array(test.l2.tolist())\n",
        "test_array_fun_new[:,-2] = np.array(test.l3.tolist())\n",
        "test_array_fun_new[:,-1] = np.array(test.l4.tolist())\n",
        "test_array_fun_new.shape"
      ]
    },
    {
      "cell_type": "code",
      "execution_count": null,
      "metadata": {
        "colab": {
          "base_uri": "https://localhost:8080/"
        },
        "id": "0sBW5uiREucg",
        "outputId": "24d3947b-e96d-4509-c1ff-7a626a0f72d9"
      },
      "outputs": [
        {
          "name": "stdout",
          "output_type": "stream",
          "text": [
            "accuracy score:  1.0\n",
            "confusion matrix: \n",
            "[[176583      0]\n",
            " [     0 117722]]\n",
            "accuracy score:  0.5956440648600169\n",
            "confusion matrix: \n",
            "[[54191 34965]\n",
            " [ 4710  4253]]\n",
            "accuracy score:  0.593927355278093\n",
            "confusion matrix: \n",
            "[[70292 46144]\n",
            " [ 5372  5056]]\n"
          ]
        }
      ],
      "source": [
        "dt_estimator = tree.DecisionTreeClassifier()\n",
        "dt_estimator.fit(train_array_fun_new, train_fun.funny_label)\n",
        "y_train_funny = dt_estimator.predict(train_array_fun_new)\n",
        "y_val_funny = dt_estimator.predict(val_array_fun_new)\n",
        "y_test_funny = dt_estimator.predict(test_array_fun_new)\n",
        "print(\"accuracy score: \", accuracy_score(train_fun.funny_label, y_train_funny))\n",
        "print(\"confusion matrix: \")\n",
        "print(confusion_matrix(train_fun.funny_label, y_train_funny))\n",
        "print(\"accuracy score: \", accuracy_score(val.funny_label, y_val_funny))\n",
        "print(\"confusion matrix: \")\n",
        "print(confusion_matrix(val.funny_label, y_val_funny))\n",
        "print(\"accuracy score: \", accuracy_score(test.funny_label, y_test_funny))\n",
        "print(\"confusion matrix: \")\n",
        "print(confusion_matrix(test.funny_label, y_test_funny))"
      ]
    },
    {
      "cell_type": "code",
      "execution_count": null,
      "metadata": {
        "colab": {
          "base_uri": "https://localhost:8080/"
        },
        "id": "0aCdjxSyE1rH",
        "outputId": "88e75d64-0ff9-4f2a-ea4f-0048cf45eed2"
      },
      "outputs": [
        {
          "name": "stdout",
          "output_type": "stream",
          "text": [
            "accuracy score:  0.9264810315828818\n",
            "confusion matrix: \n",
            "[[172805   3778]\n",
            " [ 17859  99863]]\n",
            "accuracy score:  0.6513111629755705\n",
            "confusion matrix: \n",
            "[[59897 29259]\n",
            " [ 4954  4009]]\n",
            "accuracy score:  0.650483982847774\n",
            "confusion matrix: \n",
            "[[77675 38761]\n",
            " [ 5580  4848]]\n"
          ]
        }
      ],
      "source": [
        "dt_estimator = tree.DecisionTreeClassifier(max_depth=30)\n",
        "dt_estimator.fit(train_array_fun_new, train_fun.funny_label)\n",
        "y_train_funny = dt_estimator.predict(train_array_fun_new)\n",
        "y_val_funny = dt_estimator.predict(val_array_fun_new)\n",
        "y_test_funny = dt_estimator.predict(test_array_fun_new)\n",
        "print(\"accuracy score: \", accuracy_score(train_fun.funny_label, y_train_funny))\n",
        "print(\"confusion matrix: \")\n",
        "print(confusion_matrix(train_fun.funny_label, y_train_funny))\n",
        "print(\"accuracy score: \", accuracy_score(val.funny_label, y_val_funny))\n",
        "print(\"confusion matrix: \")\n",
        "print(confusion_matrix(val.funny_label, y_val_funny))\n",
        "print(\"accuracy score: \", accuracy_score(test.funny_label, y_test_funny))\n",
        "print(\"confusion matrix: \")\n",
        "print(confusion_matrix(test.funny_label, y_test_funny))"
      ]
    },
    {
      "cell_type": "code",
      "execution_count": null,
      "metadata": {
        "colab": {
          "base_uri": "https://localhost:8080/"
        },
        "id": "I2prFqIKE699",
        "outputId": "cce799cf-450d-438f-ddac-8083d4042748"
      },
      "outputs": [
        {
          "name": "stdout",
          "output_type": "stream",
          "text": [
            "accuracy score:  0.717327262533766\n",
            "confusion matrix: \n",
            "[[148757  27826]\n",
            " [ 55366  62356]]\n",
            "accuracy score:  0.7302459258655306\n",
            "confusion matrix: \n",
            "[[67581 21575]\n",
            " [ 4893  4070]]\n",
            "accuracy score:  0.7287646613696557\n",
            "confusion matrix: \n",
            "[[87371 29065]\n",
            " [ 5345  5083]]\n"
          ]
        }
      ],
      "source": [
        "dt_estimator = tree.DecisionTreeClassifier(max_depth=15)\n",
        "dt_estimator.fit(train_array_fun_new, train_fun.funny_label)\n",
        "y_train_funny = dt_estimator.predict(train_array_fun_new)\n",
        "y_val_funny = dt_estimator.predict(val_array_fun_new)\n",
        "y_test_funny = dt_estimator.predict(test_array_fun_new)\n",
        "print(\"accuracy score: \", accuracy_score(train_fun.funny_label, y_train_funny))\n",
        "print(\"confusion matrix: \")\n",
        "print(confusion_matrix(train_fun.funny_label, y_train_funny))\n",
        "print(\"accuracy score: \", accuracy_score(val.funny_label, y_val_funny))\n",
        "print(\"confusion matrix: \")\n",
        "print(confusion_matrix(val.funny_label, y_val_funny))\n",
        "print(\"accuracy score: \", accuracy_score(test.funny_label, y_test_funny))\n",
        "print(\"confusion matrix: \")\n",
        "print(confusion_matrix(test.funny_label, y_test_funny))"
      ]
    },
    {
      "cell_type": "code",
      "execution_count": null,
      "metadata": {
        "colab": {
          "base_uri": "https://localhost:8080/"
        },
        "id": "3__Q_ZbRFDlN",
        "outputId": "0446cc0b-d7dd-4954-fce4-a44fa1c6421f"
      },
      "outputs": [
        {
          "name": "stdout",
          "output_type": "stream",
          "text": [
            "accuracy score:  0.6565705645503814\n",
            "confusion matrix: \n",
            "[[146076  30507]\n",
            " [ 70566  47156]]\n",
            "accuracy score:  0.7721236457770666\n",
            "confusion matrix: \n",
            "[[71812 17344]\n",
            " [ 5015  3948]]\n",
            "accuracy score:  0.769375078824568\n",
            "confusion matrix: \n",
            "[[92773 23663]\n",
            " [ 5595  4833]]\n"
          ]
        }
      ],
      "source": [
        "dt_estimator = tree.DecisionTreeClassifier(max_depth=7,min_samples_split=50)\n",
        "dt_estimator.fit(train_array_fun_new, train_fun.funny_label)\n",
        "y_train_funny = dt_estimator.predict(train_array_fun_new)\n",
        "y_val_funny = dt_estimator.predict(val_array_fun_new)\n",
        "y_test_funny = dt_estimator.predict(test_array_fun_new)\n",
        "print(\"accuracy score: \", accuracy_score(train_fun.funny_label, y_train_funny))\n",
        "print(\"confusion matrix: \")\n",
        "print(confusion_matrix(train_fun.funny_label, y_train_funny))\n",
        "print(\"accuracy score: \", accuracy_score(val.funny_label, y_val_funny))\n",
        "print(\"confusion matrix: \")\n",
        "print(confusion_matrix(val.funny_label, y_val_funny))\n",
        "print(\"accuracy score: \", accuracy_score(test.funny_label, y_test_funny))\n",
        "print(\"confusion matrix: \")\n",
        "print(confusion_matrix(test.funny_label, y_test_funny))"
      ]
    },
    {
      "cell_type": "markdown",
      "metadata": {
        "id": "MieuYHSR3q3o"
      },
      "source": [
        "# Cool"
      ]
    },
    {
      "cell_type": "code",
      "execution_count": null,
      "metadata": {
        "colab": {
          "base_uri": "https://localhost:8080/"
        },
        "id": "dPxw03gw3tKH",
        "outputId": "19729864-4299-4f3b-f2da-7f3ea0f61ec9"
      },
      "outputs": [
        {
          "output_type": "stream",
          "name": "stdout",
          "text": [
            "(376157, 60)\n",
            "(98119, 60)\n",
            "(126864, 60)\n"
          ]
        }
      ],
      "source": [
        "model = 'doc2vec'\n",
        "with open(f'./text_processing/cool_processed_text/cool_{model}_train.npy', 'rb') as f:\n",
        "    train_array = np.load(f)\n",
        "with open(f'./text_processing/cool_processed_text/cool_{model}_val.npy', 'rb') as f:\n",
        "    val_array = np.load(f)\n",
        "with open(f'./text_processing/cool_processed_text/cool_{model}_test.npy', 'rb') as f:\n",
        "    test_array = np.load(f)\n",
        "    \n",
        "for i in [train_array_cool, val_array_cool, test_array_cool]:\n",
        "    print(i.shape)"
      ]
    },
    {
      "cell_type": "code",
      "execution_count": null,
      "metadata": {
        "colab": {
          "base_uri": "https://localhost:8080/"
        },
        "id": "fv6jQFe63vvZ",
        "outputId": "e19139f0-2ff4-4fea-eb0a-7bba0f0218d0"
      },
      "outputs": [
        {
          "output_type": "execute_result",
          "data": {
            "text/plain": [
              "(376157, 64)"
            ]
          },
          "metadata": {},
          "execution_count": 26
        }
      ],
      "source": [
        "train_array_cool_new = np.zeros((train_array_cool.shape[0],train_array_cool.shape[1]+4))\n",
        "train_array_cool_new[:,:-4] = train_array_cool\n",
        "train_array_cool_new[:,-4] = np.array(train_cool.l1.tolist())\n",
        "train_array_cool_new[:,-3] = np.array(train_cool.l2.tolist())\n",
        "train_array_cool_new[:,-2] = np.array(train_cool.l3.tolist())\n",
        "train_array_cool_new[:,-1] = np.array(train_cool.l4.tolist())\n",
        "train_array_cool_new.shape"
      ]
    },
    {
      "cell_type": "code",
      "execution_count": null,
      "metadata": {
        "colab": {
          "base_uri": "https://localhost:8080/"
        },
        "id": "vMieMKCQ3-XD",
        "outputId": "e2282bea-9efb-4a27-c4e8-b44b038a8fca"
      },
      "outputs": [
        {
          "output_type": "execute_result",
          "data": {
            "text/plain": [
              "(98119, 64)"
            ]
          },
          "metadata": {},
          "execution_count": 27
        }
      ],
      "source": [
        "val_array_cool_new = np.zeros((val_array_cool.shape[0],val_array_cool.shape[1]+4))\n",
        "val_array_cool_new[:,:-4] = val_array_cool\n",
        "val_array_cool_new[:,-4] = np.array(val.l1.tolist())\n",
        "val_array_cool_new[:,-3] = np.array(val.l2.tolist())\n",
        "val_array_cool_new[:,-2] = np.array(val.l3.tolist())\n",
        "val_array_cool_new[:,-1] = np.array(val.l4.tolist())\n",
        "val_array_cool_new.shape"
      ]
    },
    {
      "cell_type": "code",
      "execution_count": null,
      "metadata": {
        "colab": {
          "base_uri": "https://localhost:8080/"
        },
        "id": "xSANDBc04DRJ",
        "outputId": "4a978bd8-403b-4afa-a2f2-00f01b3fcc0a"
      },
      "outputs": [
        {
          "output_type": "execute_result",
          "data": {
            "text/plain": [
              "(126864, 64)"
            ]
          },
          "metadata": {},
          "execution_count": 28
        }
      ],
      "source": [
        "test_array_cool_new = np.zeros((test_array_cool.shape[0],test_array_cool.shape[1]+4))\n",
        "test_array_cool_new[:,:-4] = test_array_cool\n",
        "test_array_cool_new[:,-4] = np.array(test.l1.tolist())\n",
        "test_array_cool_new[:,-3] = np.array(test.l2.tolist())\n",
        "test_array_cool_new[:,-2] = np.array(test.l3.tolist())\n",
        "test_array_cool_new[:,-1] = np.array(test.l4.tolist())\n",
        "test_array_cool_new.shape"
      ]
    },
    {
      "cell_type": "code",
      "execution_count": null,
      "metadata": {
        "colab": {
          "base_uri": "https://localhost:8080/"
        },
        "id": "AC8MbvNn6q1t",
        "outputId": "35c4b5d3-f48c-4e2a-c329-3b3d3b47bc1c"
      },
      "outputs": [
        {
          "name": "stdout",
          "output_type": "stream",
          "text": [
            "accuracy score:  1.0\n",
            "confusion matrix: \n",
            "[[225694      0]\n",
            " [     0 150463]]\n",
            "accuracy score:  0.5927700037709313\n",
            "confusion matrix: \n",
            "[[51849 32450]\n",
            " [ 7507  6313]]\n",
            "accuracy score:  0.5965285660234582\n",
            "confusion matrix: \n",
            "[[67864 42531]\n",
            " [ 8655  7814]]\n"
          ]
        }
      ],
      "source": [
        "dt_estimator = tree.DecisionTreeClassifier()\n",
        "dt_estimator.fit(train_array_cool_new, train_cool.cool_label)\n",
        "y_train_cool = dt_estimator.predict(train_array_cool_new)\n",
        "y_val_cool = dt_estimator.predict(val_array_cool_new)\n",
        "y_test_cool = dt_estimator.predict(test_array_cool_new)\n",
        "print(\"accuracy score: \", accuracy_score(train_cool.cool_label, y_train_cool))\n",
        "print(\"confusion matrix: \")\n",
        "print(confusion_matrix(train_cool.cool_label, y_train_cool))\n",
        "print(\"accuracy score: \", accuracy_score(val.cool_label, y_val_cool))\n",
        "print(\"confusion matrix: \")\n",
        "print(confusion_matrix(val.cool_label, y_val_cool))\n",
        "print(\"accuracy score: \", accuracy_score(test.cool_label, y_test_cool))\n",
        "print(\"confusion matrix: \")\n",
        "print(confusion_matrix(test.cool_label, y_test_cool))"
      ]
    },
    {
      "cell_type": "code",
      "execution_count": null,
      "metadata": {
        "colab": {
          "base_uri": "https://localhost:8080/"
        },
        "id": "xyw4-l636_1k",
        "outputId": "0a35afaf-baa6-48a0-a7df-f42d12c3109e"
      },
      "outputs": [
        {
          "name": "stdout",
          "output_type": "stream",
          "text": [
            "accuracy score:  0.7647976775654847\n",
            "confusion matrix: \n",
            "[[205967  19727]\n",
            " [ 68746  81717]]\n",
            "accuracy score:  0.7155902526523915\n",
            "confusion matrix: \n",
            "[[65162 19137]\n",
            " [ 8769  5051]]\n",
            "accuracy score:  0.7212999747761383\n",
            "confusion matrix: \n",
            "[[84960 25435]\n",
            " [ 9922  6547]]\n"
          ]
        }
      ],
      "source": [
        "dt_estimator = tree.DecisionTreeClassifier(max_depth=20)\n",
        "dt_estimator.fit(train_array_cool_new, train_cool.cool_label)\n",
        "y_train_cool = dt_estimator.predict(train_array_cool_new)\n",
        "y_val_cool = dt_estimator.predict(val_array_cool_new)\n",
        "y_test_cool = dt_estimator.predict(test_array_cool_new)\n",
        "print(\"accuracy score: \", accuracy_score(train_cool.cool_label, y_train_cool))\n",
        "print(\"confusion matrix: \")\n",
        "print(confusion_matrix(train_cool.cool_label, y_train_cool))\n",
        "print(\"accuracy score: \", accuracy_score(val.cool_label, y_val_cool))\n",
        "print(\"confusion matrix: \")\n",
        "print(confusion_matrix(val.cool_label, y_val_cool))\n",
        "print(\"accuracy score: \", accuracy_score(test.cool_label, y_test_cool))\n",
        "print(\"confusion matrix: \")\n",
        "print(confusion_matrix(test.cool_label, y_test_cool))"
      ]
    },
    {
      "cell_type": "code",
      "execution_count": null,
      "metadata": {
        "colab": {
          "base_uri": "https://localhost:8080/"
        },
        "id": "6y69xJbl7Equ",
        "outputId": "f47f8d6a-aa78-4590-d74d-9ce8772ad7d2"
      },
      "outputs": [
        {
          "name": "stdout",
          "output_type": "stream",
          "text": [
            "accuracy score:  0.9131905029017139\n",
            "confusion matrix: \n",
            "[[220951   4743]\n",
            " [ 27911 122552]]\n",
            "accuracy score:  0.6548374932479948\n",
            "confusion matrix: \n",
            "[[58566 25733]\n",
            " [ 8134  5686]]\n",
            "accuracy score:  0.6570027746247951\n",
            "confusion matrix: \n",
            "[[76228 34167]\n",
            " [ 9347  7122]]\n"
          ]
        }
      ],
      "source": [
        "dt_estimator = tree.DecisionTreeClassifier(max_depth=30)\n",
        "dt_estimator.fit(train_array_cool_new, train_cool.cool_label)\n",
        "y_train_cool = dt_estimator.predict(train_array_cool_new)\n",
        "y_val_cool = dt_estimator.predict(val_array_cool_new)\n",
        "y_test_cool = dt_estimator.predict(test_array_cool_new)\n",
        "print(\"accuracy score: \", accuracy_score(train_cool.cool_label, y_train_cool))\n",
        "print(\"confusion matrix: \")\n",
        "print(confusion_matrix(train_cool.cool_label, y_train_cool))\n",
        "print(\"accuracy score: \", accuracy_score(val.cool_label, y_val_cool))\n",
        "print(\"confusion matrix: \")\n",
        "print(confusion_matrix(val.cool_label, y_val_cool))\n",
        "print(\"accuracy score: \", accuracy_score(test.cool_label, y_test_cool))\n",
        "print(\"confusion matrix: \")\n",
        "print(confusion_matrix(test.cool_label, y_test_cool))"
      ]
    },
    {
      "cell_type": "code",
      "execution_count": null,
      "metadata": {
        "colab": {
          "base_uri": "https://localhost:8080/"
        },
        "id": "EQIhWhGf7L0I",
        "outputId": "650c65b3-613f-4712-96c9-a2d450a07c60"
      },
      "outputs": [
        {
          "name": "stdout",
          "output_type": "stream",
          "text": [
            "accuracy score:  0.6383903529643208\n",
            "confusion matrix: \n",
            "[[196903  28791]\n",
            " [107231  43232]]\n",
            "accuracy score:  0.7868506609321334\n",
            "confusion matrix: \n",
            "[[73068 11231]\n",
            " [ 9683  4137]]\n",
            "accuracy score:  0.7937555177197629\n",
            "confusion matrix: \n",
            "[[95250 15145]\n",
            " [11020  5449]]\n"
          ]
        }
      ],
      "source": [
        "dt_estimator = tree.DecisionTreeClassifier(max_depth=7, min_samples_split=50)\n",
        "dt_estimator.fit(train_array_cool_new, train_cool.cool_label)\n",
        "y_train_cool = dt_estimator.predict(train_array_cool_new)\n",
        "y_val_cool = dt_estimator.predict(val_array_cool_new)\n",
        "y_test_cool = dt_estimator.predict(test_array_cool_new)\n",
        "print(\"accuracy score: \", accuracy_score(train_cool.cool_label, y_train_cool))\n",
        "print(\"confusion matrix: \")\n",
        "print(confusion_matrix(train_cool.cool_label, y_train_cool))\n",
        "print(\"accuracy score: \", accuracy_score(val.cool_label, y_val_cool))\n",
        "print(\"confusion matrix: \")\n",
        "print(confusion_matrix(val.cool_label, y_val_cool))\n",
        "print(\"accuracy score: \", accuracy_score(test.cool_label, y_test_cool))\n",
        "print(\"confusion matrix: \")\n",
        "print(confusion_matrix(test.cool_label, y_test_cool))"
      ]
    },
    {
      "cell_type": "code",
      "execution_count": null,
      "metadata": {
        "id": "hdLIkuqX_225",
        "colab": {
          "base_uri": "https://localhost:8080/"
        },
        "outputId": "08de9c09-2db0-4aae-f4e2-f5aa0f7f0095"
      },
      "outputs": [
        {
          "output_type": "stream",
          "name": "stdout",
          "text": [
            "accuracy score:  0.6378453677586753\n",
            "confusion matrix: \n",
            "[[190207  35487]\n",
            " [100740  49723]]\n",
            "accuracy score:  0.7681590721470867\n",
            "confusion matrix: \n",
            "[[70610 13689]\n",
            " [ 9059  4761]]\n",
            "accuracy score:  0.7733478370538529\n",
            "confusion matrix: \n",
            "[[91889 18506]\n",
            " [10248  6221]]\n"
          ]
        }
      ],
      "source": [
        "dt_estimator = ensemble.GradientBoostingClassifier(learning_rate=0.1)\n",
        "dt_estimator.fit(train_array_cool_new, train_cool.cool_label)\n",
        "y_train_cool = dt_estimator.predict(train_array_cool_new)\n",
        "y_val_cool = dt_estimator.predict(val_array_cool_new)\n",
        "y_test_cool = dt_estimator.predict(test_array_cool_new)\n",
        "print(\"accuracy score: \", accuracy_score(train_cool.cool_label, y_train_cool))\n",
        "print(\"confusion matrix: \")\n",
        "print(confusion_matrix(train_cool.cool_label, y_train_cool))\n",
        "print(\"accuracy score: \", accuracy_score(val.cool_label, y_val_cool))\n",
        "print(\"confusion matrix: \")\n",
        "print(confusion_matrix(val.cool_label, y_val_cool))\n",
        "print(\"accuracy score: \", accuracy_score(test.cool_label, y_test_cool))\n",
        "print(\"confusion matrix: \")\n",
        "print(confusion_matrix(test.cool_label, y_test_cool))"
      ]
    },
    {
      "cell_type": "code",
      "execution_count": null,
      "metadata": {
        "id": "jZ6_eNkF__a_",
        "colab": {
          "base_uri": "https://localhost:8080/"
        },
        "outputId": "73185438-f6ec-4ee7-b171-2bd60a4b43ed"
      },
      "outputs": [
        {
          "output_type": "stream",
          "name": "stdout",
          "text": [
            "accuracy score:  0.6357478393330445\n",
            "confusion matrix: \n",
            "[[190107  35587]\n",
            " [101429  49034]]\n",
            "accuracy score:  0.7678431292614071\n",
            "confusion matrix: \n",
            "[[70639 13660]\n",
            " [ 9119  4701]]\n",
            "accuracy score:  0.774041493252617\n",
            "confusion matrix: \n",
            "[[92005 18390]\n",
            " [10276  6193]]\n"
          ]
        }
      ],
      "source": [
        "dt_estimator = ensemble.AdaBoostClassifier(learning_rate=0.1)\n",
        "dt_estimator.fit(train_array_cool_new, train_cool.cool_label)\n",
        "y_train_cool = dt_estimator.predict(train_array_cool_new)\n",
        "y_val_cool = dt_estimator.predict(val_array_cool_new)\n",
        "y_test_cool = dt_estimator.predict(test_array_cool_new)\n",
        "print(\"accuracy score: \", accuracy_score(train_cool.cool_label, y_train_cool))\n",
        "print(\"confusion matrix: \")\n",
        "print(confusion_matrix(train_cool.cool_label, y_train_cool))\n",
        "print(\"accuracy score: \", accuracy_score(val.cool_label, y_val_cool))\n",
        "print(\"confusion matrix: \")\n",
        "print(confusion_matrix(val.cool_label, y_val_cool))\n",
        "print(\"accuracy score: \", accuracy_score(test.cool_label, y_test_cool))\n",
        "print(\"confusion matrix: \")\n",
        "print(confusion_matrix(test.cool_label, y_test_cool))"
      ]
    },
    {
      "cell_type": "code",
      "execution_count": null,
      "metadata": {
        "id": "L0gTvQKqAGBp",
        "colab": {
          "base_uri": "https://localhost:8080/"
        },
        "outputId": "a559343b-2704-4a30-896d-d6c2f209c45d"
      },
      "outputs": [
        {
          "output_type": "stream",
          "name": "stdout",
          "text": [
            "accuracy score:  0.6378054907924084\n",
            "confusion matrix: \n",
            "[[190851  34843]\n",
            " [101399  49064]]\n",
            "accuracy score:  0.7696062943976192\n",
            "confusion matrix: \n",
            "[[70803 13496]\n",
            " [ 9110  4710]]\n",
            "accuracy score:  0.7751450372051961\n",
            "confusion matrix: \n",
            "[[92174 18221]\n",
            " [10305  6164]]\n"
          ]
        }
      ],
      "source": [
        "dt_estimator = XGBClassifier()\n",
        "dt_estimator.fit(train_array_cool_new, train_cool.cool_label)\n",
        "y_train_cool = dt_estimator.predict(train_array_cool_new)\n",
        "y_val_cool = dt_estimator.predict(val_array_cool_new)\n",
        "y_test_cool = dt_estimator.predict(test_array_cool_new)\n",
        "print(\"accuracy score: \", accuracy_score(train_cool.cool_label, y_train_cool))\n",
        "print(\"confusion matrix: \")\n",
        "print(confusion_matrix(train_cool.cool_label, y_train_cool))\n",
        "print(\"accuracy score: \", accuracy_score(val.cool_label, y_val_cool))\n",
        "print(\"confusion matrix: \")\n",
        "print(confusion_matrix(val.cool_label, y_val_cool))\n",
        "print(\"accuracy score: \", accuracy_score(test.cool_label, y_test_cool))\n",
        "print(\"confusion matrix: \")\n",
        "print(confusion_matrix(test.cool_label, y_test_cool))"
      ]
    }
  ],
  "metadata": {
    "colab": {
      "name": "model_len.ipynb",
      "provenance": [],
      "collapsed_sections": []
    },
    "kernelspec": {
      "display_name": "Python 3",
      "name": "python3"
    },
    "language_info": {
      "name": "python"
    }
  },
  "nbformat": 4,
  "nbformat_minor": 0
}