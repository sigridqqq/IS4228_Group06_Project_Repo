{
  "nbformat": 4,
  "nbformat_minor": 0,
  "metadata": {
    "colab": {
      "name": "model_len_sent.ipynb",
      "provenance": [],
      "collapsed_sections": []
    },
    "kernelspec": {
      "name": "python3",
      "display_name": "Python 3"
    },
    "language_info": {
      "name": "python"
    }
  },
  "cells": [
    {
      "cell_type": "code",
      "execution_count": null,
      "metadata": {
        "colab": {
          "base_uri": "https://localhost:8080/"
        },
        "id": "6FfYLPqji6LG",
        "outputId": "cdce3420-29e8-4710-c332-112dc63ac5d5"
      },
      "outputs": [
        {
          "output_type": "stream",
          "name": "stdout",
          "text": [
            "Collecting afinn\n",
            "  Downloading afinn-0.1.tar.gz (52 kB)\n",
            "\u001b[?25l\r\u001b[K     |██████▎                         | 10 kB 23.2 MB/s eta 0:00:01\r\u001b[K     |████████████▌                   | 20 kB 26.8 MB/s eta 0:00:01\r\u001b[K     |██████████████████▊             | 30 kB 30.8 MB/s eta 0:00:01\r\u001b[K     |█████████████████████████       | 40 kB 34.0 MB/s eta 0:00:01\r\u001b[K     |███████████████████████████████▏| 51 kB 36.7 MB/s eta 0:00:01\r\u001b[K     |████████████████████████████████| 52 kB 1.3 MB/s \n",
            "\u001b[?25hBuilding wheels for collected packages: afinn\n",
            "  Building wheel for afinn (setup.py) ... \u001b[?25l\u001b[?25hdone\n",
            "  Created wheel for afinn: filename=afinn-0.1-py3-none-any.whl size=53447 sha256=5f9ed50d6ceaf327a026c01333eadc2453114f3af7148a1c9381f5ace1b1c34d\n",
            "  Stored in directory: /root/.cache/pip/wheels/9d/16/3a/9f0953027434eab5dadf3f33ab3298fa95afa8292fcf7aba75\n",
            "Successfully built afinn\n",
            "Installing collected packages: afinn\n",
            "Successfully installed afinn-0.1\n"
          ]
        }
      ],
      "source": [
        "!pip install afinn"
      ]
    },
    {
      "cell_type": "code",
      "source": [
        "import numpy as np \n",
        "import json \n",
        "import pandas as pd \n",
        "from sklearn.feature_extraction.text import CountVectorizer, HashingVectorizer, TfidfVectorizer\n",
        "from scipy import sparse \n",
        "import pickle \n",
        "from afinn import Afinn"
      ],
      "metadata": {
        "id": "EP2vXQB0jKkc"
      },
      "execution_count": null,
      "outputs": []
    },
    {
      "cell_type": "code",
      "source": [
        "train_path ='./data/train_processed.csv'\n",
        "val_path =  './data/val_processed.csv'\n",
        "test_path = './data/test_processed.csv'\n",
        "\n",
        "train = pd.read_csv(train_path)\n",
        "val = pd.read_csv(val_path)\n",
        "test = pd.read_csv(test_path)"
      ],
      "metadata": {
        "id": "9rC0UkmwjPgB"
      },
      "execution_count": null,
      "outputs": []
    },
    {
      "cell_type": "code",
      "source": [
        "train.head()"
      ],
      "metadata": {
        "colab": {
          "base_uri": "https://localhost:8080/",
          "height": 620
        },
        "id": "p67qrzFIjSHA",
        "outputId": "61904804-357b-4952-802d-693ce8f27d28"
      },
      "execution_count": null,
      "outputs": [
        {
          "output_type": "execute_result",
          "data": {
            "text/plain": [
              "   Unnamed: 0  Unnamed: 0.1  Unnamed: 0.1.1               review_id  \\\n",
              "0           0             0               0  O4RZMP8IFyJTNfRp0QXEsw   \n",
              "1           1             1               1  66KqTwiQ1oB9-aTsoEN35Q   \n",
              "2           2             2               2  3KQ3_xutS5R3mX7HsPWpgw   \n",
              "3           3             3               3  p659sFGjbL8chCRZPPyFmg   \n",
              "4           4             4               4  1XEm85LhDeiUHdG0R_rXSQ   \n",
              "\n",
              "                  user_id             business_id  stars        date  \\\n",
              "0  u0LXt3Uea_GidxRW1xcsfg  vcxvQyAggPqxcHwvJXvjGg      4  2017-01-04   \n",
              "1  u0LXt3Uea_GidxRW1xcsfg  DKiRDPtQ5cTN-eX1oEgA9w      3  2017-01-04   \n",
              "2  u0LXt3Uea_GidxRW1xcsfg  zkU-WMio8g6dpRJ2Y2xqvQ      4  2017-01-04   \n",
              "3  u0LXt3Uea_GidxRW1xcsfg  3RlylOY452bA8rwliPUeUQ      4  2017-01-04   \n",
              "4  u0LXt3Uea_GidxRW1xcsfg  sTV4qyjDkY5cLvx2omtLyw      4  2017-02-07   \n",
              "\n",
              "                                                text  useful  ...    year  \\\n",
              "0  Love this place!\\n\\nThe cakes are delicious bu...     0.0  ...  2017.0   \n",
              "1  It's a pub... nice and clean one.\\n\\nCame here...     0.0  ...  2017.0   \n",
              "2  Came here for dim sum - it's one of those mark...     0.0  ...  2017.0   \n",
              "3  My sister loves this place! Probably comes by ...     1.0  ...  2017.0   \n",
              "4  Nice addition to the Distillery district! Stum...     1.0  ...  2017.0   \n",
              "\n",
              "   month  day  language                                       cleaned_text  \\\n",
              "0    1.0  4.0        en  Love place cake delicious really rich cute cup...   \n",
              "1    1.0  4.0        en  pub nice clean one Came grab food girl since T...   \n",
              "2    1.0  4.0        en  Came dim sum one mark sheet order dim sum pret...   \n",
              "3    1.0  4.0        en  sister love place Probably come week every two...   \n",
              "4    2.0  7.0        en  Nice addition Distillery district Stumbled upo...   \n",
              "\n",
              "  funny_label cool_label  useful_label  funny_sampled_flag  cool_sampled_flag  \n",
              "0           0          0             0                   0                  0  \n",
              "1           0          0             0                   0                  0  \n",
              "2           0          0             0                   0                  0  \n",
              "3           0          0             1                   1                  1  \n",
              "4           0          0             1                   0                  0  \n",
              "\n",
              "[5 rows x 22 columns]"
            ],
            "text/html": [
              "\n",
              "  <div id=\"df-08781d60-6b1c-4068-aea0-7129ff477341\">\n",
              "    <div class=\"colab-df-container\">\n",
              "      <div>\n",
              "<style scoped>\n",
              "    .dataframe tbody tr th:only-of-type {\n",
              "        vertical-align: middle;\n",
              "    }\n",
              "\n",
              "    .dataframe tbody tr th {\n",
              "        vertical-align: top;\n",
              "    }\n",
              "\n",
              "    .dataframe thead th {\n",
              "        text-align: right;\n",
              "    }\n",
              "</style>\n",
              "<table border=\"1\" class=\"dataframe\">\n",
              "  <thead>\n",
              "    <tr style=\"text-align: right;\">\n",
              "      <th></th>\n",
              "      <th>Unnamed: 0</th>\n",
              "      <th>Unnamed: 0.1</th>\n",
              "      <th>Unnamed: 0.1.1</th>\n",
              "      <th>review_id</th>\n",
              "      <th>user_id</th>\n",
              "      <th>business_id</th>\n",
              "      <th>stars</th>\n",
              "      <th>date</th>\n",
              "      <th>text</th>\n",
              "      <th>useful</th>\n",
              "      <th>...</th>\n",
              "      <th>year</th>\n",
              "      <th>month</th>\n",
              "      <th>day</th>\n",
              "      <th>language</th>\n",
              "      <th>cleaned_text</th>\n",
              "      <th>funny_label</th>\n",
              "      <th>cool_label</th>\n",
              "      <th>useful_label</th>\n",
              "      <th>funny_sampled_flag</th>\n",
              "      <th>cool_sampled_flag</th>\n",
              "    </tr>\n",
              "  </thead>\n",
              "  <tbody>\n",
              "    <tr>\n",
              "      <th>0</th>\n",
              "      <td>0</td>\n",
              "      <td>0</td>\n",
              "      <td>0</td>\n",
              "      <td>O4RZMP8IFyJTNfRp0QXEsw</td>\n",
              "      <td>u0LXt3Uea_GidxRW1xcsfg</td>\n",
              "      <td>vcxvQyAggPqxcHwvJXvjGg</td>\n",
              "      <td>4</td>\n",
              "      <td>2017-01-04</td>\n",
              "      <td>Love this place!\\n\\nThe cakes are delicious bu...</td>\n",
              "      <td>0.0</td>\n",
              "      <td>...</td>\n",
              "      <td>2017.0</td>\n",
              "      <td>1.0</td>\n",
              "      <td>4.0</td>\n",
              "      <td>en</td>\n",
              "      <td>Love place cake delicious really rich cute cup...</td>\n",
              "      <td>0</td>\n",
              "      <td>0</td>\n",
              "      <td>0</td>\n",
              "      <td>0</td>\n",
              "      <td>0</td>\n",
              "    </tr>\n",
              "    <tr>\n",
              "      <th>1</th>\n",
              "      <td>1</td>\n",
              "      <td>1</td>\n",
              "      <td>1</td>\n",
              "      <td>66KqTwiQ1oB9-aTsoEN35Q</td>\n",
              "      <td>u0LXt3Uea_GidxRW1xcsfg</td>\n",
              "      <td>DKiRDPtQ5cTN-eX1oEgA9w</td>\n",
              "      <td>3</td>\n",
              "      <td>2017-01-04</td>\n",
              "      <td>It's a pub... nice and clean one.\\n\\nCame here...</td>\n",
              "      <td>0.0</td>\n",
              "      <td>...</td>\n",
              "      <td>2017.0</td>\n",
              "      <td>1.0</td>\n",
              "      <td>4.0</td>\n",
              "      <td>en</td>\n",
              "      <td>pub nice clean one Came grab food girl since T...</td>\n",
              "      <td>0</td>\n",
              "      <td>0</td>\n",
              "      <td>0</td>\n",
              "      <td>0</td>\n",
              "      <td>0</td>\n",
              "    </tr>\n",
              "    <tr>\n",
              "      <th>2</th>\n",
              "      <td>2</td>\n",
              "      <td>2</td>\n",
              "      <td>2</td>\n",
              "      <td>3KQ3_xutS5R3mX7HsPWpgw</td>\n",
              "      <td>u0LXt3Uea_GidxRW1xcsfg</td>\n",
              "      <td>zkU-WMio8g6dpRJ2Y2xqvQ</td>\n",
              "      <td>4</td>\n",
              "      <td>2017-01-04</td>\n",
              "      <td>Came here for dim sum - it's one of those mark...</td>\n",
              "      <td>0.0</td>\n",
              "      <td>...</td>\n",
              "      <td>2017.0</td>\n",
              "      <td>1.0</td>\n",
              "      <td>4.0</td>\n",
              "      <td>en</td>\n",
              "      <td>Came dim sum one mark sheet order dim sum pret...</td>\n",
              "      <td>0</td>\n",
              "      <td>0</td>\n",
              "      <td>0</td>\n",
              "      <td>0</td>\n",
              "      <td>0</td>\n",
              "    </tr>\n",
              "    <tr>\n",
              "      <th>3</th>\n",
              "      <td>3</td>\n",
              "      <td>3</td>\n",
              "      <td>3</td>\n",
              "      <td>p659sFGjbL8chCRZPPyFmg</td>\n",
              "      <td>u0LXt3Uea_GidxRW1xcsfg</td>\n",
              "      <td>3RlylOY452bA8rwliPUeUQ</td>\n",
              "      <td>4</td>\n",
              "      <td>2017-01-04</td>\n",
              "      <td>My sister loves this place! Probably comes by ...</td>\n",
              "      <td>1.0</td>\n",
              "      <td>...</td>\n",
              "      <td>2017.0</td>\n",
              "      <td>1.0</td>\n",
              "      <td>4.0</td>\n",
              "      <td>en</td>\n",
              "      <td>sister love place Probably come week every two...</td>\n",
              "      <td>0</td>\n",
              "      <td>0</td>\n",
              "      <td>1</td>\n",
              "      <td>1</td>\n",
              "      <td>1</td>\n",
              "    </tr>\n",
              "    <tr>\n",
              "      <th>4</th>\n",
              "      <td>4</td>\n",
              "      <td>4</td>\n",
              "      <td>4</td>\n",
              "      <td>1XEm85LhDeiUHdG0R_rXSQ</td>\n",
              "      <td>u0LXt3Uea_GidxRW1xcsfg</td>\n",
              "      <td>sTV4qyjDkY5cLvx2omtLyw</td>\n",
              "      <td>4</td>\n",
              "      <td>2017-02-07</td>\n",
              "      <td>Nice addition to the Distillery district! Stum...</td>\n",
              "      <td>1.0</td>\n",
              "      <td>...</td>\n",
              "      <td>2017.0</td>\n",
              "      <td>2.0</td>\n",
              "      <td>7.0</td>\n",
              "      <td>en</td>\n",
              "      <td>Nice addition Distillery district Stumbled upo...</td>\n",
              "      <td>0</td>\n",
              "      <td>0</td>\n",
              "      <td>1</td>\n",
              "      <td>0</td>\n",
              "      <td>0</td>\n",
              "    </tr>\n",
              "  </tbody>\n",
              "</table>\n",
              "<p>5 rows × 22 columns</p>\n",
              "</div>\n",
              "      <button class=\"colab-df-convert\" onclick=\"convertToInteractive('df-08781d60-6b1c-4068-aea0-7129ff477341')\"\n",
              "              title=\"Convert this dataframe to an interactive table.\"\n",
              "              style=\"display:none;\">\n",
              "        \n",
              "  <svg xmlns=\"http://www.w3.org/2000/svg\" height=\"24px\"viewBox=\"0 0 24 24\"\n",
              "       width=\"24px\">\n",
              "    <path d=\"M0 0h24v24H0V0z\" fill=\"none\"/>\n",
              "    <path d=\"M18.56 5.44l.94 2.06.94-2.06 2.06-.94-2.06-.94-.94-2.06-.94 2.06-2.06.94zm-11 1L8.5 8.5l.94-2.06 2.06-.94-2.06-.94L8.5 2.5l-.94 2.06-2.06.94zm10 10l.94 2.06.94-2.06 2.06-.94-2.06-.94-.94-2.06-.94 2.06-2.06.94z\"/><path d=\"M17.41 7.96l-1.37-1.37c-.4-.4-.92-.59-1.43-.59-.52 0-1.04.2-1.43.59L10.3 9.45l-7.72 7.72c-.78.78-.78 2.05 0 2.83L4 21.41c.39.39.9.59 1.41.59.51 0 1.02-.2 1.41-.59l7.78-7.78 2.81-2.81c.8-.78.8-2.07 0-2.86zM5.41 20L4 18.59l7.72-7.72 1.47 1.35L5.41 20z\"/>\n",
              "  </svg>\n",
              "      </button>\n",
              "      \n",
              "  <style>\n",
              "    .colab-df-container {\n",
              "      display:flex;\n",
              "      flex-wrap:wrap;\n",
              "      gap: 12px;\n",
              "    }\n",
              "\n",
              "    .colab-df-convert {\n",
              "      background-color: #E8F0FE;\n",
              "      border: none;\n",
              "      border-radius: 50%;\n",
              "      cursor: pointer;\n",
              "      display: none;\n",
              "      fill: #1967D2;\n",
              "      height: 32px;\n",
              "      padding: 0 0 0 0;\n",
              "      width: 32px;\n",
              "    }\n",
              "\n",
              "    .colab-df-convert:hover {\n",
              "      background-color: #E2EBFA;\n",
              "      box-shadow: 0px 1px 2px rgba(60, 64, 67, 0.3), 0px 1px 3px 1px rgba(60, 64, 67, 0.15);\n",
              "      fill: #174EA6;\n",
              "    }\n",
              "\n",
              "    [theme=dark] .colab-df-convert {\n",
              "      background-color: #3B4455;\n",
              "      fill: #D2E3FC;\n",
              "    }\n",
              "\n",
              "    [theme=dark] .colab-df-convert:hover {\n",
              "      background-color: #434B5C;\n",
              "      box-shadow: 0px 1px 3px 1px rgba(0, 0, 0, 0.15);\n",
              "      filter: drop-shadow(0px 1px 2px rgba(0, 0, 0, 0.3));\n",
              "      fill: #FFFFFF;\n",
              "    }\n",
              "  </style>\n",
              "\n",
              "      <script>\n",
              "        const buttonEl =\n",
              "          document.querySelector('#df-08781d60-6b1c-4068-aea0-7129ff477341 button.colab-df-convert');\n",
              "        buttonEl.style.display =\n",
              "          google.colab.kernel.accessAllowed ? 'block' : 'none';\n",
              "\n",
              "        async function convertToInteractive(key) {\n",
              "          const element = document.querySelector('#df-08781d60-6b1c-4068-aea0-7129ff477341');\n",
              "          const dataTable =\n",
              "            await google.colab.kernel.invokeFunction('convertToInteractive',\n",
              "                                                     [key], {});\n",
              "          if (!dataTable) return;\n",
              "\n",
              "          const docLinkHtml = 'Like what you see? Visit the ' +\n",
              "            '<a target=\"_blank\" href=https://colab.research.google.com/notebooks/data_table.ipynb>data table notebook</a>'\n",
              "            + ' to learn more about interactive tables.';\n",
              "          element.innerHTML = '';\n",
              "          dataTable['output_type'] = 'display_data';\n",
              "          await google.colab.output.renderOutput(dataTable, element);\n",
              "          const docLink = document.createElement('div');\n",
              "          docLink.innerHTML = docLinkHtml;\n",
              "          element.appendChild(docLink);\n",
              "        }\n",
              "      </script>\n",
              "    </div>\n",
              "  </div>\n",
              "  "
            ]
          },
          "metadata": {},
          "execution_count": 5
        }
      ]
    },
    {
      "cell_type": "code",
      "source": [
        "train['l1']=train.text.str.split().apply(len)\n",
        "train['l2']=train.cleaned_text.str.split().apply(len)\n",
        "train['l3']=train.text.apply(len)\n",
        "train['l4']=train.cleaned_text.apply(len)"
      ],
      "metadata": {
        "id": "adO1rSC5jVJT"
      },
      "execution_count": null,
      "outputs": []
    },
    {
      "cell_type": "code",
      "source": [
        "afinn_emo = Afinn(emoticons=True)\n",
        "afinn_scores = [afinn_emo.score(text) for text in train.text]\n",
        "train['afinn'] = afinn_scores\n",
        "train[['afinn', 'text']].head(10)"
      ],
      "metadata": {
        "colab": {
          "base_uri": "https://localhost:8080/",
          "height": 359
        },
        "id": "rTut1qrdj4Gg",
        "outputId": "1991dd98-f495-462d-b64b-564187fda456"
      },
      "execution_count": null,
      "outputs": [
        {
          "output_type": "execute_result",
          "data": {
            "text/plain": [
              "   afinn                                               text\n",
              "0   16.0  Love this place!\\n\\nThe cakes are delicious bu...\n",
              "1   18.0  It's a pub... nice and clean one.\\n\\nCame here...\n",
              "2    2.0  Came here for dim sum - it's one of those mark...\n",
              "3   10.0  My sister loves this place! Probably comes by ...\n",
              "4   13.0  Nice addition to the Distillery district! Stum...\n",
              "5    4.0  my sister is a big fan of the noodles here as ...\n",
              "6    3.0  This is a most stop for me and my girlfriend w...\n",
              "7   13.0  Saw that this was in my neighbourhood so decid...\n",
              "8   15.0  Suzanne was able to get my business five T.V. ...\n",
              "9    8.0  The saga has finished....because I needed to e..."
            ],
            "text/html": [
              "\n",
              "  <div id=\"df-d21263ce-901d-41a4-85da-b4ad6dab1b1a\">\n",
              "    <div class=\"colab-df-container\">\n",
              "      <div>\n",
              "<style scoped>\n",
              "    .dataframe tbody tr th:only-of-type {\n",
              "        vertical-align: middle;\n",
              "    }\n",
              "\n",
              "    .dataframe tbody tr th {\n",
              "        vertical-align: top;\n",
              "    }\n",
              "\n",
              "    .dataframe thead th {\n",
              "        text-align: right;\n",
              "    }\n",
              "</style>\n",
              "<table border=\"1\" class=\"dataframe\">\n",
              "  <thead>\n",
              "    <tr style=\"text-align: right;\">\n",
              "      <th></th>\n",
              "      <th>afinn</th>\n",
              "      <th>text</th>\n",
              "    </tr>\n",
              "  </thead>\n",
              "  <tbody>\n",
              "    <tr>\n",
              "      <th>0</th>\n",
              "      <td>16.0</td>\n",
              "      <td>Love this place!\\n\\nThe cakes are delicious bu...</td>\n",
              "    </tr>\n",
              "    <tr>\n",
              "      <th>1</th>\n",
              "      <td>18.0</td>\n",
              "      <td>It's a pub... nice and clean one.\\n\\nCame here...</td>\n",
              "    </tr>\n",
              "    <tr>\n",
              "      <th>2</th>\n",
              "      <td>2.0</td>\n",
              "      <td>Came here for dim sum - it's one of those mark...</td>\n",
              "    </tr>\n",
              "    <tr>\n",
              "      <th>3</th>\n",
              "      <td>10.0</td>\n",
              "      <td>My sister loves this place! Probably comes by ...</td>\n",
              "    </tr>\n",
              "    <tr>\n",
              "      <th>4</th>\n",
              "      <td>13.0</td>\n",
              "      <td>Nice addition to the Distillery district! Stum...</td>\n",
              "    </tr>\n",
              "    <tr>\n",
              "      <th>5</th>\n",
              "      <td>4.0</td>\n",
              "      <td>my sister is a big fan of the noodles here as ...</td>\n",
              "    </tr>\n",
              "    <tr>\n",
              "      <th>6</th>\n",
              "      <td>3.0</td>\n",
              "      <td>This is a most stop for me and my girlfriend w...</td>\n",
              "    </tr>\n",
              "    <tr>\n",
              "      <th>7</th>\n",
              "      <td>13.0</td>\n",
              "      <td>Saw that this was in my neighbourhood so decid...</td>\n",
              "    </tr>\n",
              "    <tr>\n",
              "      <th>8</th>\n",
              "      <td>15.0</td>\n",
              "      <td>Suzanne was able to get my business five T.V. ...</td>\n",
              "    </tr>\n",
              "    <tr>\n",
              "      <th>9</th>\n",
              "      <td>8.0</td>\n",
              "      <td>The saga has finished....because I needed to e...</td>\n",
              "    </tr>\n",
              "  </tbody>\n",
              "</table>\n",
              "</div>\n",
              "      <button class=\"colab-df-convert\" onclick=\"convertToInteractive('df-d21263ce-901d-41a4-85da-b4ad6dab1b1a')\"\n",
              "              title=\"Convert this dataframe to an interactive table.\"\n",
              "              style=\"display:none;\">\n",
              "        \n",
              "  <svg xmlns=\"http://www.w3.org/2000/svg\" height=\"24px\"viewBox=\"0 0 24 24\"\n",
              "       width=\"24px\">\n",
              "    <path d=\"M0 0h24v24H0V0z\" fill=\"none\"/>\n",
              "    <path d=\"M18.56 5.44l.94 2.06.94-2.06 2.06-.94-2.06-.94-.94-2.06-.94 2.06-2.06.94zm-11 1L8.5 8.5l.94-2.06 2.06-.94-2.06-.94L8.5 2.5l-.94 2.06-2.06.94zm10 10l.94 2.06.94-2.06 2.06-.94-2.06-.94-.94-2.06-.94 2.06-2.06.94z\"/><path d=\"M17.41 7.96l-1.37-1.37c-.4-.4-.92-.59-1.43-.59-.52 0-1.04.2-1.43.59L10.3 9.45l-7.72 7.72c-.78.78-.78 2.05 0 2.83L4 21.41c.39.39.9.59 1.41.59.51 0 1.02-.2 1.41-.59l7.78-7.78 2.81-2.81c.8-.78.8-2.07 0-2.86zM5.41 20L4 18.59l7.72-7.72 1.47 1.35L5.41 20z\"/>\n",
              "  </svg>\n",
              "      </button>\n",
              "      \n",
              "  <style>\n",
              "    .colab-df-container {\n",
              "      display:flex;\n",
              "      flex-wrap:wrap;\n",
              "      gap: 12px;\n",
              "    }\n",
              "\n",
              "    .colab-df-convert {\n",
              "      background-color: #E8F0FE;\n",
              "      border: none;\n",
              "      border-radius: 50%;\n",
              "      cursor: pointer;\n",
              "      display: none;\n",
              "      fill: #1967D2;\n",
              "      height: 32px;\n",
              "      padding: 0 0 0 0;\n",
              "      width: 32px;\n",
              "    }\n",
              "\n",
              "    .colab-df-convert:hover {\n",
              "      background-color: #E2EBFA;\n",
              "      box-shadow: 0px 1px 2px rgba(60, 64, 67, 0.3), 0px 1px 3px 1px rgba(60, 64, 67, 0.15);\n",
              "      fill: #174EA6;\n",
              "    }\n",
              "\n",
              "    [theme=dark] .colab-df-convert {\n",
              "      background-color: #3B4455;\n",
              "      fill: #D2E3FC;\n",
              "    }\n",
              "\n",
              "    [theme=dark] .colab-df-convert:hover {\n",
              "      background-color: #434B5C;\n",
              "      box-shadow: 0px 1px 3px 1px rgba(0, 0, 0, 0.15);\n",
              "      filter: drop-shadow(0px 1px 2px rgba(0, 0, 0, 0.3));\n",
              "      fill: #FFFFFF;\n",
              "    }\n",
              "  </style>\n",
              "\n",
              "      <script>\n",
              "        const buttonEl =\n",
              "          document.querySelector('#df-d21263ce-901d-41a4-85da-b4ad6dab1b1a button.colab-df-convert');\n",
              "        buttonEl.style.display =\n",
              "          google.colab.kernel.accessAllowed ? 'block' : 'none';\n",
              "\n",
              "        async function convertToInteractive(key) {\n",
              "          const element = document.querySelector('#df-d21263ce-901d-41a4-85da-b4ad6dab1b1a');\n",
              "          const dataTable =\n",
              "            await google.colab.kernel.invokeFunction('convertToInteractive',\n",
              "                                                     [key], {});\n",
              "          if (!dataTable) return;\n",
              "\n",
              "          const docLinkHtml = 'Like what you see? Visit the ' +\n",
              "            '<a target=\"_blank\" href=https://colab.research.google.com/notebooks/data_table.ipynb>data table notebook</a>'\n",
              "            + ' to learn more about interactive tables.';\n",
              "          element.innerHTML = '';\n",
              "          dataTable['output_type'] = 'display_data';\n",
              "          await google.colab.output.renderOutput(dataTable, element);\n",
              "          const docLink = document.createElement('div');\n",
              "          docLink.innerHTML = docLinkHtml;\n",
              "          element.appendChild(docLink);\n",
              "        }\n",
              "      </script>\n",
              "    </div>\n",
              "  </div>\n",
              "  "
            ]
          },
          "metadata": {},
          "execution_count": 10
        }
      ]
    },
    {
      "cell_type": "code",
      "source": [
        "# train_use = train\n",
        "train_fun = train[train.funny_sampled_flag==1]\n",
        "train_cool = train[train.cool_sampled_flag==1]"
      ],
      "metadata": {
        "id": "Q4uhM1DgjWK6"
      },
      "execution_count": null,
      "outputs": []
    },
    {
      "cell_type": "code",
      "source": [
        "val['l1']=val.text.str.split().apply(len)\n",
        "val['l2']=val.cleaned_text.str.split().apply(len)\n",
        "val['l3']=val.text.apply(len)\n",
        "val['l4']=val.cleaned_text.apply(len)\n",
        "\n",
        "test['l1']=test.text.str.split().apply(len)\n",
        "test['l2']=test.cleaned_text.str.split().apply(len)\n",
        "test['l3']=test.text.apply(len)\n",
        "test['l4']=test.cleaned_text.apply(len)"
      ],
      "metadata": {
        "id": "aEN1-frbjYWU"
      },
      "execution_count": null,
      "outputs": []
    },
    {
      "cell_type": "code",
      "source": [
        "afinn_emo = Afinn(emoticons=True)\n",
        "afinn_scores = [afinn_emo.score(text) for text in val.text]\n",
        "val['afinn'] = afinn_scores\n",
        "\n",
        "afinn_emo = Afinn(emoticons=True)\n",
        "afinn_scores = [afinn_emo.score(text) for text in test.text]\n",
        "test['afinn'] = afinn_scores"
      ],
      "metadata": {
        "id": "O5hTt4hFkLye"
      },
      "execution_count": null,
      "outputs": []
    },
    {
      "cell_type": "code",
      "source": [
        "for i in [train, train_fun, train_cool, val, test]:\n",
        "    i.dropna(inplace=True)\n",
        "    print(i.shape)"
      ],
      "metadata": {
        "colab": {
          "base_uri": "https://localhost:8080/"
        },
        "id": "bQCrXgF5ja3T",
        "outputId": "623358b8-f6ef-4189-fbc0-0005a828aa2f"
      },
      "execution_count": null,
      "outputs": [
        {
          "output_type": "stream",
          "name": "stdout",
          "text": [
            "(896945, 27)\n"
          ]
        },
        {
          "output_type": "stream",
          "name": "stderr",
          "text": [
            "/usr/local/lib/python3.7/dist-packages/pandas/util/_decorators.py:311: SettingWithCopyWarning: \n",
            "A value is trying to be set on a copy of a slice from a DataFrame\n",
            "\n",
            "See the caveats in the documentation: https://pandas.pydata.org/pandas-docs/stable/user_guide/indexing.html#returning-a-view-versus-a-copy\n",
            "  return func(*args, **kwargs)\n"
          ]
        },
        {
          "output_type": "stream",
          "name": "stdout",
          "text": [
            "(294305, 27)\n",
            "(376157, 27)\n",
            "(98119, 24)\n",
            "(126864, 24)\n"
          ]
        }
      ]
    },
    {
      "cell_type": "code",
      "source": [
        "train.reset_index(inplace=True)\n",
        "train_fun.reset_index(inplace=True)\n",
        "train_cool.reset_index(inplace=True)\n",
        "val.reset_index(inplace=True)\n",
        "test.reset_index(inplace=True)"
      ],
      "metadata": {
        "id": "IP0g2OBejdLt"
      },
      "execution_count": null,
      "outputs": []
    },
    {
      "cell_type": "code",
      "source": [
        "from sklearn import tree, ensemble\n",
        "from sklearn.metrics import accuracy_score, roc_auc_score, confusion_matrix, mean_squared_error\n",
        "from xgboost import XGBClassifier"
      ],
      "metadata": {
        "id": "gGurHT0ykw8A"
      },
      "execution_count": null,
      "outputs": []
    },
    {
      "cell_type": "markdown",
      "source": [
        "# Useful"
      ],
      "metadata": {
        "id": "OUrOQv25k0is"
      }
    },
    {
      "cell_type": "code",
      "source": [
        "model = 'doc2vec'\n",
        "with open(f'./text_processing/useful_processed_text/useful_{model}_train.npy', 'rb') as f:\n",
        "    train_array = np.load(f)\n",
        "with open(f'./text_processing/useful_processed_text/useful_{model}_val.npy', 'rb') as f:\n",
        "    val_array = np.load(f)\n",
        "with open(f'./text_processing/useful_processed_text/useful_{model}_test.npy', 'rb') as f:\n",
        "    test_array = np.load(f)\n",
        "\n",
        "for i in [train_array, val_array, test_array]:\n",
        "    print(i.shape)"
      ],
      "metadata": {
        "colab": {
          "base_uri": "https://localhost:8080/"
        },
        "id": "PSgkP2v0k2Yv",
        "outputId": "271b9b1e-f8e4-4826-c79b-3db3108488a6"
      },
      "execution_count": null,
      "outputs": [
        {
          "output_type": "stream",
          "name": "stdout",
          "text": [
            "(896945, 60)\n",
            "(98119, 60)\n",
            "(126864, 60)\n"
          ]
        }
      ]
    },
    {
      "cell_type": "code",
      "source": [
        "train_array_new = np.zeros((train_array.shape[0],train_array.shape[1]+5))\n",
        "train_array_new[:,:-5] = train_array\n",
        "train_array_new[:,-5] = np.array(train.afinn.tolist())\n",
        "train_array_new[:,-4] = np.array(train.l1.tolist())\n",
        "train_array_new[:,-3] = np.array(train.l2.tolist())\n",
        "train_array_new[:,-2] = np.array(train.l3.tolist())\n",
        "train_array_new[:,-1] = np.array(train.l4.tolist())\n",
        "train_array_new.shape"
      ],
      "metadata": {
        "colab": {
          "base_uri": "https://localhost:8080/"
        },
        "id": "ZSPBfLdBk5gx",
        "outputId": "1f400830-4b05-4ced-d04e-0dc6a5a1c5ab"
      },
      "execution_count": null,
      "outputs": [
        {
          "output_type": "execute_result",
          "data": {
            "text/plain": [
              "(896945, 65)"
            ]
          },
          "metadata": {},
          "execution_count": 18
        }
      ]
    },
    {
      "cell_type": "code",
      "source": [
        "val_array_new = np.zeros((val_array.shape[0],val_array.shape[1]+5))\n",
        "val_array_new[:,:-5] = val_array\n",
        "val_array_new[:,-5] = np.array(val.afinn.tolist())\n",
        "val_array_new[:,-4] = np.array(val.l1.tolist())\n",
        "val_array_new[:,-3] = np.array(val.l2.tolist())\n",
        "val_array_new[:,-2] = np.array(val.l3.tolist())\n",
        "val_array_new[:,-1] = np.array(val.l4.tolist())\n",
        "val_array_new.shape"
      ],
      "metadata": {
        "colab": {
          "base_uri": "https://localhost:8080/"
        },
        "id": "vpxVu2PqlGYY",
        "outputId": "af716425-ee12-4077-ad57-3a26c5e52148"
      },
      "execution_count": null,
      "outputs": [
        {
          "output_type": "execute_result",
          "data": {
            "text/plain": [
              "(98119, 65)"
            ]
          },
          "metadata": {},
          "execution_count": 19
        }
      ]
    },
    {
      "cell_type": "code",
      "source": [
        "test_array_new = np.zeros((test_array.shape[0],test_array.shape[1]+5))\n",
        "test_array_new[:,:-5] = test_array\n",
        "test_array_new[:,-5] = np.array(test.afinn.tolist())\n",
        "test_array_new[:,-4] = np.array(test.l1.tolist())\n",
        "test_array_new[:,-3] = np.array(test.l2.tolist())\n",
        "test_array_new[:,-2] = np.array(test.l3.tolist())\n",
        "test_array_new[:,-1] = np.array(test.l4.tolist())\n",
        "test_array_new.shape"
      ],
      "metadata": {
        "colab": {
          "base_uri": "https://localhost:8080/"
        },
        "id": "Xs-nnpqVlSV5",
        "outputId": "b1b20a28-fb89-4e84-abde-d9b193684981"
      },
      "execution_count": null,
      "outputs": [
        {
          "output_type": "execute_result",
          "data": {
            "text/plain": [
              "(126864, 65)"
            ]
          },
          "metadata": {},
          "execution_count": 20
        }
      ]
    },
    {
      "cell_type": "code",
      "source": [
        "dt_estimator = tree.DecisionTreeClassifier()\n",
        "dt_estimator.fit(train_array_new, train.useful_label)\n",
        "y_train_useful = dt_estimator.predict(train_array_new)\n",
        "y_val_useful = dt_estimator.predict(val_array_new)\n",
        "y_test_useful = dt_estimator.predict(test_array_new)\n",
        "print(\"accuracy score: \", accuracy_score(train.useful_label, y_train_useful))\n",
        "print(\"confusion matrix: \")\n",
        "print(confusion_matrix(train.useful_label, y_train_useful))\n",
        "print(\"accuracy score: \", accuracy_score(val.useful_label, y_val_useful))\n",
        "print(\"confusion matrix: \")\n",
        "print(confusion_matrix(val.useful_label, y_val_useful))\n",
        "print(\"accuracy score: \", accuracy_score(test.useful_label, y_test_useful))\n",
        "print(\"confusion matrix: \")\n",
        "print(confusion_matrix(test.useful_label, y_test_useful))"
      ],
      "metadata": {
        "colab": {
          "base_uri": "https://localhost:8080/"
        },
        "id": "YNf4w3Zxlb0x",
        "outputId": "864a708b-5e18-4b53-b7eb-68f43c0ea6c4"
      },
      "execution_count": null,
      "outputs": [
        {
          "output_type": "stream",
          "name": "stdout",
          "text": [
            "accuracy score:  1.0\n",
            "confusion matrix: \n",
            "[[594845      0]\n",
            " [     0 302100]]\n",
            "accuracy score:  0.6065797653869281\n",
            "confusion matrix: \n",
            "[[49152 24449]\n",
            " [14153 10365]]\n",
            "accuracy score:  0.6149813974019422\n",
            "confusion matrix: \n",
            "[[66391 33639]\n",
            " [15206 11628]]\n"
          ]
        }
      ]
    },
    {
      "cell_type": "code",
      "source": [
        "dt_estimator = tree.DecisionTreeClassifier(max_depth=10)\n",
        "dt_estimator.fit(train_array_new, train.useful_label)\n",
        "y_train_useful = dt_estimator.predict(train_array_new)\n",
        "y_val_useful = dt_estimator.predict(val_array_new)\n",
        "y_test_useful = dt_estimator.predict(test_array_new)\n",
        "print(\"accuracy score: \", accuracy_score(train.useful_label, y_train_useful))\n",
        "print(\"confusion matrix: \")\n",
        "print(confusion_matrix(train.useful_label, y_train_useful))\n",
        "print(\"accuracy score: \", accuracy_score(val.useful_label, y_val_useful))\n",
        "print(\"confusion matrix: \")\n",
        "print(confusion_matrix(val.useful_label, y_val_useful))\n",
        "print(\"accuracy score: \", accuracy_score(test.useful_label, y_test_useful))\n",
        "print(\"confusion matrix: \")\n",
        "print(confusion_matrix(test.useful_label, y_test_useful))"
      ],
      "metadata": {
        "colab": {
          "base_uri": "https://localhost:8080/"
        },
        "id": "NaYx5hm0ljJ2",
        "outputId": "b61a0492-b2ad-4989-f02a-79110e2857e1"
      },
      "execution_count": null,
      "outputs": [
        {
          "output_type": "stream",
          "name": "stdout",
          "text": [
            "accuracy score:  0.6973415315320337\n",
            "confusion matrix: \n",
            "[[537629  57216]\n",
            " [214252  87848]]\n",
            "accuracy score:  0.7351889032705184\n",
            "confusion matrix: \n",
            "[[64866  8735]\n",
            " [17248  7270]]\n",
            "accuracy score:  0.7540831126245429\n",
            "confusion matrix: \n",
            "[[87049 12981]\n",
            " [18217  8617]]\n"
          ]
        }
      ]
    },
    {
      "cell_type": "code",
      "source": [
        "dt_estimator = tree.DecisionTreeClassifier(min_samples_split=130)\n",
        "dt_estimator.fit(train_array_new, train.useful_label)\n",
        "y_train_useful = dt_estimator.predict(train_array_new)\n",
        "y_val_useful = dt_estimator.predict(val_array_new)\n",
        "y_test_useful = dt_estimator.predict(test_array_new)\n",
        "print(\"accuracy score: \", accuracy_score(train.useful_label, y_train_useful))\n",
        "print(\"confusion matrix: \")\n",
        "print(confusion_matrix(train.useful_label, y_train_useful))\n",
        "print(\"accuracy score: \", accuracy_score(val.useful_label, y_val_useful))\n",
        "print(\"confusion matrix: \")\n",
        "print(confusion_matrix(val.useful_label, y_val_useful))\n",
        "print(\"accuracy score: \", accuracy_score(test.useful_label, y_test_useful))\n",
        "print(\"confusion matrix: \")\n",
        "print(confusion_matrix(test.useful_label, y_test_useful))"
      ],
      "metadata": {
        "colab": {
          "base_uri": "https://localhost:8080/"
        },
        "id": "N8CO3fNRlmF_",
        "outputId": "5b1c6a15-9fed-4f30-85f4-ab3270e0f7ab"
      },
      "execution_count": null,
      "outputs": [
        {
          "output_type": "stream",
          "name": "stdout",
          "text": [
            "accuracy score:  0.7619664527925346\n",
            "confusion matrix: \n",
            "[[524214  70631]\n",
            " [142872 159228]]\n",
            "accuracy score:  0.6699110264067102\n",
            "confusion matrix: \n",
            "[[56628 16973]\n",
            " [15415  9103]]\n",
            "accuracy score:  0.6829675873376214\n",
            "confusion matrix: \n",
            "[[76222 23808]\n",
            " [16412 10422]]\n"
          ]
        }
      ]
    },
    {
      "cell_type": "code",
      "source": [
        "dt_estimator = tree.DecisionTreeClassifier(max_depth=10,min_samples_split=130)\n",
        "dt_estimator.fit(train_array_new, train.useful_label)\n",
        "y_train_useful = dt_estimator.predict(train_array_new)\n",
        "y_val_useful = dt_estimator.predict(val_array_new)\n",
        "y_test_useful = dt_estimator.predict(test_array_new)\n",
        "print(\"accuracy score: \", accuracy_score(train.useful_label, y_train_useful))\n",
        "print(\"confusion matrix: \")\n",
        "print(confusion_matrix(train.useful_label, y_train_useful))\n",
        "print(\"accuracy score: \", accuracy_score(val.useful_label, y_val_useful))\n",
        "print(\"confusion matrix: \")\n",
        "print(confusion_matrix(val.useful_label, y_val_useful))\n",
        "print(\"accuracy score: \", accuracy_score(test.useful_label, y_test_useful))\n",
        "print(\"confusion matrix: \")\n",
        "print(confusion_matrix(test.useful_label, y_test_useful))"
      ],
      "metadata": {
        "colab": {
          "base_uri": "https://localhost:8080/"
        },
        "id": "mOAJ4QtYlo52",
        "outputId": "ca21ef23-9791-48da-b6ab-d9763047b5c9"
      },
      "execution_count": null,
      "outputs": [
        {
          "output_type": "stream",
          "name": "stdout",
          "text": [
            "accuracy score:  0.6965800578630796\n",
            "confusion matrix: \n",
            "[[537219  57626]\n",
            " [214525  87575]]\n",
            "accuracy score:  0.7349952608567148\n",
            "confusion matrix: \n",
            "[[64841  8760]\n",
            " [17242  7276]]\n",
            "accuracy score:  0.7540673477109345\n",
            "confusion matrix: \n",
            "[[87049 12981]\n",
            " [18219  8615]]\n"
          ]
        }
      ]
    },
    {
      "cell_type": "code",
      "source": [
        "dt_estimator = tree.DecisionTreeClassifier(max_depth=7, min_samples_split=200)\n",
        "dt_estimator.fit(train_array_new, train.useful_label)\n",
        "y_train_useful = dt_estimator.predict(train_array_new)\n",
        "y_val_useful = dt_estimator.predict(val_array_new)\n",
        "y_test_useful = dt_estimator.predict(test_array_new)\n",
        "print(\"accuracy score: \", accuracy_score(train.useful_label, y_train_useful))\n",
        "print(\"confusion matrix: \")\n",
        "print(confusion_matrix(train.useful_label, y_train_useful))\n",
        "print(\"accuracy score: \", accuracy_score(val.useful_label, y_val_useful))\n",
        "print(\"confusion matrix: \")\n",
        "print(confusion_matrix(val.useful_label, y_val_useful))\n",
        "print(\"accuracy score: \", accuracy_score(test.useful_label, y_test_useful))\n",
        "print(\"confusion matrix: \")\n",
        "print(confusion_matrix(test.useful_label, y_test_useful))"
      ],
      "metadata": {
        "colab": {
          "base_uri": "https://localhost:8080/"
        },
        "id": "FUHjkMBWlrhC",
        "outputId": "66f9b2f0-6294-4ee6-b151-bdfb8a9551df"
      },
      "execution_count": null,
      "outputs": [
        {
          "output_type": "stream",
          "name": "stdout",
          "text": [
            "accuracy score:  0.690077986944573\n",
            "confusion matrix: \n",
            "[[541101  53744]\n",
            " [224239  77861]]\n",
            "accuracy score:  0.74276134082084\n",
            "confusion matrix: \n",
            "[[66002  7599]\n",
            " [17641  6877]]\n",
            "accuracy score:  0.7629429940723925\n",
            "confusion matrix: \n",
            "[[88675 11355]\n",
            " [18719  8115]]\n"
          ]
        }
      ]
    },
    {
      "cell_type": "markdown",
      "source": [
        "# Funny"
      ],
      "metadata": {
        "id": "1HJltLE9ltts"
      }
    },
    {
      "cell_type": "code",
      "source": [
        "model = 'doc2vec'\n",
        "with open(f'./text_processing/funny_processed_text/funny_{model}_train.npy', 'rb') as f:\n",
        "    train_array = np.load(f)\n",
        "with open(f'./text_processing/funny_processed_text/funny_{model}_val.npy', 'rb') as f:\n",
        "    val_array = np.load(f)\n",
        "with open(f'./text_processing/funny_processed_text/funny_{model}_test.npy', 'rb') as f:\n",
        "    test_array = np.load(f)\n",
        "\n",
        "for i in [train_array_fun, val_array_fun, test_array_fun]:\n",
        "    print(i.shape)"
      ],
      "metadata": {
        "colab": {
          "base_uri": "https://localhost:8080/"
        },
        "id": "-yIGvG4wlvd1",
        "outputId": "80b0eb5d-37d2-4a8a-d8ef-68e406e24846"
      },
      "execution_count": null,
      "outputs": [
        {
          "output_type": "stream",
          "name": "stdout",
          "text": [
            "(294305, 60)\n",
            "(98119, 60)\n",
            "(126864, 60)\n"
          ]
        }
      ]
    },
    {
      "cell_type": "code",
      "source": [
        "train_array_fun_new = np.zeros((train_array_fun.shape[0],train_array_fun.shape[1]+5))\n",
        "train_array_fun_new[:,:-5] = train_array_fun\n",
        "train_array_fun_new[:,-5] = np.array(train_fun.afinn.tolist())\n",
        "train_array_fun_new[:,-4] = np.array(train_fun.l1.tolist())\n",
        "train_array_fun_new[:,-3] = np.array(train_fun.l2.tolist())\n",
        "train_array_fun_new[:,-2] = np.array(train_fun.l3.tolist())\n",
        "train_array_fun_new[:,-1] = np.array(train_fun.l4.tolist())\n",
        "train_array_fun_new.shape"
      ],
      "metadata": {
        "colab": {
          "base_uri": "https://localhost:8080/"
        },
        "id": "ju48dk59lzFc",
        "outputId": "ff96b85d-cb3b-460f-be30-7910e209af76"
      },
      "execution_count": null,
      "outputs": [
        {
          "output_type": "execute_result",
          "data": {
            "text/plain": [
              "(294305, 65)"
            ]
          },
          "metadata": {},
          "execution_count": 27
        }
      ]
    },
    {
      "cell_type": "code",
      "source": [
        "val_array_fun_new = np.zeros((val_array_fun.shape[0],val_array_fun.shape[1]+5))\n",
        "val_array_fun_new[:,:-5] = val_array_fun\n",
        "val_array_fun_new[:,-5] = np.array(val.afinn.tolist())\n",
        "val_array_fun_new[:,-4] = np.array(val.l1.tolist())\n",
        "val_array_fun_new[:,-3] = np.array(val.l2.tolist())\n",
        "val_array_fun_new[:,-2] = np.array(val.l3.tolist())\n",
        "val_array_fun_new[:,-1] = np.array(val.l4.tolist())\n",
        "val_array_fun_new.shape"
      ],
      "metadata": {
        "colab": {
          "base_uri": "https://localhost:8080/"
        },
        "id": "YLI-ahq0mGwG",
        "outputId": "090002b6-791b-465e-938c-ebedb21b7b8b"
      },
      "execution_count": null,
      "outputs": [
        {
          "output_type": "execute_result",
          "data": {
            "text/plain": [
              "(98119, 65)"
            ]
          },
          "metadata": {},
          "execution_count": 28
        }
      ]
    },
    {
      "cell_type": "code",
      "source": [
        "test_array_fun_new = np.zeros((test_array_fun.shape[0],test_array_fun.shape[1]+5))\n",
        "test_array_fun_new[:,:-5] = test_array_fun\n",
        "test_array_fun_new[:,-5] = np.array(test.afinn.tolist())\n",
        "test_array_fun_new[:,-4] = np.array(test.l1.tolist())\n",
        "test_array_fun_new[:,-3] = np.array(test.l2.tolist())\n",
        "test_array_fun_new[:,-2] = np.array(test.l3.tolist())\n",
        "test_array_fun_new[:,-1] = np.array(test.l4.tolist())\n",
        "test_array_fun_new.shape"
      ],
      "metadata": {
        "colab": {
          "base_uri": "https://localhost:8080/"
        },
        "id": "Q4vw2yl7mP3Z",
        "outputId": "30a595fa-b0c9-4540-c740-9a788bc2de67"
      },
      "execution_count": null,
      "outputs": [
        {
          "output_type": "execute_result",
          "data": {
            "text/plain": [
              "(126864, 65)"
            ]
          },
          "metadata": {},
          "execution_count": 29
        }
      ]
    },
    {
      "cell_type": "code",
      "source": [
        "dt_estimator = tree.DecisionTreeClassifier()\n",
        "dt_estimator.fit(train_array_fun_new, train_fun.funny_label)\n",
        "y_train_funny = dt_estimator.predict(train_array_fun_new)\n",
        "y_val_funny = dt_estimator.predict(val_array_fun_new)\n",
        "y_test_funny = dt_estimator.predict(test_array_fun_new)\n",
        "print(\"accuracy score: \", accuracy_score(train_fun.funny_label, y_train_funny))\n",
        "print(\"confusion matrix: \")\n",
        "print(confusion_matrix(train_fun.funny_label, y_train_funny))\n",
        "print(\"accuracy score: \", accuracy_score(val.funny_label, y_val_funny))\n",
        "print(\"confusion matrix: \")\n",
        "print(confusion_matrix(val.funny_label, y_val_funny))\n",
        "print(\"accuracy score: \", accuracy_score(test.funny_label, y_test_funny))\n",
        "print(\"confusion matrix: \")\n",
        "print(confusion_matrix(test.funny_label, y_test_funny))"
      ],
      "metadata": {
        "colab": {
          "base_uri": "https://localhost:8080/"
        },
        "id": "mY_jLhDsmyn1",
        "outputId": "8bfe3aa0-3af7-4444-bc79-81d050d24f10"
      },
      "execution_count": null,
      "outputs": [
        {
          "output_type": "stream",
          "name": "stdout",
          "text": [
            "accuracy score:  1.0\n",
            "confusion matrix: \n",
            "[[176583      0]\n",
            " [     0 117722]]\n",
            "accuracy score:  0.61749508250186\n",
            "confusion matrix: \n",
            "[[56221 32935]\n",
            " [ 4596  4367]]\n",
            "accuracy score:  0.6175510783200908\n",
            "confusion matrix: \n",
            "[[73228 43208]\n",
            " [ 5311  5117]]\n"
          ]
        }
      ]
    },
    {
      "cell_type": "code",
      "source": [
        "dt_estimator = tree.DecisionTreeClassifier(max_depth=10)\n",
        "dt_estimator.fit(train_array_fun_new, train_fun.funny_label)\n",
        "y_train_funny = dt_estimator.predict(train_array_fun_new)\n",
        "y_val_funny = dt_estimator.predict(val_array_fun_new)\n",
        "y_test_funny = dt_estimator.predict(test_array_fun_new)\n",
        "print(\"accuracy score: \", accuracy_score(train_fun.funny_label, y_train_funny))\n",
        "print(\"confusion matrix: \")\n",
        "print(confusion_matrix(train_fun.funny_label, y_train_funny))\n",
        "print(\"accuracy score: \", accuracy_score(val.funny_label, y_val_funny))\n",
        "print(\"confusion matrix: \")\n",
        "print(confusion_matrix(val.funny_label, y_val_funny))\n",
        "print(\"accuracy score: \", accuracy_score(test.funny_label, y_test_funny))\n",
        "print(\"confusion matrix: \")\n",
        "print(confusion_matrix(test.funny_label, y_test_funny))"
      ],
      "metadata": {
        "colab": {
          "base_uri": "https://localhost:8080/"
        },
        "id": "_39Etg-Xm4Pd",
        "outputId": "47bb83df-9058-4217-e4c1-d2eac8eba6fb"
      },
      "execution_count": null,
      "outputs": [
        {
          "output_type": "stream",
          "name": "stdout",
          "text": [
            "accuracy score:  0.668908105536773\n",
            "confusion matrix: \n",
            "[[145406  31177]\n",
            " [ 66265  51457]]\n",
            "accuracy score:  0.7651830939981044\n",
            "confusion matrix: \n",
            "[[71099 18057]\n",
            " [ 4983  3980]]\n",
            "accuracy score:  0.7616345062429057\n",
            "confusion matrix: \n",
            "[[91773 24663]\n",
            " [ 5577  4851]]\n"
          ]
        }
      ]
    },
    {
      "cell_type": "code",
      "source": [
        "dt_estimator = tree.DecisionTreeClassifier(max_depth=15)\n",
        "dt_estimator.fit(train_array_fun_new, train_fun.funny_label)\n",
        "y_train_funny = dt_estimator.predict(train_array_fun_new)\n",
        "y_val_funny = dt_estimator.predict(val_array_fun_new)\n",
        "y_test_funny = dt_estimator.predict(test_array_fun_new)\n",
        "print(\"accuracy score: \", accuracy_score(train_fun.funny_label, y_train_funny))\n",
        "print(\"confusion matrix: \")\n",
        "print(confusion_matrix(train_fun.funny_label, y_train_funny))\n",
        "print(\"accuracy score: \", accuracy_score(val.funny_label, y_val_funny))\n",
        "print(\"confusion matrix: \")\n",
        "print(confusion_matrix(val.funny_label, y_val_funny))\n",
        "print(\"accuracy score: \", accuracy_score(test.funny_label, y_test_funny))\n",
        "print(\"confusion matrix: \")\n",
        "print(confusion_matrix(test.funny_label, y_test_funny))"
      ],
      "metadata": {
        "colab": {
          "base_uri": "https://localhost:8080/"
        },
        "id": "u9S5ks3zm5A6",
        "outputId": "d029f3a9-8a98-407c-d845-a9d0d103db2c"
      },
      "execution_count": null,
      "outputs": [
        {
          "output_type": "stream",
          "name": "stdout",
          "text": [
            "accuracy score:  0.7289954299111466\n",
            "confusion matrix: \n",
            "[[146243  30340]\n",
            " [ 49418  68304]]\n",
            "accuracy score:  0.7124410155015848\n",
            "confusion matrix: \n",
            "[[65438 23718]\n",
            " [ 4497  4466]]\n",
            "accuracy score:  0.7070327279606508\n",
            "confusion matrix: \n",
            "[[84347 32089]\n",
            " [ 5078  5350]]\n"
          ]
        }
      ]
    },
    {
      "cell_type": "code",
      "source": [
        "dt_estimator = tree.DecisionTreeClassifier(max_depth=7, min_samples_split=50)\n",
        "dt_estimator.fit(train_array_fun_new, train_fun.funny_label)\n",
        "y_train_funny = dt_estimator.predict(train_array_fun_new)\n",
        "y_val_funny = dt_estimator.predict(val_array_fun_new)\n",
        "y_test_funny = dt_estimator.predict(test_array_fun_new)\n",
        "print(\"accuracy score: \", accuracy_score(train_fun.funny_label, y_train_funny))\n",
        "print(\"confusion matrix: \")\n",
        "print(confusion_matrix(train_fun.funny_label, y_train_funny))\n",
        "print(\"accuracy score: \", accuracy_score(val.funny_label, y_val_funny))\n",
        "print(\"confusion matrix: \")\n",
        "print(confusion_matrix(val.funny_label, y_val_funny))\n",
        "print(\"accuracy score: \", accuracy_score(test.funny_label, y_test_funny))\n",
        "print(\"confusion matrix: \")\n",
        "print(confusion_matrix(test.funny_label, y_test_funny))"
      ],
      "metadata": {
        "colab": {
          "base_uri": "https://localhost:8080/"
        },
        "id": "07IQuLjam8xp",
        "outputId": "1d9cb477-4e4f-4490-f064-b82d6025ba3c"
      },
      "execution_count": null,
      "outputs": [
        {
          "output_type": "stream",
          "name": "stdout",
          "text": [
            "accuracy score:  0.6563327160598699\n",
            "confusion matrix: \n",
            "[[144692  31891]\n",
            " [ 69252  48470]]\n",
            "accuracy score:  0.7753951833997493\n",
            "confusion matrix: \n",
            "[[72215 16941]\n",
            " [ 5097  3866]]\n",
            "accuracy score:  0.7740336107958128\n",
            "confusion matrix: \n",
            "[[93433 23003]\n",
            " [ 5664  4764]]\n"
          ]
        }
      ]
    },
    {
      "cell_type": "markdown",
      "source": [
        "# Cool"
      ],
      "metadata": {
        "id": "2tG2Hs2hnECT"
      }
    },
    {
      "cell_type": "code",
      "source": [
        "model = 'doc2vec'\n",
        "with open(f'./text_processing/cool_processed_text/cool_{model}_train.npy', 'rb') as f:\n",
        "    train_array = np.load(f)\n",
        "with open(f'./text_processing/cool_processed_text/cool_{model}_val.npy', 'rb') as f:\n",
        "    val_array = np.load(f)\n",
        "with open(f'./text_processing/cool_processed_text/cool_{model}_test.npy', 'rb') as f:\n",
        "    test_array = np.load(f)\n",
        "\n",
        "for i in [train_array_cool, val_array_cool, test_array_cool]:\n",
        "    print(i.shape)"
      ],
      "metadata": {
        "colab": {
          "base_uri": "https://localhost:8080/"
        },
        "id": "Kgt0v1Rqm_PC",
        "outputId": "fdf70027-01a0-4a14-f97a-8f6305da19b5"
      },
      "execution_count": null,
      "outputs": [
        {
          "output_type": "stream",
          "name": "stdout",
          "text": [
            "(376157, 60)\n",
            "(98119, 60)\n",
            "(126864, 60)\n"
          ]
        }
      ]
    },
    {
      "cell_type": "code",
      "source": [
        "train_array_cool_new = np.zeros((train_array_cool.shape[0],train_array_cool.shape[1]+5))\n",
        "train_array_cool_new[:,:-5] = train_array_cool\n",
        "train_array_cool_new[:,-5] = np.array(train_cool.afinn.tolist())\n",
        "train_array_cool_new[:,-4] = np.array(train_cool.l1.tolist())\n",
        "train_array_cool_new[:,-3] = np.array(train_cool.l2.tolist())\n",
        "train_array_cool_new[:,-2] = np.array(train_cool.l3.tolist())\n",
        "train_array_cool_new[:,-1] = np.array(train_cool.l4.tolist())\n",
        "train_array_cool_new.shape"
      ],
      "metadata": {
        "colab": {
          "base_uri": "https://localhost:8080/"
        },
        "id": "k_KRZ6_anKwC",
        "outputId": "9aa960f2-58cb-4adb-b7b6-034924ba569e"
      },
      "execution_count": null,
      "outputs": [
        {
          "output_type": "execute_result",
          "data": {
            "text/plain": [
              "(376157, 65)"
            ]
          },
          "metadata": {},
          "execution_count": 35
        }
      ]
    },
    {
      "cell_type": "code",
      "source": [
        "val_array_cool_new = np.zeros((val_array_cool.shape[0],val_array_cool.shape[1]+5))\n",
        "val_array_cool_new[:,:-5] = val_array_cool\n",
        "val_array_cool_new[:,-5] = np.array(val.afinn.tolist())\n",
        "val_array_cool_new[:,-4] = np.array(val.l1.tolist())\n",
        "val_array_cool_new[:,-3] = np.array(val.l2.tolist())\n",
        "val_array_cool_new[:,-2] = np.array(val.l3.tolist())\n",
        "val_array_cool_new[:,-1] = np.array(val.l4.tolist())\n",
        "val_array_cool_new.shape"
      ],
      "metadata": {
        "colab": {
          "base_uri": "https://localhost:8080/"
        },
        "id": "GAnT3fP-nYzu",
        "outputId": "8eed6c51-3000-4e19-e818-47db80ec89ea"
      },
      "execution_count": null,
      "outputs": [
        {
          "output_type": "execute_result",
          "data": {
            "text/plain": [
              "(98119, 65)"
            ]
          },
          "metadata": {},
          "execution_count": 36
        }
      ]
    },
    {
      "cell_type": "code",
      "source": [
        "test_array_cool_new = np.zeros((test_array_cool.shape[0],test_array_cool.shape[1]+5))\n",
        "test_array_cool_new[:,:-5] = test_array_cool\n",
        "test_array_cool_new[:,-5] = np.array(test.afinn.tolist())\n",
        "test_array_cool_new[:,-4] = np.array(test.l1.tolist())\n",
        "test_array_cool_new[:,-3] = np.array(test.l2.tolist())\n",
        "test_array_cool_new[:,-2] = np.array(test.l3.tolist())\n",
        "test_array_cool_new[:,-1] = np.array(test.l4.tolist())\n",
        "test_array_cool_new.shape"
      ],
      "metadata": {
        "colab": {
          "base_uri": "https://localhost:8080/"
        },
        "id": "9LncU44Zni3P",
        "outputId": "b5cf5ee8-ce1b-417b-b5fb-7f6da9c0c994"
      },
      "execution_count": null,
      "outputs": [
        {
          "output_type": "execute_result",
          "data": {
            "text/plain": [
              "(126864, 65)"
            ]
          },
          "metadata": {},
          "execution_count": 37
        }
      ]
    },
    {
      "cell_type": "code",
      "source": [
        "dt_estimator = tree.DecisionTreeClassifier()\n",
        "dt_estimator.fit(train_array_cool_new, train_cool.cool_label)\n",
        "y_train_cool = dt_estimator.predict(train_array_cool_new)\n",
        "y_val_cool = dt_estimator.predict(val_array_cool_new)\n",
        "y_test_cool = dt_estimator.predict(test_array_cool_new)\n",
        "print(\"accuracy score: \", accuracy_score(train_cool.cool_label, y_train_cool))\n",
        "print(\"confusion matrix: \")\n",
        "print(confusion_matrix(train_cool.cool_label, y_train_cool))\n",
        "print(\"accuracy score: \", accuracy_score(val.cool_label, y_val_cool))\n",
        "print(\"confusion matrix: \")\n",
        "print(confusion_matrix(val.cool_label, y_val_cool))\n",
        "print(\"accuracy score: \", accuracy_score(test.cool_label, y_test_cool))\n",
        "print(\"confusion matrix: \")\n",
        "print(confusion_matrix(test.cool_label, y_test_cool))"
      ],
      "metadata": {
        "colab": {
          "base_uri": "https://localhost:8080/"
        },
        "id": "v2AsxFF5nt1t",
        "outputId": "90742288-4820-4c27-c230-ce2eb7e3c047"
      },
      "execution_count": null,
      "outputs": [
        {
          "output_type": "stream",
          "name": "stdout",
          "text": [
            "accuracy score:  1.0\n",
            "confusion matrix: \n",
            "[[225694      0]\n",
            " [     0 150463]]\n",
            "accuracy score:  0.5992417370743689\n",
            "confusion matrix: \n",
            "[[52369 31930]\n",
            " [ 7392  6428]]\n",
            "accuracy score:  0.6030000630596545\n",
            "confusion matrix: \n",
            "[[68420 41975]\n",
            " [ 8390  8079]]\n"
          ]
        }
      ]
    },
    {
      "cell_type": "code",
      "source": [
        "dt_estimator = tree.DecisionTreeClassifier(max_depth=20)\n",
        "dt_estimator.fit(train_array_cool_new, train_cool.cool_label)\n",
        "y_train_cool = dt_estimator.predict(train_array_cool_new)\n",
        "y_val_cool = dt_estimator.predict(val_array_cool_new)\n",
        "y_test_cool = dt_estimator.predict(test_array_cool_new)\n",
        "print(\"accuracy score: \", accuracy_score(train_cool.cool_label, y_train_cool))\n",
        "print(\"confusion matrix: \")\n",
        "print(confusion_matrix(train_cool.cool_label, y_train_cool))\n",
        "print(\"accuracy score: \", accuracy_score(val.cool_label, y_val_cool))\n",
        "print(\"confusion matrix: \")\n",
        "print(confusion_matrix(val.cool_label, y_val_cool))\n",
        "print(\"accuracy score: \", accuracy_score(test.cool_label, y_test_cool))\n",
        "print(\"confusion matrix: \")\n",
        "print(confusion_matrix(test.cool_label, y_test_cool))"
      ],
      "metadata": {
        "colab": {
          "base_uri": "https://localhost:8080/"
        },
        "id": "fAaMLnQinw3w",
        "outputId": "37aafae7-82be-4a0e-f6cc-fd117f62a0d1"
      },
      "execution_count": null,
      "outputs": [
        {
          "output_type": "stream",
          "name": "stdout",
          "text": [
            "accuracy score:  0.7820112346706295\n",
            "confusion matrix: \n",
            "[[203770  21924]\n",
            " [ 60074  90389]]\n",
            "accuracy score:  0.7050316452470979\n",
            "confusion matrix: \n",
            "[[63509 20790]\n",
            " [ 8152  5668]]\n",
            "accuracy score:  0.709578761508387\n",
            "confusion matrix: \n",
            "[[82600 27795]\n",
            " [ 9049  7420]]\n"
          ]
        }
      ]
    },
    {
      "cell_type": "code",
      "source": [
        "dt_estimator = tree.DecisionTreeClassifier(max_depth=30)\n",
        "dt_estimator.fit(train_array_cool_new, train_cool.cool_label)\n",
        "y_train_cool = dt_estimator.predict(train_array_cool_new)\n",
        "y_val_cool = dt_estimator.predict(val_array_cool_new)\n",
        "y_test_cool = dt_estimator.predict(test_array_cool_new)\n",
        "print(\"accuracy score: \", accuracy_score(train_cool.cool_label, y_train_cool))\n",
        "print(\"confusion matrix: \")\n",
        "print(confusion_matrix(train_cool.cool_label, y_train_cool))\n",
        "print(\"accuracy score: \", accuracy_score(val.cool_label, y_val_cool))\n",
        "print(\"confusion matrix: \")\n",
        "print(confusion_matrix(val.cool_label, y_val_cool))\n",
        "print(\"accuracy score: \", accuracy_score(test.cool_label, y_test_cool))\n",
        "print(\"confusion matrix: \")\n",
        "print(confusion_matrix(test.cool_label, y_test_cool))"
      ],
      "metadata": {
        "colab": {
          "base_uri": "https://localhost:8080/"
        },
        "id": "9gX9jA0Hnzw4",
        "outputId": "dd1ab494-7e36-4c95-96bc-2373d53fa62e"
      },
      "execution_count": null,
      "outputs": [
        {
          "output_type": "stream",
          "name": "stdout",
          "text": [
            "accuracy score:  0.9274664568252087\n",
            "confusion matrix: \n",
            "[[217211   8483]\n",
            " [ 18801 131662]]\n",
            "accuracy score:  0.6345967651525188\n",
            "confusion matrix: \n",
            "[[56021 28278]\n",
            " [ 7575  6245]]\n",
            "accuracy score:  0.639992432841468\n",
            "confusion matrix: \n",
            "[[73262 37133]\n",
            " [ 8539  7930]]\n"
          ]
        }
      ]
    },
    {
      "cell_type": "code",
      "source": [
        "dt_estimator = tree.DecisionTreeClassifier(max_depth=7, min_samples_split=50)\n",
        "dt_estimator.fit(train_array_cool_new, train_cool.cool_label)\n",
        "y_train_cool = dt_estimator.predict(train_array_cool_new)\n",
        "y_val_cool = dt_estimator.predict(val_array_cool_new)\n",
        "y_test_cool = dt_estimator.predict(test_array_cool_new)\n",
        "print(\"accuracy score: \", accuracy_score(train_cool.cool_label, y_train_cool))\n",
        "print(\"confusion matrix: \")\n",
        "print(confusion_matrix(train_cool.cool_label, y_train_cool))\n",
        "print(\"accuracy score: \", accuracy_score(val.cool_label, y_val_cool))\n",
        "print(\"confusion matrix: \")\n",
        "print(confusion_matrix(val.cool_label, y_val_cool))\n",
        "print(\"accuracy score: \", accuracy_score(test.cool_label, y_test_cool))\n",
        "print(\"confusion matrix: \")\n",
        "print(confusion_matrix(test.cool_label, y_test_cool))"
      ],
      "metadata": {
        "colab": {
          "base_uri": "https://localhost:8080/"
        },
        "id": "lGnUtuX_n4lD",
        "outputId": "20ce93e7-b692-4a67-a025-38e3e7855ee2"
      },
      "execution_count": null,
      "outputs": [
        {
          "output_type": "stream",
          "name": "stdout",
          "text": [
            "accuracy score:  0.6552157742644693\n",
            "confusion matrix: \n",
            "[[192467  33227]\n",
            " [ 96466  53997]]\n",
            "accuracy score:  0.7780042601331036\n",
            "confusion matrix: \n",
            "[[71138 13161]\n",
            " [ 8621  5199]]\n",
            "accuracy score:  0.783729032664901\n",
            "confusion matrix: \n",
            "[[92502 17893]\n",
            " [ 9544  6925]]\n"
          ]
        }
      ]
    }
  ]
}