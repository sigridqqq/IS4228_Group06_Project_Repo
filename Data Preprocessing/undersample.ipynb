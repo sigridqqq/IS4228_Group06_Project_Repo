{
 "cells": [
  {
   "cell_type": "code",
   "execution_count": 1,
   "metadata": {},
   "outputs": [],
   "source": [
    "import numpy as np \n",
    "import json \n",
    "import pandas as pd \n",
    "from sklearn.feature_extraction.text import CountVectorizer, HashingVectorizer, TfidfVectorizer\n",
    "from scipy import sparse \n",
    "import pickle "
   ]
  },
  {
   "cell_type": "markdown",
   "metadata": {},
   "source": [
    "### prep data"
   ]
  },
  {
   "cell_type": "code",
   "execution_count": 2,
   "metadata": {},
   "outputs": [],
   "source": [
    "train_path = 'train.csv'\n",
    "val_path = 'val.csv'\n",
    "test_path = 'test.csv'\n",
    "\n",
    "train = pd.read_csv(train_path)\n",
    "val = pd.read_csv(val_path)\n",
    "test = pd.read_csv(test_path)"
   ]
  },
  {
   "cell_type": "code",
   "execution_count": 3,
   "metadata": {},
   "outputs": [
    {
     "name": "stdout",
     "output_type": "stream",
     "text": [
      "(896945, 15)\n",
      "(98119, 15)\n",
      "(126865, 15)\n"
     ]
    }
   ],
   "source": [
    "for i in [train, val, test]:\n",
    "    print(i.shape)\n",
    "for i in [train, val, test]:\n",
    "    i.dropna(inplace=True)"
   ]
  },
  {
   "cell_type": "code",
   "execution_count": 4,
   "metadata": {},
   "outputs": [
    {
     "name": "stdout",
     "output_type": "stream",
     "text": [
      "(896945, 15)\n",
      "(98119, 15)\n",
      "(126864, 15)\n"
     ]
    }
   ],
   "source": [
    "for i in [train, val, test]:\n",
    "    print(i.shape)"
   ]
  },
  {
   "cell_type": "code",
   "execution_count": 5,
   "metadata": {},
   "outputs": [],
   "source": [
    "# transform the columns to be predicted into binary values \n",
    "def transform(input):\n",
    "    if input == 0:\n",
    "        return 0 \n",
    "    else:\n",
    "        return 1\n",
    "\n",
    "train['funny_label'] = train['funny'].apply(transform)\n",
    "val['funny_label'] = val['funny'].apply(transform)\n",
    "test['funny_label'] = test['funny'].apply(transform)\n",
    "\n",
    "train['cool_label'] = train['cool'].apply(transform)\n",
    "val['cool_label'] = val['cool'].apply(transform)\n",
    "test['cool_label'] = test['cool'].apply(transform)\n",
    "\n",
    "train['useful_label'] = train['useful'].apply(transform)\n",
    "val['useful_label'] = val['useful'].apply(transform)\n",
    "test['useful_label'] = test['useful'].apply(transform)"
   ]
  },
  {
   "cell_type": "code",
   "execution_count": 32,
   "metadata": {},
   "outputs": [
    {
     "name": "stdout",
     "output_type": "stream",
     "text": [
      "176583 225694\n"
     ]
    }
   ],
   "source": [
    "# undersample the majority class, compute the target majority value\n",
    "# to keep a ratio of minority : majority = 4 : 6\n",
    "target_funny = int(train['funny_label'].value_counts().to_dict()[1] * (6/4))\n",
    "target_cool = int(train['cool_label'].value_counts().to_dict()[1] * (6/4))\n",
    "print(target_funny, target_cool)"
   ]
  },
  {
   "cell_type": "code",
   "execution_count": null,
   "metadata": {},
   "outputs": [],
   "source": [
    "# split into majority and minority\n",
    "majority_funny = train[train['funny_label'] == 0]\n",
    "majority_cool = train[train['cool_label'] == 0]\n",
    "minority_funny = train[train['funny_label'] == 1]\n",
    "minority_cool = train[train['cool_label'] == 1]"
   ]
  },
  {
   "cell_type": "code",
   "execution_count": 35,
   "metadata": {},
   "outputs": [],
   "source": [
    "# random undersampling of majority class\n",
    "undersample_majority_funny = majority_funny.sample(target_funny, random_state = 1)\n",
    "undersample_majority_cool = majority_cool.sample(target_cool, random_state = 1)"
   ]
  },
  {
   "cell_type": "code",
   "execution_count": 43,
   "metadata": {},
   "outputs": [],
   "source": [
    "# concat undersampled majority with minority to form new train df\n",
    "undersample_funny = pd.concat([undersample_majority_funny, minority_funny], ignore_index=True)\n",
    "undersample_cool = pd.concat([undersample_majority_cool, minority_cool], ignore_index=True)"
   ]
  },
  {
   "cell_type": "code",
   "execution_count": 45,
   "metadata": {},
   "outputs": [],
   "source": [
    "# add in column in train to indicate whether the record is sampled for training for funny and cool \n",
    "sampled_funny_id = list(undersample_funny['review_id'])\n",
    "sampled_cool_id = list(undersample_cool['review_id'])\n",
    "\n",
    "def check_funny(id):\n",
    "    if id in sampled_funny_id:\n",
    "        return 1\n",
    "    else:\n",
    "        return 0 \n",
    "\n",
    "def check_cool(id):\n",
    "    if id in sampled_cool_id:\n",
    "        return 1\n",
    "    else:\n",
    "        return 0 \n"
   ]
  },
  {
   "cell_type": "code",
   "execution_count": null,
   "metadata": {},
   "outputs": [],
   "source": [
    "# create two columns in the overall training data: funny_sampled_flag and cool_sampled_flag to indicate whether the row is sampled into training dataset or not \n",
    "import pandas as pd \n",
    "\n",
    "sampled_funny_id = list(undersample_funny['review_id'])\n",
    "sampled_cool_id = list(undersample_cool['review_id'])\n",
    "\n",
    "def check_funny(id):\n",
    "    if id in sampled_funny_id:\n",
    "        return 1\n",
    "    else:\n",
    "        return 0 \n",
    "\n",
    "def check_cool(id):\n",
    "    if id in sampled_cool_id:\n",
    "        return 1\n",
    "    else:\n",
    "        return 0 \n",
    "\n",
    "\n",
    "train['funny_sampled_flag'] = train['review_id'].apply(check_funny)\n",
    "train['cool_sampled_flag'] = train['review_id'].apply(check_cool)\n",
    "train.to_csv('data/train_processed.csv')\n",
    "val.to_csv('data/val_processed.csv')\n",
    "test.to_csv('data/test_processed.csv')"
   ]
  }
 ],
 "metadata": {
  "interpreter": {
   "hash": "31f2aee4e71d21fbe5cf8b01ff0e069b9275f58929596ceb00d14d90e3e16cd6"
  },
  "kernelspec": {
   "display_name": "Python 3.8.2 64-bit",
   "language": "python",
   "name": "python3"
  },
  "language_info": {
   "codemirror_mode": {
    "name": "ipython",
    "version": 3
   },
   "file_extension": ".py",
   "mimetype": "text/x-python",
   "name": "python",
   "nbconvert_exporter": "python",
   "pygments_lexer": "ipython3",
   "version": "3.7.0"
  },
  "orig_nbformat": 4
 },
 "nbformat": 4,
 "nbformat_minor": 2
}
